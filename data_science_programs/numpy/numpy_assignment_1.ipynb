{
 "cells": [
  {
   "cell_type": "code",
   "execution_count": 1,
   "id": "d10d71bc",
   "metadata": {},
   "outputs": [],
   "source": [
    "import numpy as np"
   ]
  },
  {
   "cell_type": "code",
   "execution_count": 77,
   "id": "1c9854ed",
   "metadata": {},
   "outputs": [
    {
     "name": "stdout",
     "output_type": "stream",
     "text": [
      "[[ 1  2  3  4  5]\n",
      " [ 6  7  8  9 10]\n",
      " [11 12 13 14 15]\n",
      " [16 17 18 19 20]\n",
      " [21 22 23 24 25]]\n"
     ]
    }
   ],
   "source": [
    "# 1)Write a Python program to take values from a source array and put them at specified indices of another array.\n",
    "array = np.arange(1,26).reshape(5,5)\n",
    "print(array)\n",
    "index_array = np.array([])"
   ]
  },
  {
   "cell_type": "code",
   "execution_count": 3,
   "id": "b153195d",
   "metadata": {},
   "outputs": [
    {
     "name": "stdout",
     "output_type": "stream",
     "text": [
      "[[1 2 3]\n",
      " [4 5 6]]\n",
      "\n",
      "Sum of elements:\n",
      " 21\n",
      "\n",
      "Product of elements:\n",
      " 720\n"
     ]
    }
   ],
   "source": [
    "# 2)Write a Python program to sum and compute the product of a numpy array elements\n",
    "array = np.arange(1,7).reshape(2,3)\n",
    "print(array)\n",
    "print(\"\\nSum of elements:\\n\",array.sum())\n",
    "print(\"\\nProduct of elements:\\n\",array.prod())"
   ]
  },
  {
   "cell_type": "code",
   "execution_count": 10,
   "id": "35638eab",
   "metadata": {},
   "outputs": [
    {
     "name": "stdout",
     "output_type": "stream",
     "text": [
      "[10 20 30]\n"
     ]
    }
   ],
   "source": [
    "# 3)Write a Python program to convert the raw data in an array to a binary string and then create an array.\n",
    "array_1 = np.array([10, 20, 30])\n",
    "print(np.array2string(array_1))"
   ]
  },
  {
   "cell_type": "code",
   "execution_count": 64,
   "id": "a35d6bc6",
   "metadata": {},
   "outputs": [
    {
     "name": "stdout",
     "output_type": "stream",
     "text": [
      "[[ 1  2  3  4  5]\n",
      " [ 6  7  8  9 10]\n",
      " [11 12 13 14 15]\n",
      " [16 17 18 19 20]\n",
      " [21 22 23 24 25]]\n",
      "1\n",
      "2\n",
      "3\n",
      "4\n",
      "5\n",
      "6\n",
      "7\n",
      "8\n",
      "9\n",
      "10\n",
      "11\n",
      "12\n",
      "13\n",
      "14\n",
      "15\n",
      "16\n",
      "17\n",
      "18\n",
      "19\n",
      "20\n",
      "21\n",
      "22\n",
      "23\n",
      "24\n",
      "25\n"
     ]
    }
   ],
   "source": [
    "# 4)Write a Python program to print all the values of an array\n",
    "array = np.arange(1,26).reshape(5,5)\n",
    "print(array)\n",
    "for i in array.flat:\n",
    "    print(i)"
   ]
  },
  {
   "cell_type": "code",
   "execution_count": 27,
   "id": "2019f55c",
   "metadata": {},
   "outputs": [
    {
     "name": "stdout",
     "output_type": "stream",
     "text": [
      "[[ 1  2  3  4  5]\n",
      " [ 6  7  8  9 10]\n",
      " [11 12 13 14 15]\n",
      " [16 17 18 19 20]\n",
      " [21 22 23 24 25]]\n",
      "\n",
      "New array\n",
      " [[ 2  4  6  8 10]\n",
      " [12 14 16 18 20]\n",
      " [22 24 26 28 30]\n",
      " [32 34 36 38 40]\n",
      " [42 44 46 48 50]]\n"
     ]
    }
   ],
   "source": [
    "# 5)Write a Python program to divide each row by a vector element\n",
    "array = np.arange(1,26).reshape(5,5)\n",
    "print(array)\n",
    "array[:] *= 2\n",
    "print(\"\\nNew array\\n\",array)"
   ]
  },
  {
   "cell_type": "code",
   "execution_count": 30,
   "id": "33dd3613",
   "metadata": {},
   "outputs": [
    {
     "name": "stdout",
     "output_type": "stream",
     "text": [
      "Array is empty\n"
     ]
    }
   ],
   "source": [
    "# 6)Write a Python program to check whether the numpy array is empty or not.\n",
    "array = np.array([])\n",
    "if array.size == 0:\n",
    "    print(\"Array is empty\")\n",
    "else:\n",
    "    print(\"Array is not empty\")"
   ]
  },
  {
   "cell_type": "code",
   "execution_count": null,
   "id": "2f0bf9d5",
   "metadata": {},
   "outputs": [],
   "source": []
  },
  {
   "cell_type": "code",
   "execution_count": 31,
   "id": "31f34414",
   "metadata": {},
   "outputs": [
    {
     "name": "stdout",
     "output_type": "stream",
     "text": [
      "[[ 1  1  1  1  5]\n",
      " [ 1  1  1  1 10]\n",
      " [ 1  1  1  1 15]\n",
      " [ 1  1  1  1 20]\n",
      " [21 22 23 24 25]]\n",
      "\n",
      "Frequency of element:\n",
      " 16\n"
     ]
    }
   ],
   "source": [
    "# 7)Write a Python program to count the frequency of unique values in numpy array.\n",
    "array = np.arange(1,26).reshape(5,5)\n",
    "array[0:-1,0:-1] = 1\n",
    "print(array)\n",
    "count = 0\n",
    "for i in array.flat:\n",
    "    if i == 1:\n",
    "        count += 1\n",
    "print(\"\\nFrequency of element:\\n\",count)"
   ]
  },
  {
   "cell_type": "code",
   "execution_count": 36,
   "id": "d3922547",
   "metadata": {},
   "outputs": [
    {
     "name": "stdout",
     "output_type": "stream",
     "text": [
      "25\n"
     ]
    }
   ],
   "source": [
    "# 8)Write a Python program to get the magnitude of a vector in numpy\n",
    "array = np.arange(1,26).reshape(5,5)\n",
    "print(array.size)"
   ]
  },
  {
   "cell_type": "code",
   "execution_count": 106,
   "id": "c18790ab",
   "metadata": {},
   "outputs": [
    {
     "name": "stdout",
     "output_type": "stream",
     "text": [
      "[[ 1. nan  3.  4. nan]\n",
      " [ 6.  7.  8.  9. 10.]\n",
      " [11. 12. 13. nan 15.]\n",
      " [16. 17. nan 19. 20.]\n",
      " [21. 22. 23. 24. 25.]]\n",
      "\n",
      "Removing rows with NaN values\n",
      " [[ 6.  7.  8.  9. 10.]\n",
      " [21. 22. 23. 24. 25.]]\n"
     ]
    }
   ],
   "source": [
    "# 9)Write a Python program to remove all rows in a numpy array that contain non-numeric values.\n",
    "array = np.array([[1,np.nan,3,4,np.nan],[6,7,8,9,10],[11,12,13,np.nan,15],[16,17,np.nan,19,20],[21,22,23,24,25]])\n",
    "print(array)\n",
    "print(\"\\nRemoving rows with NaN values\\n\",array[~np.isnan(array).any(axis=1)])\n",
    "# print(\"\\nRemoving column with NaN values\\n\",array[:,~np.isnan(array).any(axis=0)])\n",
    "# print(np.isnan(np.nan))"
   ]
  }
 ],
 "metadata": {
  "kernelspec": {
   "display_name": "Python 3 (ipykernel)",
   "language": "python",
   "name": "python3"
  },
  "language_info": {
   "codemirror_mode": {
    "name": "ipython",
    "version": 3
   },
   "file_extension": ".py",
   "mimetype": "text/x-python",
   "name": "python",
   "nbconvert_exporter": "python",
   "pygments_lexer": "ipython3",
   "version": "3.9.7"
  }
 },
 "nbformat": 4,
 "nbformat_minor": 5
}
