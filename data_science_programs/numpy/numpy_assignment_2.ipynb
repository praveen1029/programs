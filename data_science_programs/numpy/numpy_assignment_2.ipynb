{
 "cells": [
  {
   "cell_type": "code",
   "execution_count": 3,
   "id": "3c07a03d",
   "metadata": {},
   "outputs": [],
   "source": [
    "import numpy as np "
   ]
  },
  {
   "cell_type": "code",
   "execution_count": 89,
   "id": "45b29b44",
   "metadata": {},
   "outputs": [
    {
     "name": "stdout",
     "output_type": "stream",
     "text": [
      "[[ 1  2  3  4  5]\n",
      " [ 6  7  8  9 10]\n",
      " [11 12 13 14 15]\n",
      " [16 17 18 19 20]\n",
      " [21 22 23 24 25]]\n",
      "\n",
      " [[26 27 28 29 30]\n",
      " [31 32 33 34 35]\n",
      " [36 37 38 39 40]\n",
      " [41 42 43 44 45]\n",
      " [46 47 48 49 50]]\n",
      "\n",
      "Addition\n",
      " [[27 29 31 33 35]\n",
      " [37 39 41 43 45]\n",
      " [47 49 51 53 55]\n",
      " [57 59 61 63 65]\n",
      " [67 69 71 73 75]]\n",
      "\n",
      "Substraction\n",
      " [[-25 -25 -25 -25 -25]\n",
      " [-25 -25 -25 -25 -25]\n",
      " [-25 -25 -25 -25 -25]\n",
      " [-25 -25 -25 -25 -25]\n",
      " [-25 -25 -25 -25 -25]]\n",
      "\n",
      "Multiplication\n",
      " [[  26   54   84  116  150]\n",
      " [ 186  224  264  306  350]\n",
      " [ 396  444  494  546  600]\n",
      " [ 656  714  774  836  900]\n",
      " [ 966 1034 1104 1176 1250]]\n",
      "\n",
      "Division\n",
      " [[0.03846154 0.07407407 0.10714286 0.13793103 0.16666667]\n",
      " [0.19354839 0.21875    0.24242424 0.26470588 0.28571429]\n",
      " [0.30555556 0.32432432 0.34210526 0.35897436 0.375     ]\n",
      " [0.3902439  0.4047619  0.41860465 0.43181818 0.44444444]\n",
      " [0.45652174 0.46808511 0.47916667 0.48979592 0.5       ]]\n"
     ]
    }
   ],
   "source": [
    "# 1)Write a Python program to add, subtract, multiply, divide arguments element-wise\n",
    "\n",
    "array_1 = np.arange(1,26).reshape(5,5)\n",
    "print(array_1)\n",
    "array_2 = np.arange(26,51).reshape(5,5)\n",
    "print(\"\\n\",array_2)\n",
    "array_add = array_1+array_2\n",
    "print(\"\\nAddition\\n\",array_add)\n",
    "array_sub = array_1-array_2\n",
    "print(\"\\nSubstraction\\n\",array_sub)\n",
    "array_mul = array_1*array_2\n",
    "print(\"\\nMultiplication\\n\",array_mul)\n",
    "array_div = array_1/array_2\n",
    "print(\"\\nDivision\\n\",array_div)"
   ]
  },
  {
   "cell_type": "code",
   "execution_count": 103,
   "id": "efe9ed3b",
   "metadata": {},
   "outputs": [
    {
     "name": "stdout",
     "output_type": "stream",
     "text": [
      "[ 1  2  3  4  5  6  7  8  9 10]\n",
      "\n",
      "Log of sum of exponents\n",
      " 10.45862974442671\n",
      "\n",
      "Log to base 2 of sum of exponents\n",
      " 15.088613266778223\n"
     ]
    }
   ],
   "source": [
    "# 2)Write a Python program to compute logarithm of the sum of exponentiations of the inputs, sum of exponentiations of the inputs in base-2\n",
    "arr = np.arange(1,11)\n",
    "print(arr)\n",
    "arr = np.exp(arr)\n",
    "total = arr.sum()\n",
    "print(\"\\nLog of sum of exponents\\n\",np.log(total))\n",
    "print(\"\\nLog to base 2 of sum of exponents\\n\",np.log2(total))"
   ]
  },
  {
   "cell_type": "code",
   "execution_count": 104,
   "id": "a663c612",
   "metadata": {},
   "outputs": [
    {
     "name": "stdout",
     "output_type": "stream",
     "text": [
      "[[0 1 2 3 4]\n",
      " [5 6 7 8 9]]\n",
      "\n",
      "True Division of the array element\n",
      "[[0.         0.33333333 0.66666667 1.         1.33333333]\n",
      " [1.66666667 2.         2.33333333 2.66666667 3.        ]]\n"
     ]
    }
   ],
   "source": [
    "# 3)Write a Python program to get true division of the element-wise array inputs\n",
    "arr = np.arange(10).reshape(2,5)\n",
    "print(arr)\n",
    "print(\"\\nTrue Division of the array element\")\n",
    "print(np.true_divide(arr, 3))"
   ]
  },
  {
   "cell_type": "code",
   "execution_count": 105,
   "id": "dae86498",
   "metadata": {},
   "outputs": [
    {
     "name": "stdout",
     "output_type": "stream",
     "text": [
      "[ 1.          1.64285714  2.28571429  2.92857143  3.57142857  4.21428571\n",
      "  4.85714286  5.5         6.14285714  6.78571429  7.42857143  8.07142857\n",
      "  8.71428571  9.35714286 10.        ]\n",
      "\n",
      "Floor values\n",
      "[ 1.  1.  2.  2.  3.  4.  4.  5.  6.  6.  7.  8.  8.  9. 10.]\n"
     ]
    }
   ],
   "source": [
    "# 4)Write a Python program to get the largest integer smaller or equal to the division of the inputs.\n",
    "arr = np.linspace(1,10,15)\n",
    "print(arr)\n",
    "print(\"\\nFloor values\")\n",
    "print(np.floor(arr))"
   ]
  },
  {
   "cell_type": "code",
   "execution_count": 45,
   "id": "2e60e067",
   "metadata": {},
   "outputs": [
    {
     "name": "stdout",
     "output_type": "stream",
     "text": [
      "[ 6  7  8  9 10]\n",
      "\n",
      " [1 2 3 4 5]\n",
      "\n",
      "Power of array_elements\n",
      " [     6     49    512   6561 100000]\n"
     ]
    }
   ],
   "source": [
    "# 5)Write a Python program to get the powers of an array values element-wise.\n",
    "array_1 = np.arange(6,11)\n",
    "print(array_1)\n",
    "array_2 = np.arange(1,6)\n",
    "print(\"\\n\",array_2)\n",
    "print(\"\\nPower of array_elements\\n\",array_1**array_2)"
   ]
  },
  {
   "cell_type": "code",
   "execution_count": 48,
   "id": "80bb37fc",
   "metadata": {},
   "outputs": [
    {
     "name": "stdout",
     "output_type": "stream",
     "text": [
      "[[ 1  2  3  4  5]\n",
      " [ 6  7  8  9 10]\n",
      " [11 12 13 14 15]\n",
      " [16 17 18 19 20]\n",
      " [21 22 23 24 25]]\n",
      "\n",
      " [[26 27 28 29 30]\n",
      " [31 32 33 34 35]\n",
      " [36 37 38 39 40]\n",
      " [41 42 43 44 45]\n",
      " [46 47 48 49 50]]\n",
      "\n",
      "Reminder of elementwise division\n",
      " [[ 0  1  1  1  0]\n",
      " [ 1  4  1  7  5]\n",
      " [ 3  1 12 11 10]\n",
      " [ 9  8  7  6  5]\n",
      " [ 4  3  2  1  0]]\n"
     ]
    }
   ],
   "source": [
    "# 6)Write a Python program to get the element-wise remainder of an array of division.\n",
    "array_1 = np.arange(1,26).reshape(5,5)\n",
    "print(array_1)\n",
    "array_2 = np.arange(26,51).reshape(5,5)\n",
    "print(\"\\n\",array_2)\n",
    "print(\"\\nReminder of elementwise division\\n\",array_2%array_1)"
   ]
  },
  {
   "cell_type": "code",
   "execution_count": 53,
   "id": "129384d4",
   "metadata": {},
   "outputs": [
    {
     "name": "stdout",
     "output_type": "stream",
     "text": [
      "[-1  2 -3  4 -5  6  7 -8 -9 10]\n",
      "\n",
      "Elementwise absolute value\n",
      "[ 1  2  3  4  5  6  7  8  9 10]\n"
     ]
    }
   ],
   "source": [
    "# 7)Write a Python program to calculate the absolute value element-wise\n",
    "array_1 = np.array([-1,2,-3,4,-5,6,7,-8,-9,10])\n",
    "print(array_1)\n",
    "print(\"\\nElementwise absolute value\")\n",
    "print(np.absolute(array_1))"
   ]
  },
  {
   "cell_type": "code",
   "execution_count": 84,
   "id": "0a8c7b3b",
   "metadata": {},
   "outputs": [
    {
     "name": "stdout",
     "output_type": "stream",
     "text": [
      "[[1.         1.16666667 1.33333333 1.5        1.66666667]\n",
      " [1.83333333 2.         2.16666667 2.33333333 2.5       ]\n",
      " [2.66666667 2.83333333 3.         3.16666667 3.33333333]\n",
      " [3.5        3.66666667 3.83333333 4.         4.16666667]\n",
      " [4.33333333 4.5        4.66666667 4.83333333 5.        ]]\n",
      "\n",
      "Rounding Elements\n",
      "[[1.   1.17 1.33 1.5  1.67]\n",
      " [1.83 2.   2.17 2.33 2.5 ]\n",
      " [2.67 2.83 3.   3.17 3.33]\n",
      " [3.5  3.67 3.83 4.   4.17]\n",
      " [4.33 4.5  4.67 4.83 5.  ]]\n"
     ]
    }
   ],
   "source": [
    "# 8)Write a Python program to round array elements to the given number of decimals.\n",
    "arr = np.linspace(1,5,25).reshape(5,5)\n",
    "print(arr)\n",
    "print(\"\\nRounding Elements\")\n",
    "print(np.round(arr, decimals=2))"
   ]
  },
  {
   "cell_type": "code",
   "execution_count": 85,
   "id": "251c3b4c",
   "metadata": {},
   "outputs": [
    {
     "name": "stdout",
     "output_type": "stream",
     "text": [
      "[ 1.          1.64285714  2.28571429  2.92857143  3.57142857  4.21428571\n",
      "  4.85714286  5.5         6.14285714  6.78571429  7.42857143  8.07142857\n",
      "  8.71428571  9.35714286 10.        ]\n",
      "\n",
      "Rounding Elements\n",
      "[ 1.  2.  2.  3.  4.  4.  5.  6.  6.  7.  7.  8.  9.  9. 10.]\n"
     ]
    }
   ],
   "source": [
    "# 9)Write a Python program to round elements of the array to the nearest int\n",
    "arr = np.linspace(1,10,15)\n",
    "print(arr)\n",
    "print(\"\\nRounding Elements\")\n",
    "print(np.rint(arr))"
   ]
  },
  {
   "cell_type": "code",
   "execution_count": 88,
   "id": "b51d72dc",
   "metadata": {},
   "outputs": [
    {
     "name": "stdout",
     "output_type": "stream",
     "text": [
      "[ 1.          1.64285714  2.28571429  2.92857143  3.57142857  4.21428571\n",
      "  4.85714286  5.5         6.14285714  6.78571429  7.42857143  8.07142857\n",
      "  8.71428571  9.35714286 10.        ]\n",
      "\n",
      "Floor values\n",
      "[ 1.  1.  2.  2.  3.  4.  4.  5.  6.  6.  7.  8.  8.  9. 10.]\n",
      "\n",
      "Ceil values\n",
      "[ 1.  2.  3.  3.  4.  5.  5.  6.  7.  7.  8.  9.  9. 10. 10.]\n",
      "Truncated values\n",
      "[ 1.  1.  2.  2.  3.  4.  4.  5.  6.  6.  7.  8.  8.  9. 10.]\n"
     ]
    }
   ],
   "source": [
    "# 10)Write a Python program to get the floor, ceiling and truncated values of the elements of an numpy\n",
    "arr = np.linspace(1,10,15)\n",
    "print(arr)\n",
    "print(\"\\nFloor values\")\n",
    "print(np.floor(arr))\n",
    "print(\"\\nCeil values\")\n",
    "print(np.ceil(arr))\n",
    "print(\"Truncated values\")\n",
    "print(np.trunc(arr))"
   ]
  }
 ],
 "metadata": {
  "kernelspec": {
   "display_name": "Python 3 (ipykernel)",
   "language": "python",
   "name": "python3"
  },
  "language_info": {
   "codemirror_mode": {
    "name": "ipython",
    "version": 3
   },
   "file_extension": ".py",
   "mimetype": "text/x-python",
   "name": "python",
   "nbconvert_exporter": "python",
   "pygments_lexer": "ipython3",
   "version": "3.9.7"
  }
 },
 "nbformat": 4,
 "nbformat_minor": 5
}
