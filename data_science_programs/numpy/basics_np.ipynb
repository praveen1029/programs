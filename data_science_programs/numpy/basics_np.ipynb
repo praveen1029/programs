{
 "cells": [
  {
   "cell_type": "markdown",
   "id": "81b8995c",
   "metadata": {},
   "source": [
    "# Numpy Exercises"
   ]
  },
  {
   "cell_type": "code",
   "execution_count": 2,
   "id": "143e1096",
   "metadata": {},
   "outputs": [],
   "source": [
    "import numpy as np\n",
    "import scipy as sp\n",
    "import matplotlib as mpl\n",
    "import matplotlib.pyplot as plt\n",
    "import pandas as pd"
   ]
  },
  {
   "cell_type": "markdown",
   "id": "ffb71dde",
   "metadata": {},
   "source": [
    "#### 1. Form the 2-D array (without typing it in explicitly):\n",
    "```\n",
    "[[1, 6, 11],\n",
    " [2, 7, 12],\n",
    " [3, 8, 13],\n",
    " [4, 9, 14],\n",
    " [5, 10, 15]]\n",
    "```\n",
    "#### and generate a new array containing its 2nd and 4th rows.\n",
    "\n",
    "\n",
    "\n"
   ]
  },
  {
   "cell_type": "code",
   "execution_count": 3,
   "id": "ad9c4397",
   "metadata": {},
   "outputs": [
    {
     "name": "stdout",
     "output_type": "stream",
     "text": [
      "Array: \n",
      "[[ 1  6 11]\n",
      " [ 2  7 12]\n",
      " [ 3  8 13]\n",
      " [ 4  9 14]\n",
      " [ 5 10 15]]\n",
      "\n",
      "New Array:  [ 2  7 12  4  9 14]\n",
      "\n"
     ]
    }
   ],
   "source": [
    "# creating array using arange\n",
    "arr = np.arange(1,16)\n",
    "\n",
    "# reshaping with 3 cols and 1 rows\n",
    "arr = arr.reshape(3,5)\n",
    "\n",
    "# finding transpose\n",
    "arr = arr.T\n",
    "print(\"Array: \",arr, sep=\"\\n\", end=2*\"\\n\")\n",
    "\n",
    "# generating new array with arr[1] arr[3]\n",
    "new_arr = np.concatenate([arr[1],arr[3]])\n",
    "print(\"New Array: \",new_arr, sep=\" \", end=2*\"\\n\")"
   ]
  },
  {
   "cell_type": "markdown",
   "id": "196f56a5",
   "metadata": {},
   "source": [
    "#### 2. Divide each column of the array:\n",
    "```\n",
    ">>> import numpy as np\n",
    ">>> a = np.arange(25).reshape(5, 5)\n",
    "```\n",
    "#### elementwise with the array b = np.array([1., 5, 10, 15, 20]). (Hint: np.newaxis)."
   ]
  },
  {
   "cell_type": "code",
   "execution_count": 4,
   "id": "2f44a7a4",
   "metadata": {},
   "outputs": [
    {
     "name": "stdout",
     "output_type": "stream",
     "text": [
      "array a: \n",
      "[[ 0  1  2  3  4]\n",
      " [ 5  6  7  8  9]\n",
      " [10 11 12 13 14]\n",
      " [15 16 17 18 19]\n",
      " [20 21 22 23 24]]\n",
      "\n",
      "array b:  [ 1.  5. 10. 15. 20.]\n",
      "\n",
      "array c: \n",
      "[[[ 0.          0.2         0.2         0.2         0.2       ]]\n",
      "\n",
      " [[ 5.          1.2         0.7         0.53333333  0.45      ]]\n",
      "\n",
      " [[10.          2.2         1.2         0.86666667  0.7       ]]\n",
      "\n",
      " [[15.          3.2         1.7         1.2         0.95      ]]\n",
      "\n",
      " [[20.          4.2         2.2         1.53333333  1.2       ]]]\n",
      "\n"
     ]
    }
   ],
   "source": [
    "a = np.arange(25).reshape(5,5)\n",
    "print(\"array a: \",a, sep='\\n', end=2*\"\\n\")\n",
    "\n",
    "b = np.array([1.,5,10,15,20])\n",
    "print(\"array b: \",b, sep=' ', end=2*\"\\n\")\n",
    "\n",
    "# dividing each elements with given array b\n",
    "c = np.divide(a,b)[:, np.newaxis]\n",
    "print(\"array c: \",c, sep='\\n', end=2*\"\\n\")"
   ]
  },
  {
   "cell_type": "markdown",
   "id": "d40116ed",
   "metadata": {},
   "source": [
    "#### 3. Generate a 10 x 3 array of random numbers (in range [0,1]). For each row, pick the number closest to 0.5.\n",
    "* Use abs and argsort to find the column j closest for each row.\n",
    "* Use fancy indexing to extract the numbers. (Hint: a[i,j] – the array i must contain the row numbers corresponding to stuff in j.)"
   ]
  },
  {
   "cell_type": "code",
   "execution_count": 5,
   "id": "abf93faf",
   "metadata": {},
   "outputs": [
    {
     "name": "stdout",
     "output_type": "stream",
     "text": [
      "array arr: \n",
      "[[0.28483047 0.48726653 0.70437758]\n",
      " [0.76622988 0.63611345 0.87094797]\n",
      " [0.83044846 0.71957861 0.92861355]\n",
      " [0.43293687 0.63100042 0.90641314]\n",
      " [0.0751042  0.50533436 0.47583225]\n",
      " [0.13705386 0.86230267 0.32220253]\n",
      " [0.25738568 0.30575385 0.69682363]\n",
      " [0.11697399 0.35717598 0.57813373]\n",
      " [0.10988861 0.59865702 0.83224513]\n",
      " [0.94448091 0.47428208 0.83603464]]\n",
      "\n",
      "Array having |distance to 0.5| a: \n",
      "[[0.21516953 0.01273347 0.20437758]\n",
      " [0.26622988 0.13611345 0.37094797]\n",
      " [0.33044846 0.21957861 0.42861355]\n",
      " [0.06706313 0.13100042 0.40641314]\n",
      " [0.4248958  0.00533436 0.02416775]\n",
      " [0.36294614 0.36230267 0.17779747]\n",
      " [0.24261432 0.19424615 0.19682363]\n",
      " [0.38302601 0.14282402 0.07813373]\n",
      " [0.39011139 0.09865702 0.33224513]\n",
      " [0.44448091 0.02571792 0.33603464]]\n",
      "\n",
      "Index of sorted array ind: \n",
      "[[1 2 0]\n",
      " [1 0 2]\n",
      " [1 0 2]\n",
      " [0 1 2]\n",
      " [1 2 0]\n",
      " [2 1 0]\n",
      " [1 2 0]\n",
      " [2 1 0]\n",
      " [1 2 0]\n",
      " [1 2 0]]\n",
      "\n",
      "Index of array closest to 0.5 ind2:  [1 1 1 0 1 2 1 2 1 1]\n",
      "\n",
      "Elements are closest to 0.5 arr2: \n",
      "[0.48726653 0.63611345 0.71957861 0.43293687 0.50533436 0.32220253\n",
      " 0.30575385 0.57813373 0.59865702 0.47428208]\n",
      "\n"
     ]
    }
   ],
   "source": [
    "# method 1\n",
    "# np.random.seed(0)\n",
    "arr = np.random.rand(10,3)\n",
    "print(\"array arr: \",arr, sep='\\n', end=2*\"\\n\")\n",
    "\n",
    "# for each element compute distance to 0.5\n",
    "a = np.abs(arr - 0.5)\n",
    "print(\"Array having |distance to 0.5| a: \",a, sep='\\n', end=2*\"\\n\")\n",
    "\n",
    "# return the indices that would sort an array (closest to furtheset from 0.5)\n",
    "ind = np.argsort(a)\n",
    "print(\"Index of sorted array ind: \",ind, sep='\\n', end=2*\"\\n\")\n",
    "\n",
    "# for each row, we are only interested in the column that is closest to 0.5\n",
    "ind2 = ind[:, 0]\n",
    "print(\"Index of array closest to 0.5 ind2: \",ind2, sep=' ', end=2*\"\\n\")\n",
    "\n",
    "# do the fancy indexing: for each row, extract the element that is closest to 0.5\n",
    "arr2 = arr[np.arange(arr.shape[0]),ind2]\n",
    "print(\"Elements are closest to 0.5 arr2: \",arr2, sep='\\n', end=2*\"\\n\")"
   ]
  },
  {
   "cell_type": "code",
   "execution_count": 6,
   "id": "89f72044",
   "metadata": {},
   "outputs": [
    {
     "name": "stdout",
     "output_type": "stream",
     "text": [
      "Elements are closest to 0.5 arr2: \n",
      "[0.48726653 0.63611345 0.71957861 0.43293687 0.50533436 0.32220253\n",
      " 0.30575385 0.57813373 0.59865702 0.47428208]\n",
      "\n"
     ]
    }
   ],
   "source": [
    "# method 2\n",
    "arr2 = arr[np.arange(a.shape[0]), np.argsort(np.abs(arr - 0.5))[:,0]]\n",
    "print(\"Elements are closest to 0.5 arr2: \",arr2, sep='\\n', end=2*\"\\n\")"
   ]
  },
  {
   "cell_type": "markdown",
   "id": "7f31556e",
   "metadata": {},
   "source": [
    "#### 4. The data in populations.txt describes the populations of hares and lynxes (and carrots) in northern Canada during 20 years:\n",
    "```\n",
    ">>> data = np.loadtxt('data/populations.txt')\n",
    ">>> data\n",
    "array([[ 1900., 30000.,  4000., 48300.],\n",
    "       [ 1901., 47200.,  6100., 48200.],\n",
    "       [ 1902., 70200.,  9800., 41500.],\n",
    "       [ 1903., 77400., 35200., 38200.],\n",
    "       [ 1904., 36300., 59400., 40600.],\n",
    "       [ 1905., 20600., 41700., 39800.],\n",
    "       [ 1906., 18100., 19000., 38600.],\n",
    "       [ 1907., 21400., 13000., 42300.],\n",
    "       [ 1908., 22000.,  8300., 44500.],\n",
    "       [ 1909., 25400.,  9100., 42100.],\n",
    "       [ 1910., 27100.,  7400., 46000.],\n",
    "       [ 1911., 40300.,  8000., 46800.],\n",
    "       [ 1912., 57000., 12300., 43800.],\n",
    "       [ 1913., 76600., 19500., 40900.],\n",
    "       [ 1914., 52300., 45700., 39400.],\n",
    "       [ 1915., 19500., 51100., 39000.],\n",
    "       [ 1916., 11200., 29700., 36700.],\n",
    "       [ 1917.,  7600., 15800., 41800.],\n",
    "       [ 1918., 14600.,  9700., 43300.],\n",
    "       [ 1919., 16200., 10100., 41300.],\n",
    "       [ 1920., 24700.,  8600., 47300.]])\n",
    ">>> year, hares, lynxes, carrots = data.T # trick: columns to variables\n",
    ">>> import matplotlib.pyplot as plt\n",
    ">>> plt.axes([0.2, 0.1, 0.5, 0.8])\n",
    "<matplotlib.axes...Axes object at ...>\n",
    ">>> plt.plot(year, hares, year, lynxes, year, carrots)\n",
    "[<matplotlib.lines.Line2D object at ...>, ...]\n",
    ">>> plt.legend(('Hare', 'Lynx', 'Carrot'), loc=(1.05, 0.5))\n",
    "<matplotlib.legend.Legend object at ...>\n",
    "```\n",
    "#### Computes and print, based on the data in populations.txt. . .\n",
    "\n",
    "1. The mean and std of the populations of each species for the years in the period.\n",
    "2. Which year each species had the largest population.\n",
    "3. Which species has the largest population for each year. (Hint: argsort & fancy indexing of np.array(['H', 'L', 'C']))\n",
    "4. Which years any of the populations is above 50000. (Hint: comparisons and np.any)\n",
    "5. The top 2 years for each species when they had the lowest populations. (Hint: argsort, fancy indexing)\n",
    "6. Compare (plot) the change in hare population (see help(np.gradient)) and the number of lynxes. Check correlation (see help(np.corrcoef)).\n",
    "\n",
    "#### all without for-loops."
   ]
  },
  {
   "cell_type": "code",
   "execution_count": 7,
   "id": "cbcfa711",
   "metadata": {},
   "outputs": [
    {
     "data": {
      "text/plain": [
       "<matplotlib.legend.Legend at 0x7f49d335c8e0>"
      ]
     },
     "execution_count": 7,
     "metadata": {},
     "output_type": "execute_result"
    },
    {
     "data": {
      "image/png": "[encoded data removed]",
      "text/plain": [
       "<Figure size 432x288 with 1 Axes>"
      ]
     },
     "metadata": {
      "needs_background": "light"
     },
     "output_type": "display_data"
    }
   ],
   "source": [
    "# load data from text file 'populations.txt'\n",
    "arr = np.loadtxt('populations.txt').astype('int')\n",
    "\n",
    "# extracting each values for corresponding field from arr\n",
    "year, hares, lynxes, carrots = arr.T\n",
    "\n",
    "# plotting chart\n",
    "plt.axes([0.2,0.1,0.5,0.8])\n",
    "plt.plot(year, hares, year, lynxes, year, carrots)\n",
    "plt.legend(('Hare', 'Lynx', 'Carrot'), loc=(1.05, 0.5))"
   ]
  },
  {
   "cell_type": "code",
   "execution_count": 8,
   "id": "123796af",
   "metadata": {},
   "outputs": [
    {
     "name": "stdout",
     "output_type": "stream",
     "text": [
      "Total population of Hare:  715700\n",
      "Mean of Hare:  34080.95238095238\n",
      "The STD of Hare:  20897.906458089667\n",
      "\n",
      "Total population of Lynxes:  715700\n",
      "Mean of Lynxes:  20166.666666666668\n",
      "The STD of Lynxes:  16254.591536908763\n",
      "\n",
      "Total population of Carrots:  890400\n",
      "Mean of Carrots:  42400.0\n",
      "The STD of Carrots:  3322.5062255844787\n",
      "\n",
      "Total population of (hares, lynxes, carrots): \n",
      "[[30000  4000 48300]\n",
      " [47200  6100 48200]\n",
      " [70200  9800 41500]\n",
      " [77400 35200 38200]\n",
      " [36300 59400 40600]\n",
      " [20600 41700 39800]\n",
      " [18100 19000 38600]\n",
      " [21400 13000 42300]\n",
      " [22000  8300 44500]\n",
      " [25400  9100 42100]\n",
      " [27100  7400 46000]\n",
      " [40300  8000 46800]\n",
      " [57000 12300 43800]\n",
      " [76600 19500 40900]\n",
      " [52300 45700 39400]\n",
      " [19500 51100 39000]\n",
      " [11200 29700 36700]\n",
      " [ 7600 15800 41800]\n",
      " [14600  9700 43300]\n",
      " [16200 10100 41300]\n",
      " [24700  8600 47300]]\n",
      "\n",
      "Mean of (hares, lynxes, carrots):  [34080.95238095 20166.66666667 42400.        ]\n",
      "The STD of (hares, lynxes, carrots):  [20897.90645809 16254.59153691  3322.50622558]\n",
      "\n"
     ]
    }
   ],
   "source": [
    "# 1. The mean and std of the populations of each species for the years in the period.\n",
    "## Hare\n",
    "### mean\n",
    "total_population_hare = np.sum(hares)\n",
    "mean_hare = np.mean(hares)\n",
    "std_hare = np.std(hares)\n",
    "print(\"Total population of Hare: \", total_population_hare)\n",
    "print(\"Mean of Hare: \",mean_hare)\n",
    "print(\"The STD of Hare: \",std_hare, end=2*'\\n')\n",
    "\n",
    "## Lynxes\n",
    "### mean\n",
    "total_population_lynxes = np.sum(lynxes)\n",
    "mean_lynxes = np.mean(lynxes)\n",
    "std_lynxes = np.std(lynxes)\n",
    "print(\"Total population of Lynxes: \", total_population_hare)\n",
    "print(\"Mean of Lynxes: \",mean_lynxes)\n",
    "print(\"The STD of Lynxes: \",std_lynxes, end=2*'\\n')\n",
    "\n",
    "## Carrots\n",
    "### mean\n",
    "total_population_carrots = np.sum(carrots)\n",
    "mean_carrots = np.mean(carrots)\n",
    "std_carrots = np.std(carrots)\n",
    "print(\"Total population of Carrots: \", total_population_carrots)\n",
    "print(\"Mean of Carrots: \",mean_carrots)\n",
    "print(\"The STD of Carrots: \",std_carrots, end=2*'\\n')\n",
    "\n",
    "# population mean and std as a array\n",
    "population = arr[:,1:]\n",
    "pop_mean = population.mean(axis=0)\n",
    "pop_std = population.std(axis=0)\n",
    "print(\"Total population of (hares, lynxes, carrots): \", population, sep=\"\\n\", end=2*'\\n')\n",
    "print(\"Mean of (hares, lynxes, carrots): \",pop_mean)\n",
    "print(\"The STD of (hares, lynxes, carrots): \",pop_std, end=2*'\\n')"
   ]
  },
  {
   "cell_type": "code",
   "execution_count": 9,
   "id": "e5fcf1c2",
   "metadata": {},
   "outputs": [
    {
     "name": "stdout",
     "output_type": "stream",
     "text": [
      "Years having largest populations(hares, lynxes, carrots):  [1903 1904 1900]\n",
      "\n"
     ]
    }
   ],
   "source": [
    "# 2. Which year each species had the largest population.\n",
    "\n",
    "year_largest_pop = year[np.argmax(population, axis=0)]\n",
    "print(\"Years having largest populations(hares, lynxes, carrots): \",year_largest_pop, end=2*'\\n')"
   ]
  },
  {
   "cell_type": "code",
   "execution_count": 10,
   "id": "d7815567",
   "metadata": {},
   "outputs": [],
   "source": [
    "# 3. Which species has the largest population for each year. \n",
    "# (Hint: argsort & fancy indexing of np.array(['H', 'L', 'C']))\n",
    "\n",
    "species = ['hare', 'lynx', 'carrot']\n",
    "all = zip(year, np.take(species, np.argmax(population, axis=1)))\n",
    "\n"
   ]
  },
  {
   "cell_type": "code",
   "execution_count": 11,
   "id": "987cb396",
   "metadata": {},
   "outputs": [],
   "source": [
    "b = np.argsort(population, axis=0)\n",
    "# print(population)\n"
   ]
  },
  {
   "cell_type": "code",
   "execution_count": 12,
   "id": "2a2f86ab",
   "metadata": {},
   "outputs": [
    {
     "data": {
      "image/png": "[encoded data removed]",
      "text/plain": [
       "<Figure size 432x288 with 1 Axes>"
      ]
     },
     "metadata": {
      "needs_background": "light"
     },
     "output_type": "display_data"
    }
   ],
   "source": [
    "def fun_3x(x, i=0,arr = []):\n",
    "    if x == 1:\n",
    "        arr.append(x)\n",
    "        return arr\n",
    "    if x%2==0:\n",
    "        arr.append(x)\n",
    "        return fun_3x(x/2, i+1, arr)\n",
    "    elif x%2==1:\n",
    "        arr.append(x)\n",
    "        return fun_3x(((3*x)+1)/2, i+1, arr)\n",
    "\n",
    "\n",
    "arr = fun_3x(3)\n",
    "arr = arr[::-1]\n",
    "plt.plot(arr)\n",
    "\n",
    "plt.grid()\n",
    "plt.show()\n"
   ]
  },
  {
   "cell_type": "code",
   "execution_count": 13,
   "id": "6aeaf342",
   "metadata": {},
   "outputs": [
    {
     "name": "stdout",
     "output_type": "stream",
     "text": [
      "32\n"
     ]
    }
   ],
   "source": [
    "a = np.array([1,2,3,4])\n",
    "print(a.nbytes)"
   ]
  },
  {
   "cell_type": "code",
   "execution_count": 14,
   "id": "74ac4b80",
   "metadata": {},
   "outputs": [
    {
     "data": {
      "text/plain": [
       "array([[1, 2, 3, 4],\n",
       "       [5, 6, 7, 8]])"
      ]
     },
     "execution_count": 14,
     "metadata": {},
     "output_type": "execute_result"
    }
   ],
   "source": [
    "b = np.array([5,6,7,8])\n",
    "np.vstack((a,b))"
   ]
  },
  {
   "cell_type": "markdown",
   "id": "c293e567",
   "metadata": {},
   "source": [
    "#### 5. create array as following without explicitly typing\n",
    "```\n",
    "[[1,1,1,1,1,1],\n",
    " [1,0,0,0,0,1],\n",
    " [1,0,1,2,0,1],\n",
    " [1,0,3,4,0,1],\n",
    " [1,0,0,0,0,1],\n",
    " [1,1,1,1,1,1]]\n",
    " ```"
   ]
  },
  {
   "cell_type": "code",
   "execution_count": 15,
   "id": "7b38b1ab",
   "metadata": {},
   "outputs": [
    {
     "name": "stdout",
     "output_type": "stream",
     "text": [
      "[[1. 1. 1. 1. 1. 1.]\n",
      " [1. 0. 0. 0. 0. 1.]\n",
      " [1. 0. 1. 2. 0. 1.]\n",
      " [1. 0. 3. 4. 0. 1.]\n",
      " [1. 0. 0. 0. 0. 1.]\n",
      " [1. 1. 1. 1. 1. 1.]]\n"
     ]
    }
   ],
   "source": [
    "a = np.ones((6,6))\n",
    "# print(a)\n",
    "b = np.zeros((4,4))\n",
    "# print(b)\n",
    "c = np.arange(1,5).reshape(2,2)\n",
    "# print(c)\n",
    "b[1:-1,1:-1]=c\n",
    "# print(b)\n",
    "a[1:-1,1:-1]=b\n",
    "print(a)"
   ]
  },
  {
   "cell_type": "markdown",
   "id": "0eeb87f0",
   "metadata": {},
   "source": [
    "#### 6. Find indices of non-zero elements from [1,2,0,0,4,0]"
   ]
  },
  {
   "cell_type": "code",
   "execution_count": 16,
   "id": "5b3e8eb1",
   "metadata": {},
   "outputs": [
    {
     "name": "stdout",
     "output_type": "stream",
     "text": [
      "(array([0, 1, 4]),)\n"
     ]
    }
   ],
   "source": [
    "a = np.array([1,2,0,0,4,0])\n",
    "# print(a)\n",
    "ind = np.nonzero(a)\n",
    "print(ind)"
   ]
  },
  {
   "cell_type": "markdown",
   "id": "267d674e",
   "metadata": {},
   "source": [
    "#### 7. Create a 3x3 identity matrix"
   ]
  },
  {
   "cell_type": "code",
   "execution_count": 17,
   "id": "a4dd1932",
   "metadata": {},
   "outputs": [
    {
     "name": "stdout",
     "output_type": "stream",
     "text": [
      "[[1. 0. 0.]\n",
      " [0. 1. 0.]\n",
      " [0. 0. 1.]]\n",
      "[[1. 0. 0.]\n",
      " [0. 1. 0.]\n",
      " [0. 0. 1.]]\n"
     ]
    }
   ],
   "source": [
    "iden_mx = np.identity(3)\n",
    "print(iden_mx)\n",
    "# or using .eye()\n",
    "iden_mx_2 = np.eye(3)\n",
    "print(iden_mx_2)"
   ]
  },
  {
   "cell_type": "markdown",
   "id": "ca280a7d",
   "metadata": {},
   "source": [
    "#### 8. Create a 3x3x3 array with random values"
   ]
  },
  {
   "cell_type": "code",
   "execution_count": 18,
   "id": "ca1b61c9",
   "metadata": {},
   "outputs": [
    {
     "name": "stdout",
     "output_type": "stream",
     "text": [
      "[[[0.00410272 0.53777358 0.59881622]\n",
      "  [0.23396001 0.75832517 0.46697685]\n",
      "  [0.49231125 0.84530604 0.03220995]]\n",
      "\n",
      " [[0.09879816 0.36762016 0.07200346]\n",
      "  [0.26981435 0.5836907  0.94224099]\n",
      "  [0.5308823  0.75909924 0.05876578]]\n",
      "\n",
      " [[0.97376051 0.64482743 0.39362363]\n",
      "  [0.00725222 0.81562599 0.3493621 ]\n",
      "  [0.38396559 0.55629824 0.4030966 ]]]\n"
     ]
    }
   ],
   "source": [
    "arr = np.random.random(27).reshape(3,3,3)\n",
    "print(arr)"
   ]
  },
  {
   "cell_type": "markdown",
   "id": "93d718e6",
   "metadata": {},
   "source": [
    "#### 9. Create a 10x10 array with random values and find the minimum and maximum values"
   ]
  },
  {
   "cell_type": "code",
   "execution_count": 19,
   "id": "27b7b9ee",
   "metadata": {},
   "outputs": [
    {
     "name": "stdout",
     "output_type": "stream",
     "text": [
      "Minimum value in arr:  0.02277979631691296\n",
      "Maximum value in arr:  0.9947717772411765\n"
     ]
    }
   ],
   "source": [
    "arr = np.random.random(10*10).reshape(10,10)\n",
    "# print(arr)\n",
    "\n",
    "arr_min = np.min(arr)\n",
    "print(\"Minimum value in arr: \", arr_min)\n",
    "\n",
    "arr_max = np.max(arr)\n",
    "print(\"Maximum value in arr: \", arr_max)"
   ]
  },
  {
   "cell_type": "markdown",
   "id": "35a4f9b2",
   "metadata": {},
   "source": [
    "#### 10. Create a random vector of size 30 and find the mean value"
   ]
  },
  {
   "cell_type": "code",
   "execution_count": 20,
   "id": "8c84184b",
   "metadata": {},
   "outputs": [
    {
     "name": "stdout",
     "output_type": "stream",
     "text": [
      "0.46665336169797045\n"
     ]
    }
   ],
   "source": [
    "arr = np.random.random(30)\n",
    "arr_mean = np.mean(arr)\n",
    "print(arr_mean)"
   ]
  },
  {
   "cell_type": "markdown",
   "id": "42bb4df5",
   "metadata": {},
   "source": [
    "#### 11. Create a 2d array with 1 on the border and 0 inside"
   ]
  },
  {
   "cell_type": "code",
   "execution_count": 21,
   "id": "05ecf155",
   "metadata": {},
   "outputs": [
    {
     "name": "stdout",
     "output_type": "stream",
     "text": [
      "[[1. 1. 1. 1. 1.]\n",
      " [1. 0. 0. 0. 1.]\n",
      " [1. 0. 0. 0. 1.]\n",
      " [1. 0. 0. 0. 1.]\n",
      " [1. 1. 1. 1. 1.]]\n"
     ]
    }
   ],
   "source": [
    "a = np.ones((5,5))\n",
    "# print(a)\n",
    "a[1:-1,1:-1]=0\n",
    "print(a)"
   ]
  },
  {
   "cell_type": "markdown",
   "id": "a0a5134a",
   "metadata": {},
   "source": [
    "#### 12. How to add a border (filled with 0's) around an existing array?"
   ]
  },
  {
   "cell_type": "code",
   "execution_count": 22,
   "id": "5c9bc33a",
   "metadata": {},
   "outputs": [
    {
     "name": "stdout",
     "output_type": "stream",
     "text": [
      "[[ 0  1  2  3]\n",
      " [ 4  5  6  7]\n",
      " [ 8  9 10 11]\n",
      " [12 13 14 15]]\n",
      "[[ 0  0  0  0  0  0]\n",
      " [ 0  0  1  2  3  0]\n",
      " [ 0  4  5  6  7  0]\n",
      " [ 0  8  9 10 11  0]\n",
      " [ 0 12 13 14 15  0]\n",
      " [ 0  0  0  0  0  0]]\n",
      "[[ 0  0  0  0  0  0]\n",
      " [ 0  0  1  2  3  0]\n",
      " [ 0  4  5  6  7  0]\n",
      " [ 0  8  9 10 11  0]\n",
      " [ 0 12 13 14 15  0]\n",
      " [ 0  0  0  0  0  0]]\n"
     ]
    }
   ],
   "source": [
    "a = np.arange(4*4).reshape(4,4)\n",
    "print(a)\n",
    "b = np.zeros((a.shape[0]+2,a.shape[1]+2), dtype='int16')\n",
    "# print(b)\n",
    "b[1:-1,1:-1]=a\n",
    "print(b)\n",
    "\n",
    "# or method 2\n",
    "c = np.pad(a, pad_width=1, constant_values=0)\n",
    "print(c)"
   ]
  },
  {
   "cell_type": "markdown",
   "id": "7eb9ba28",
   "metadata": {},
   "source": [
    "#### 13. What is the result of the following expression?\n",
    "```\n",
    ">>> print(0 * np.nan)\n",
    ">>> print(np.nan == np.nan)\n",
    ">>> print(np.inf > np.nan)\n",
    ">>> print(np.nan - np.nan)\n",
    ">>> print(np.nan in set([np.nan]))\n",
    ">>> print(0.3 == 3 * 0.1)\n",
    "```"
   ]
  },
  {
   "cell_type": "code",
   "execution_count": 23,
   "id": "ac062dee",
   "metadata": {},
   "outputs": [
    {
     "name": "stdout",
     "output_type": "stream",
     "text": [
      "nan\n",
      "False\n",
      "False\n",
      "nan\n",
      "True\n",
      "False\n"
     ]
    }
   ],
   "source": [
    "print(0 * np.nan)\n",
    "print(np.nan == np.nan)\n",
    "print(np.inf > np.nan)\n",
    "print(np.nan - np.nan)\n",
    "print(np.nan in set([np.nan]))\n",
    "print(0.3 == 3 * 0.1)"
   ]
  },
  {
   "cell_type": "markdown",
   "id": "dfa55006",
   "metadata": {},
   "source": [
    "#### 14. Create a 5x5 matrix with values 1,2,3,4 just below the diagonal"
   ]
  },
  {
   "cell_type": "code",
   "execution_count": 24,
   "id": "a0397e02",
   "metadata": {},
   "outputs": [
    {
     "name": "stdout",
     "output_type": "stream",
     "text": [
      "[[0 0 0 0 0]\n",
      " [1 0 0 0 0]\n",
      " [0 2 0 0 0]\n",
      " [0 0 3 0 0]\n",
      " [0 0 0 4 0]]\n"
     ]
    }
   ],
   "source": [
    "# a = np.zeros((5,5), dtype='int16')\n",
    "# # print(a)\n",
    "b = np.diag(np.arange(1,5), k=-1)\n",
    "print(b)"
   ]
  },
  {
   "cell_type": "markdown",
   "id": "b81b5de3",
   "metadata": {},
   "source": [
    "#### 15. Create a 8x8 matrix and fill it with a checkerboard pattern"
   ]
  },
  {
   "cell_type": "code",
   "execution_count": 25,
   "id": "efc3e552",
   "metadata": {},
   "outputs": [
    {
     "name": "stdout",
     "output_type": "stream",
     "text": [
      "[[0 1 0 1 0 1 0 1]\n",
      " [1 0 1 0 1 0 1 0]\n",
      " [0 1 0 1 0 1 0 1]\n",
      " [1 0 1 0 1 0 1 0]\n",
      " [0 1 0 1 0 1 0 1]\n",
      " [1 0 1 0 1 0 1 0]\n",
      " [0 1 0 1 0 1 0 1]\n",
      " [1 0 1 0 1 0 1 0]]\n"
     ]
    }
   ],
   "source": [
    "a = np.matrix(np.zeros((8,8)), dtype='int8')\n",
    "# print(a)\n",
    "\n",
    "a[1::2,::2] = 1\n",
    "a[::2,1::2] = 1\n",
    "print(a)"
   ]
  },
  {
   "cell_type": "markdown",
   "id": "66eda4ac",
   "metadata": {},
   "source": [
    "#### 16. Consider a (6,7,8) shape array, what is the index (x,y,z) of the 100th element?"
   ]
  },
  {
   "cell_type": "code",
   "execution_count": 26,
   "id": "b5b1113d",
   "metadata": {},
   "outputs": [
    {
     "name": "stdout",
     "output_type": "stream",
     "text": [
      "(1, 5, 4)\n"
     ]
    }
   ],
   "source": [
    "# a = np.arange(6*7*8).reshape(6,7,8)\n",
    "# print(a)\n",
    "b = np.unravel_index(100,(6,7,8))\n",
    "print(b)"
   ]
  },
  {
   "cell_type": "markdown",
   "id": "dea72393",
   "metadata": {},
   "source": [
    "#### 17. Create a checkerboard 8x8 matrix using the tile function"
   ]
  },
  {
   "cell_type": "code",
   "execution_count": 27,
   "id": "04d9ed1f",
   "metadata": {},
   "outputs": [
    {
     "name": "stdout",
     "output_type": "stream",
     "text": [
      "[[1 0 1 0 1 0 1 0]\n",
      " [0 1 0 1 0 1 0 1]\n",
      " [1 0 1 0 1 0 1 0]\n",
      " [0 1 0 1 0 1 0 1]\n",
      " [1 0 1 0 1 0 1 0]\n",
      " [0 1 0 1 0 1 0 1]\n",
      " [1 0 1 0 1 0 1 0]\n",
      " [0 1 0 1 0 1 0 1]]\n"
     ]
    }
   ],
   "source": [
    "checkboard = np.tile([[1,0],[0,1]],(4,4))\n",
    "print(checkboard)"
   ]
  },
  {
   "cell_type": "code",
   "execution_count": 28,
   "id": "42451242",
   "metadata": {},
   "outputs": [],
   "source": [
    "checkboard = np.tile"
   ]
  },
  {
   "cell_type": "markdown",
   "id": "8e95e256",
   "metadata": {},
   "source": [
    "#### 18. Normalize a 5x5 random matrix"
   ]
  },
  {
   "cell_type": "code",
   "execution_count": 29,
   "id": "7e8a46fd",
   "metadata": {},
   "outputs": [
    {
     "name": "stdout",
     "output_type": "stream",
     "text": [
      "[[-1.54294228 -1.37656642 -1.48899241 -1.5468726  -1.66810099]\n",
      " [-1.44586167 -1.65416857 -1.19998279 -1.12809303 -1.70831427]\n",
      " [-1.30003075 -1.56286087 -1.52371122 -1.16615915 -2.02071973]\n",
      " [-2.00462649 -2.07153739 -1.25913594 -1.31359903 -1.22174364]\n",
      " [-1.11313744 -1.29259722 -1.63027642 -1.31122661 -1.97348136]]\n"
     ]
    }
   ],
   "source": [
    "np.random.seed(0)\n",
    "a = np.random.random((5,5))\n",
    "# print(a)\n",
    "b = a - np.mean(a)/np.std(a)\n",
    "print(b)"
   ]
  },
  {
   "cell_type": "markdown",
   "id": "f096c022",
   "metadata": {},
   "source": [
    "#### 19. Create a custom dtype that describes a color as four unsigned bytes (RGBA)"
   ]
  },
  {
   "cell_type": "code",
   "execution_count": 30,
   "id": "dfadaab2",
   "metadata": {},
   "outputs": [
    {
     "name": "stderr",
     "output_type": "stream",
     "text": [
      "<ipython-input-30-f4966514ba31>:1: FutureWarning: Passing (type, 1) or '1type' as a synonym of type is deprecated; in a future version of numpy, it will be understood as (type, (1,)) / '(1,)type'.\n",
      "  color = np.dtype([\n"
     ]
    }
   ],
   "source": [
    "color = np.dtype([\n",
    "    ('r', np.ubyte, 1),\n",
    "    ('g', np.ubyte, 1),\n",
    "    ('b', np.ubyte, 1),\n",
    "    ('a', np.ubyte, 1)\n",
    "])"
   ]
  },
  {
   "cell_type": "markdown",
   "id": "7fa1930b",
   "metadata": {},
   "source": [
    "#### 20. Multiply a 5x3 matrix by a 3x2 matrix (real matrix product)"
   ]
  },
  {
   "cell_type": "code",
   "execution_count": 31,
   "id": "c59210d6",
   "metadata": {},
   "outputs": [
    {
     "name": "stdout",
     "output_type": "stream",
     "text": [
      "[[ 10  13]\n",
      " [ 28  40]\n",
      " [ 46  67]\n",
      " [ 64  94]\n",
      " [ 82 121]]\n",
      "[[ 10  13]\n",
      " [ 28  40]\n",
      " [ 46  67]\n",
      " [ 64  94]\n",
      " [ 82 121]]\n"
     ]
    }
   ],
   "source": [
    "a = np.arange(5*3).reshape(5,3)\n",
    "b = np.arange(3*2).reshape(3,2)\n",
    "print(a@b)\n",
    "\n",
    "# method 2\n",
    "print(np.dot(a,b))"
   ]
  },
  {
   "cell_type": "markdown",
   "id": "c318a9aa",
   "metadata": {},
   "source": [
    "#### 21. Given a 1D array, negate all elements which are between 3 and 8, in place."
   ]
  },
  {
   "cell_type": "code",
   "execution_count": 32,
   "id": "2b65d7f1",
   "metadata": {},
   "outputs": [
    {
     "name": "stdout",
     "output_type": "stream",
     "text": [
      "[ 1  2  3 -4 -5 -6 -7 -8  9 10]\n"
     ]
    }
   ],
   "source": [
    "a = np.arange(1,11)\n",
    "a[(a>3) & (a<=8)]*=-1\n",
    "print(a)"
   ]
  },
  {
   "cell_type": "markdown",
   "id": "f0c12d9f",
   "metadata": {},
   "source": [
    "#### 22. How to round away from zero a float array ?"
   ]
  },
  {
   "cell_type": "code",
   "execution_count": 33,
   "id": "dd9b71bb",
   "metadata": {},
   "outputs": [
    {
     "name": "stdout",
     "output_type": "stream",
     "text": [
      "[ 2.79842043 -7.13293425  8.89337834  0.43696644 -1.7067612  -4.70888776\n",
      "  5.48467379 -0.87699336  1.36867898 -9.62420399]\n",
      "[  3.  -8.   9.   1.  -2.  -5.   6.  -1.   2. -10.]\n"
     ]
    }
   ],
   "source": [
    "a = np.random.uniform(-10,+10,10)\n",
    "print(a)\n",
    "# absolute value of a\n",
    "a_abs = np.abs(a)\n",
    "# print(a_abs)\n",
    "\n",
    "# cieling of a_abs\n",
    "a_ceil = np.ceil(np.abs(a))\n",
    "# print(a_ceil)\n",
    "\n",
    "# copy sign of a for a_ceil\n",
    "a_cp_sign = np.copysign(np.ceil(np.abs(a)),a)\n",
    "print(a_cp_sign)"
   ]
  },
  {
   "cell_type": "markdown",
   "id": "da4cce46",
   "metadata": {},
   "source": [
    "#### 23. How to find common values between two arrays?"
   ]
  },
  {
   "cell_type": "code",
   "execution_count": 34,
   "id": "0baa93d8",
   "metadata": {},
   "outputs": [
    {
     "name": "stdout",
     "output_type": "stream",
     "text": [
      "[3 4 5 6 8 9]\n"
     ]
    }
   ],
   "source": [
    "a = np.random.randint(10, size=(2,10))\n",
    "# print(a)\n",
    "b = np.random.randint(20, size=(2,10))\n",
    "# print(b)\n",
    "c = np.intersect1d(a,b)\n",
    "print(c)"
   ]
  },
  {
   "cell_type": "markdown",
   "id": "90dbb9f1",
   "metadata": {},
   "source": [
    "#### 24. Extract the integer part of a random array using 5 different methods"
   ]
  },
  {
   "cell_type": "code",
   "execution_count": 35,
   "id": "98e02651",
   "metadata": {},
   "outputs": [
    {
     "name": "stdout",
     "output_type": "stream",
     "text": [
      "[9.54613948 6.9627418  1.12214472 6.60561486 7.06293668 9.74750502\n",
      " 8.90374124 5.58661939 1.50143224 5.06043293]\n"
     ]
    },
    {
     "data": {
      "text/plain": [
       "array([9., 6., 1., 6., 7., 9., 8., 5., 1., 5.])"
      ]
     },
     "execution_count": 35,
     "metadata": {},
     "output_type": "execute_result"
    }
   ],
   "source": [
    "a = np.random.uniform(1,10,10)\n",
    "print(a)\n",
    "a.astype('int')\n",
    "a-a%1\n",
    "np.floor(a)\n",
    "np.ceil(a)-1\n",
    "np.trunc(a)"
   ]
  },
  {
   "cell_type": "markdown",
   "id": "fc135b8f",
   "metadata": {},
   "source": [
    "#### 25. Consider a generator function that generates 10 integers and use it to build an array"
   ]
  },
  {
   "cell_type": "code",
   "execution_count": 39,
   "id": "7eb92045",
   "metadata": {},
   "outputs": [
    {
     "name": "stdout",
     "output_type": "stream",
     "text": [
      "[5 8 4 2 1]\n",
      "5\n",
      "8\n",
      "4\n",
      "2\n",
      "1\n"
     ]
    },
    {
     "data": {
      "image/png": "[encoded data removed]",
      "text/plain": [
       "<Figure size 432x288 with 1 Axes>"
      ]
     },
     "metadata": {
      "needs_background": "light"
     },
     "output_type": "display_data"
    }
   ],
   "source": [
    "def colatz(n):\n",
    "    while n>1:\n",
    "        if n%2==0:\n",
    "            n=n/2\n",
    "        elif n%2==1:\n",
    "            n = ((3*n)+1)/2\n",
    "        yield int(n)\n",
    "\n",
    "        \n",
    "a = np.fromiter(colatz(10), dtype='int')\n",
    "print(a)\n",
    "for i in colatz(10):\n",
    "    print(i)\n",
    "for i in range(100):\n",
    "    a = np.fromiter(colatz(i), dtype='int')\n",
    "    plt.plot(np.arange(a.size),a[::-1])\n",
    "plt.show()"
   ]
  },
  {
   "cell_type": "markdown",
   "id": "f713c6b0",
   "metadata": {},
   "source": [
    "```\n",
    "if it is a new branch:\n",
    "    if the value is even plot the line towards y-axis\n",
    "    if the value is odd plot the line towards x-axis\n",
    "```"
   ]
  },
  {
   "cell_type": "code",
   "execution_count": 40,
   "id": "0bd8a6a5",
   "metadata": {},
   "outputs": [],
   "source": [
    "x = range(10)\n",
    "y = colatz(10)"
   ]
  },
  {
   "cell_type": "markdown",
   "id": "b2fa5bc5",
   "metadata": {},
   "source": []
  },
  {
   "cell_type": "code",
   "execution_count": 6,
   "id": "194c8f50",
   "metadata": {},
   "outputs": [
    {
     "name": "stdout",
     "output_type": "stream",
     "text": [
      "False False False\n",
      "False False False\n",
      "False False False\n",
      "False False False\n",
      "False False False\n",
      "True True False\n",
      "True True True\n",
      "True True True\n",
      "True True True\n",
      "True True True\n",
      "True True True\n",
      "True True True\n",
      "Valid\n"
     ]
    }
   ],
   "source": [
    "sp_ch = '@#$!.*&'\n",
    "p = '123He/@llo@#'\n",
    "l = 6\n",
    "\n",
    "not_alpha = False\n",
    "not_digit = False\n",
    "is_sp_ch = False\n",
    "not_l = False\n",
    "\n",
    "for ch in p:\n",
    "    if not ch.isalpha():\n",
    "        if not ch.isdigit():\n",
    "            not_alpha = True\n",
    "            not_digit = True\n",
    "    elif not ch.isdigit():\n",
    "        if not ch.isalpha():\n",
    "            not_alpha = True\n",
    "            not_digit = True\n",
    "    if ch in sp_ch:\n",
    "        if not is_sp_ch:\n",
    "            is_sp_ch = True\n",
    "    elif ch not in sp_ch:\n",
    "        if not is_sp_ch:\n",
    "            is_sp_ch = True \n",
    "    print(not_alpha, not_digit, is_sp_ch)\n",
    "\n",
    "if not_alpha and not_digit and is_sp_ch:\n",
    "    print(\"Valid\")\n"
   ]
  },
  {
   "cell_type": "code",
   "execution_count": null,
   "id": "c39f3eed",
   "metadata": {},
   "outputs": [],
   "source": [
    "# "
   ]
  },
  {
   "cell_type": "code",
   "execution_count": null,
   "id": "15974d32",
   "metadata": {},
   "outputs": [],
   "source": [
    "# "
   ]
  }
 ],
 "metadata": {
  "kernelspec": {
   "display_name": "Python 3 (ipykernel)",
   "language": "python",
   "name": "python3"
  },
  "language_info": {
   "codemirror_mode": {
    "name": "ipython",
    "version": 3
   },
   "file_extension": ".py",
   "mimetype": "text/x-python",
   "name": "python",
   "nbconvert_exporter": "python",
   "pygments_lexer": "ipython3",
   "version": "3.9.7"
  }
 },
 "nbformat": 4,
 "nbformat_minor": 5
}
