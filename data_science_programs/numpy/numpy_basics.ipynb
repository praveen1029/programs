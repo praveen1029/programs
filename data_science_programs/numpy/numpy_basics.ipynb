{
 "cells": [
  {
   "cell_type": "code",
   "execution_count": 2,
   "id": "ff1c8e58",
   "metadata": {},
   "outputs": [],
   "source": [
    "import numpy as np"
   ]
  },
  {
   "cell_type": "code",
   "execution_count": 15,
   "id": "d1a8bfd4",
   "metadata": {},
   "outputs": [
    {
     "name": "stdout",
     "output_type": "stream",
     "text": [
      "[0 1 2 3 4 5 6 7 8 9]\n",
      "<class 'numpy.ndarray'>\n",
      "int32\n",
      "4\n",
      "10\n",
      "int8\n",
      "1\n",
      "1\n",
      "5\n"
     ]
    }
   ],
   "source": [
    "array = np.array([0,1,2,3,4,5,6,7,8,9])\n",
    "print(array)\n",
    "\n",
    "# print the type of array here array is object of class numpy.ndarray\n",
    "print(type(array))\n",
    "\n",
    "# print datatype of array\n",
    "print(array.dtype)\n",
    "\n",
    "# print size of each element in array here int8 so 8bit = 1byte\n",
    "print(array.itemsize)\n",
    "\n",
    "# print number of elements in array\n",
    "print(array.size)\n",
    "\n",
    "# create array with desired datatype\n",
    "array_1 = np.array([2,4,6,8,10],dtype=\"int8\")\n",
    "\n",
    "print(array_1.dtype)\n",
    "print(array_1.ndim)\n",
    "print(array_1.itemsize)\n",
    "print(array_1.size)"
   ]
  },
  {
   "cell_type": "code",
   "execution_count": 18,
   "id": "57b03754",
   "metadata": {},
   "outputs": [
    {
     "data": {
      "text/plain": [
       "array([2, 3, 4, 5, 6, 7])"
      ]
     },
     "execution_count": 18,
     "metadata": {},
     "output_type": "execute_result"
    }
   ],
   "source": [
    "# indexing\n",
    "\n",
    "array[2:8]"
   ]
  },
  {
   "cell_type": "code",
   "execution_count": 31,
   "id": "fb8e5b76",
   "metadata": {},
   "outputs": [
    {
     "name": "stdout",
     "output_type": "stream",
     "text": [
      "[[ 0  1  2  3  4  5]\n",
      " [ 6  7  8  9 10 11]]\n",
      "int32\n",
      "2\n",
      "4\n",
      "12\n",
      "(2, 6)\n"
     ]
    }
   ],
   "source": [
    "# two dimentional array \n",
    "twod_array = np.array([[0,1,2,3,4,5],[6,7,8,9,10,11]])\n",
    "print(twod_array)\n",
    "print(twod_array.dtype)\n",
    "\n",
    "# print dimensition of array here twod_array is a 2D array\n",
    "print(twod_array.ndim)\n",
    "\n",
    "print(twod_array.itemsize)\n",
    "print(twod_array.size)\n",
    "\n",
    "# print the shape of array ie number of rows and column\n",
    "print(twod_array.shape)"
   ]
  },
  {
   "cell_type": "raw",
   "id": "6f71e324",
   "metadata": {},
   "source": [
    "# three dimentional array\n",
    "threed_array = np.array([[[0,1,2],[3,4,5],[6,7,8]]])\n",
    "print(threed_array)\n",
    "print(threed_array.ndim)\n",
    "print(threed_array.shape)"
   ]
  },
  {
   "cell_type": "code",
   "execution_count": 42,
   "id": "f33b336e",
   "metadata": {},
   "outputs": [
    {
     "name": "stdout",
     "output_type": "stream",
     "text": [
      "[10 12 14 16 18 20 22 24 26 28 30 32 34 36 38 40 42 44 46 48 50 52 54 56\n",
      " 58 60 62 64 66 68 70 72 74 76 78 80 82 84 86 88 90 92 94 96 98]\n"
     ]
    }
   ],
   "source": [
    "# create array using arange here array is created whith values in a given range\n",
    "array_2 = np.arange(10,100,2)\n",
    "print(array_2)"
   ]
  },
  {
   "cell_type": "code",
   "execution_count": 28,
   "id": "80a41cd3",
   "metadata": {},
   "outputs": [
    {
     "name": "stdout",
     "output_type": "stream",
     "text": [
      "[ 1.          1.64285714  2.28571429  2.92857143  3.57142857  4.21428571\n",
      "  4.85714286  5.5         6.14285714  6.78571429  7.42857143  8.07142857\n",
      "  8.71428571  9.35714286 10.        ]\n"
     ]
    },
    {
     "data": {
      "text/plain": [
       "True"
      ]
     },
     "execution_count": 28,
     "metadata": {},
     "output_type": "execute_result"
    }
   ],
   "source": [
    "# create array using linspace here array is created with values in a given range with given partition\n",
    "array_3 = np.linspace(1,10,15)\n",
    "print(array_3)\n",
    "np.any(array_3)"
   ]
  },
  {
   "cell_type": "code",
   "execution_count": 29,
   "id": "1282d7f6",
   "metadata": {},
   "outputs": [
    {
     "name": "stdout",
     "output_type": "stream",
     "text": [
      "[     0      1      2 ... 999997 999998 999999]\n",
      "4\n"
     ]
    }
   ],
   "source": [
    "# create array with specified datatype\n",
    "array_4 = np.arange(1000000,dtype = \"int32\")\n",
    "print(array_4)\n",
    "print(array_4.itemsize)"
   ]
  },
  {
   "cell_type": "code",
   "execution_count": 58,
   "id": "1e34df06",
   "metadata": {},
   "outputs": [
    {
     "name": "stdout",
     "output_type": "stream",
     "text": [
      "[0.56479042 0.73693033 0.3645987  0.56968435 0.92939019 0.2538793\n",
      " 0.9134351  0.18513169 0.96614508 0.92590471]\n"
     ]
    }
   ],
   "source": [
    "# create array with random function    \n",
    "array_5 = np.random.random(10)\n",
    "print(array_5)"
   ]
  },
  {
   "cell_type": "code",
   "execution_count": 21,
   "id": "db40b5eb",
   "metadata": {},
   "outputs": [
    {
     "name": "stdout",
     "output_type": "stream",
     "text": [
      "[[ 0  1  2  3  4  5  6  7  8  9]\n",
      " [10 11 12 13 14 15 16 17 18 19]\n",
      " [20 21 22 23 24 25 26 27 28 29]\n",
      " [30 31 32 33 34 35 36 37 38 39]\n",
      " [40 41 42 43 44 45 46 47 48 49]\n",
      " [50 51 52 53 54 55 56 57 58 59]\n",
      " [60 61 62 63 64 65 66 67 68 69]\n",
      " [70 71 72 73 74 75 76 77 78 79]\n",
      " [80 81 82 83 84 85 86 87 88 89]\n",
      " [90 91 92 93 94 95 96 97 98 99]]\n"
     ]
    },
    {
     "data": {
      "text/plain": [
       "False"
      ]
     },
     "execution_count": 21,
     "metadata": {},
     "output_type": "execute_result"
    }
   ],
   "source": [
    "# reshape function\n",
    "array_6 = np.arange(10*10).reshape(10,10)\n",
    "print(array_6)\n",
    "np.all(array_6)"
   ]
  },
  {
   "cell_type": "code",
   "execution_count": 7,
   "id": "abb4fb2a",
   "metadata": {},
   "outputs": [
    {
     "data": {
      "text/plain": [
       "array([[0, 0, 0, 0, 0, 0, 0, 0, 0, 0],\n",
       "       [0, 0, 0, 0, 0, 0, 0, 0, 0, 0],\n",
       "       [0, 0, 0, 0, 0, 0, 0, 0, 0, 0],\n",
       "       [0, 0, 0, 0, 0, 0, 0, 0, 0, 0],\n",
       "       [0, 0, 0, 0, 0, 0, 0, 0, 0, 0],\n",
       "       [0, 0, 0, 0, 0, 0, 0, 0, 0, 0],\n",
       "       [0, 0, 0, 0, 0, 0, 0, 0, 0, 0],\n",
       "       [0, 0, 0, 0, 0, 0, 0, 0, 0, 0],\n",
       "       [0, 0, 0, 0, 0, 0, 0, 0, 0, 0],\n",
       "       [0, 0, 0, 0, 0, 0, 0, 0, 0, 0]])"
      ]
     },
     "execution_count": 7,
     "metadata": {},
     "output_type": "execute_result"
    }
   ],
   "source": [
    " np.zeros((10,10),\"int32\")"
   ]
  },
  {
   "cell_type": "code",
   "execution_count": 12,
   "id": "c0d8677d",
   "metadata": {},
   "outputs": [
    {
     "data": {
      "text/plain": [
       "array([[1, 1, 1, 1, 1, 1, 1, 1, 1, 1],\n",
       "       [1, 1, 1, 1, 1, 1, 1, 1, 1, 1],\n",
       "       [1, 1, 1, 1, 1, 1, 1, 1, 1, 1],\n",
       "       [1, 1, 1, 1, 1, 1, 1, 1, 1, 1],\n",
       "       [1, 1, 1, 1, 1, 1, 1, 1, 1, 1],\n",
       "       [1, 1, 1, 1, 1, 1, 1, 1, 1, 1],\n",
       "       [1, 1, 1, 1, 1, 1, 1, 1, 1, 1],\n",
       "       [1, 1, 1, 1, 1, 1, 1, 1, 1, 1],\n",
       "       [1, 1, 1, 1, 1, 1, 1, 1, 1, 1],\n",
       "       [1, 1, 1, 1, 1, 1, 1, 1, 1, 1]])"
      ]
     },
     "execution_count": 12,
     "metadata": {},
     "output_type": "execute_result"
    }
   ],
   "source": [
    " np.ones((10,10),\"int32\")"
   ]
  },
  {
   "cell_type": "code",
   "execution_count": 16,
   "id": "78930db9",
   "metadata": {},
   "outputs": [
    {
     "name": "stdout",
     "output_type": "stream",
     "text": [
      "[[[ 0  1  2  3]\n",
      "  [ 4  5  6  7]\n",
      "  [ 8  9 10 11]]\n",
      "\n",
      " [[12 13 14 15]\n",
      "  [16 17 18 19]\n",
      "  [20 21 22 23]]]\n"
     ]
    }
   ],
   "source": [
    "c = np.arange(24).reshape(2, 3, 4)  # 3d array\n",
    "print(c)"
   ]
  },
  {
   "cell_type": "code",
   "execution_count": 28,
   "id": "81b01787",
   "metadata": {},
   "outputs": [
    {
     "name": "stdout",
     "output_type": "stream",
     "text": [
      "[[ 0  1  2  3  4]\n",
      " [ 5  6  7  8  9]\n",
      " [10 11 12 13 14]\n",
      " [15 16 17 18 19]\n",
      " [20 21 22 23 24]]\n"
     ]
    },
    {
     "data": {
      "text/plain": [
       "array([ 4,  9, 14, 19, 24])"
      ]
     },
     "execution_count": 28,
     "metadata": {},
     "output_type": "execute_result"
    }
   ],
   "source": [
    "#slicing 2D array\n",
    "array_7 = np.arange(25).reshape(5,5)\n",
    "print(array_7)\n",
    "\n",
    "# selecting a particular element\n",
    "array_7[2,2]\n",
    "\n",
    "# selecting a particular row and column\n",
    "array_7[0:5,4]\n",
    "array_7[:,4]\n",
    "array_7[0:5,2:4]\n",
    "array_7[:,-1]"
   ]
  },
  {
   "cell_type": "code",
   "execution_count": 2,
   "id": "304054ef",
   "metadata": {},
   "outputs": [
    {
     "name": "stdout",
     "output_type": "stream",
     "text": [
      "[[[0 1 2]\n",
      "  [3 4 5]\n",
      "  [6 7 8]]]\n",
      "(1, 3, 3)\n"
     ]
    },
    {
     "data": {
      "text/plain": [
       "array([[0, 1, 2],\n",
       "       [3, 4, 5],\n",
       "       [6, 7, 8]])"
      ]
     },
     "execution_count": 2,
     "metadata": {},
     "output_type": "execute_result"
    }
   ],
   "source": [
    "# slicing 3D array\n",
    "array_8 = np.array([[[0,1,2],[3,4,5],[6,7,8]]])\n",
    "print(array_8)\n",
    "print(array_8.shape)\n",
    "array_8[0,:,:]\n",
    "\n",
    "array_8[:,2,:]\n",
    "array_8[:,:,2]\n",
    "array_8[0,1:3,1:3]\n",
    "array_8[0,...]"
   ]
  },
  {
   "cell_type": "code",
   "execution_count": 21,
   "id": "080ca3fc",
   "metadata": {},
   "outputs": [
    {
     "name": "stdout",
     "output_type": "stream",
     "text": [
      "[1 2 3 4]\n",
      "[2 3 4]\n",
      "None\n",
      "[1 2 3 4]\n",
      "[1 2 3 4]\n",
      "None\n",
      "[2 1 4]\n",
      "[1 2 1 4]\n"
     ]
    }
   ],
   "source": [
    "arr = np.array([1,2,3,4])\n",
    "print(arr)\n",
    "\n",
    "# arr_2 is view of arr\n",
    "arr_2 = arr[1:4]\n",
    "print(arr_2)\n",
    "\n",
    "# base used to show where array is derived\n",
    "print(arr.base)\n",
    "print(arr_2.base)\n",
    "\n",
    "# copy is used to create copy of array\n",
    "arr_3 = np.copy(arr)\n",
    "print(arr_3)\n",
    "print(arr_3.base)\n",
    "\n",
    "# change in view cause the orignial array to change also copy does not have this problem\n",
    "arr_2[1] = 1\n",
    "print(arr_2)\n",
    "print(arr)"
   ]
  },
  {
   "cell_type": "code",
   "execution_count": 31,
   "id": "d1cb4d8d",
   "metadata": {},
   "outputs": [
    {
     "name": "stdout",
     "output_type": "stream",
     "text": [
      "[[ 0  1  2  3]\n",
      " [ 4  5  6  7]\n",
      " [ 8  9 10 11]\n",
      " [12 13 14 15]]\n",
      "[ 0  1  2  3  4  5  6  7  8  9 10 11 12 13 14 15]\n",
      "[[[ 0  1]\n",
      "  [ 2  3]\n",
      "  [ 4  5]]\n",
      "\n",
      " [[ 6  7]\n",
      "  [ 8  9]\n",
      "  [10 11]]]\n",
      "[ 0  1  2  3  4  5  6  7  8  9 10 11]\n"
     ]
    }
   ],
   "source": [
    "# convert nd array to 1 dimentional array\n",
    "arr = np.arange(4*4).reshape(4,4)\n",
    "arr_2 = arr.ravel()\n",
    "print(arr)\n",
    "print(arr_2)\n",
    "arr_3 = np.arange(2*3*2).reshape(2,3,2)\n",
    "print(arr_3)\n",
    "arr_4 = arr_3.ravel()\n",
    "print(arr_4)"
   ]
  },
  {
   "cell_type": "code",
   "execution_count": 35,
   "id": "78a87147",
   "metadata": {},
   "outputs": [
    {
     "name": "stdout",
     "output_type": "stream",
     "text": [
      "[[1. 0. 0. 0. 0. 0. 0. 0. 0. 0.]\n",
      " [0. 1. 0. 0. 0. 0. 0. 0. 0. 0.]\n",
      " [0. 0. 1. 0. 0. 0. 0. 0. 0. 0.]\n",
      " [0. 0. 0. 1. 0. 0. 0. 0. 0. 0.]\n",
      " [0. 0. 0. 0. 1. 0. 0. 0. 0. 0.]\n",
      " [0. 0. 0. 0. 0. 1. 0. 0. 0. 0.]\n",
      " [0. 0. 0. 0. 0. 0. 1. 0. 0. 0.]\n",
      " [0. 0. 0. 0. 0. 0. 0. 1. 0. 0.]\n",
      " [0. 0. 0. 0. 0. 0. 0. 0. 1. 0.]\n",
      " [0. 0. 0. 0. 0. 0. 0. 0. 0. 1.]]\n"
     ]
    }
   ],
   "source": [
    "arr = np.eye(10)\n",
    "print(arr)"
   ]
  },
  {
   "cell_type": "code",
   "execution_count": 70,
   "id": "d6a60245",
   "metadata": {},
   "outputs": [
    {
     "name": "stdout",
     "output_type": "stream",
     "text": [
      "[[1 2 3]\n",
      " [4 5 6]]\n"
     ]
    },
    {
     "data": {
      "text/plain": [
       "array([[1],\n",
       "       [2],\n",
       "       [3],\n",
       "       [4],\n",
       "       [5],\n",
       "       [6]])"
      ]
     },
     "execution_count": 70,
     "metadata": {},
     "output_type": "execute_result"
    }
   ],
   "source": [
    "# stacks arrays verticaly ie rowwise\n",
    "arr = np.array([1,2,3])\n",
    "arr_2 = np.array([4,5,6])\n",
    "print(np.vstack([arr,arr_2]))\n",
    "\n",
    "arr_3 = np.array([[1],[2],[3]])\n",
    "arr_4 = np.array([[4],[5],[6]])\n",
    "np.vstack([arr_3,arr_4])"
   ]
  },
  {
   "cell_type": "code",
   "execution_count": 64,
   "id": "624cd146",
   "metadata": {},
   "outputs": [
    {
     "name": "stdout",
     "output_type": "stream",
     "text": [
      "[1 2 3 4 5 6]\n"
     ]
    },
    {
     "data": {
      "text/plain": [
       "array([[1, 4],\n",
       "       [2, 5],\n",
       "       [3, 6]])"
      ]
     },
     "execution_count": 64,
     "metadata": {},
     "output_type": "execute_result"
    }
   ],
   "source": [
    "# stacks arrays horizontaly ie columnwise\n",
    "arr = np.array([1,2,3])\n",
    "arr_2 = np.array([4,5,6])\n",
    "print(np.hstack([arr,arr_2]))\n",
    "\n",
    "arr_3 = np.array([[1],[2],[3]])\n",
    "arr_4 = np.array([[4],[5],[6]])\n",
    "np.hstack([arr_3,arr_4])"
   ]
  },
  {
   "cell_type": "code",
   "execution_count": 72,
   "id": "dd3e45bd",
   "metadata": {},
   "outputs": [
    {
     "name": "stdout",
     "output_type": "stream",
     "text": [
      "[[1 4]\n",
      " [2 5]\n",
      " [3 6]]\n"
     ]
    },
    {
     "data": {
      "text/plain": [
       "array([[1, 4],\n",
       "       [2, 5],\n",
       "       [3, 6]])"
      ]
     },
     "execution_count": 72,
     "metadata": {},
     "output_type": "execute_result"
    }
   ],
   "source": [
    "# stacks arrays horizontaly ie columnwise\n",
    "arr = np.array([1,2,3])\n",
    "arr_2 = np.array([4,5,6])\n",
    "print(np.column_stack([arr,arr_2]))\n",
    "\n",
    "arr_3 = np.array([[1],[2],[3]])\n",
    "arr_4 = np.array([[4],[5],[6]])\n",
    "np.column_stack([arr_3,arr_4])"
   ]
  },
  {
   "cell_type": "code",
   "execution_count": 73,
   "id": "cda60135",
   "metadata": {},
   "outputs": [
    {
     "name": "stdout",
     "output_type": "stream",
     "text": [
      "[[1 2 3]\n",
      " [4 5 6]]\n"
     ]
    },
    {
     "data": {
      "text/plain": [
       "array([[1],\n",
       "       [2],\n",
       "       [3],\n",
       "       [4],\n",
       "       [5],\n",
       "       [6]])"
      ]
     },
     "execution_count": 73,
     "metadata": {},
     "output_type": "execute_result"
    }
   ],
   "source": [
    "# stacks arrays verticaly ie rowwise\n",
    "arr = np.array([1,2,3])\n",
    "arr_2 = np.array([4,5,6])\n",
    "print(np.row_stack([arr,arr_2]))\n",
    "\n",
    "arr_3 = np.array([[1],[2],[3]])\n",
    "arr_4 = np.array([[4],[5],[6]])\n",
    "np.row_stack([arr_3,arr_4])"
   ]
  },
  {
   "cell_type": "code",
   "execution_count": 3,
   "id": "bdb2e749",
   "metadata": {},
   "outputs": [
    {
     "name": "stdout",
     "output_type": "stream",
     "text": [
      "[[ 0  1  2  3  4]\n",
      " [ 5  6  7  8  9]\n",
      " [10 11 12 13 14]\n",
      " [15 16 17 18 19]\n",
      " [20 21 22 23 24]]\n",
      "\n",
      " [ 0  5 10 15 20] \n",
      "\n",
      "[[ 0  1  2  3  4]\n",
      " [ 5  7  9 11 13]\n",
      " [15 18 21 24 27]\n",
      " [30 34 38 42 46]\n",
      " [50 55 60 65 70]]\n"
     ]
    }
   ],
   "source": [
    "arr = np.arange(5*5).reshape(5,5)\n",
    "print(arr)\n",
    "print(\"\\n\",arr.min(axis = 1),\"\\n\")\n",
    "print(arr.cumsum(axis = 0))"
   ]
  },
  {
   "cell_type": "code",
   "execution_count": 50,
   "id": "2693d8ea",
   "metadata": {},
   "outputs": [
    {
     "name": "stdout",
     "output_type": "stream",
     "text": [
      "Dot product 130\n",
      "vector dot product 130\n",
      "[[0 1]\n",
      " [2 3]]\n",
      "[[ 2  3]\n",
      " [ 6 11]]\n",
      "2\n",
      "3\n",
      "(array([-1.,  4.]), array([[-0.89442719,  0.4472136 ],\n",
      "       [ 0.4472136 ,  0.89442719]]))\n"
     ]
    }
   ],
   "source": [
    "array_1 = np.array([1,2,3,4,5])\n",
    "array_2 = np.array([6,7,8,9,10])\n",
    "array_3 = np.arange(4).reshape(2,2)\n",
    "print(\"Dot product\",array_1.dot(array_2))\n",
    "print(\"vector dot product\",np.vdot(array_1,array_2))\n",
    "print(array_3)\n",
    "print(np.linalg.matrix_power(array_3,2))\n",
    "print(np.linalg.matrix_rank(array_3))\n",
    "print(np.trace(array_3))\n",
    "print(np.linalg.eigh(array_3))"
   ]
  },
  {
   "cell_type": "code",
   "execution_count": 51,
   "id": "0776943a",
   "metadata": {},
   "outputs": [
    {
     "data": {
      "text/plain": [
       "array([[-1.5,  0.5],\n",
       "       [ 1. ,  0. ]])"
      ]
     },
     "execution_count": 51,
     "metadata": {},
     "output_type": "execute_result"
    }
   ],
   "source": [
    "from numpy.linalg import inv\n",
    "inv(array_3)"
   ]
  },
  {
   "cell_type": "code",
   "execution_count": 69,
   "id": "e43e1ead",
   "metadata": {},
   "outputs": [
    {
     "name": "stdout",
     "output_type": "stream",
     "text": [
      "array_1\n",
      " [[[ 0  1  2]\n",
      "  [ 3  4  5]\n",
      "  [ 6  7  8]]\n",
      "\n",
      " [[ 9 10 11]\n",
      "  [12 13 14]\n",
      "  [15 16 17]]\n",
      "\n",
      " [[18 19 20]\n",
      "  [21 22 23]\n",
      "  [24 25 26]]]\n",
      "\n",
      "array_2\n",
      " [1 2 3]\n",
      "\n",
      "sum\n",
      " [[[ 1  3  5]\n",
      "  [ 4  6  8]\n",
      "  [ 7  9 11]]\n",
      "\n",
      " [[10 12 14]\n",
      "  [13 15 17]\n",
      "  [16 18 20]]\n",
      "\n",
      " [[19 21 23]\n",
      "  [22 24 26]\n",
      "  [25 27 29]]]\n"
     ]
    }
   ],
   "source": [
    "# Broadcasting\n",
    "array_1 = np.arange(3*3*3).reshape(3,3,3)\n",
    "print(\"array_1\\n\",array_1)\n",
    "array_2 = np.array([1,2,3])\n",
    "print(\"\\narray_2\\n\",array_2)\n",
    "print(\"\\nsum\\n\",array_2+array_1)"
   ]
  }
 ],
 "metadata": {
  "kernelspec": {
   "display_name": "Python 3 (ipykernel)",
   "language": "python",
   "name": "python3"
  },
  "language_info": {
   "codemirror_mode": {
    "name": "ipython",
    "version": 3
   },
   "file_extension": ".py",
   "mimetype": "text/x-python",
   "name": "python",
   "nbconvert_exporter": "python",
   "pygments_lexer": "ipython3",
   "version": "3.9.7"
  }
 },
 "nbformat": 4,
 "nbformat_minor": 5
}
