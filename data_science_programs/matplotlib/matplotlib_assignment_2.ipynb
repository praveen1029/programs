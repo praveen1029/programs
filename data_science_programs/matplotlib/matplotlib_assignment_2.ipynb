{
 "cells": [
  {
   "cell_type": "code",
   "execution_count": 56,
   "id": "f5cf1569",
   "metadata": {},
   "outputs": [],
   "source": [
    "import pandas as pd\n",
    "import numpy as np\n",
    "from matplotlib import pyplot as plt \n",
    "from matplotlib.pyplot import figure\n",
    "from scipy import stats"
   ]
  },
  {
   "cell_type": "code",
   "execution_count": 57,
   "id": "53849f3c",
   "metadata": {},
   "outputs": [
    {
     "data": {
      "text/html": [
       "<div>\n",
       "<style scoped>\n",
       "    .dataframe tbody tr th:only-of-type {\n",
       "        vertical-align: middle;\n",
       "    }\n",
       "\n",
       "    .dataframe tbody tr th {\n",
       "        vertical-align: top;\n",
       "    }\n",
       "\n",
       "    .dataframe thead th {\n",
       "        text-align: right;\n",
       "    }\n",
       "</style>\n",
       "<table border=\"1\" class=\"dataframe\">\n",
       "  <thead>\n",
       "    <tr style=\"text-align: right;\">\n",
       "      <th></th>\n",
       "      <th>Mouse ID</th>\n",
       "      <th>Drug Regimen</th>\n",
       "      <th>Sex</th>\n",
       "      <th>Age_months</th>\n",
       "      <th>Weight (g)</th>\n",
       "      <th>Timepoint</th>\n",
       "      <th>Tumor Volume (mm3)</th>\n",
       "      <th>Metastatic Sites</th>\n",
       "    </tr>\n",
       "  </thead>\n",
       "  <tbody>\n",
       "    <tr>\n",
       "      <th>0</th>\n",
       "      <td>k403</td>\n",
       "      <td>Ramicane</td>\n",
       "      <td>Male</td>\n",
       "      <td>21</td>\n",
       "      <td>16</td>\n",
       "      <td>0</td>\n",
       "      <td>45.000000</td>\n",
       "      <td>0</td>\n",
       "    </tr>\n",
       "    <tr>\n",
       "      <th>1</th>\n",
       "      <td>k403</td>\n",
       "      <td>Ramicane</td>\n",
       "      <td>Male</td>\n",
       "      <td>21</td>\n",
       "      <td>16</td>\n",
       "      <td>5</td>\n",
       "      <td>38.825898</td>\n",
       "      <td>0</td>\n",
       "    </tr>\n",
       "    <tr>\n",
       "      <th>2</th>\n",
       "      <td>k403</td>\n",
       "      <td>Ramicane</td>\n",
       "      <td>Male</td>\n",
       "      <td>21</td>\n",
       "      <td>16</td>\n",
       "      <td>10</td>\n",
       "      <td>35.014271</td>\n",
       "      <td>1</td>\n",
       "    </tr>\n",
       "    <tr>\n",
       "      <th>3</th>\n",
       "      <td>k403</td>\n",
       "      <td>Ramicane</td>\n",
       "      <td>Male</td>\n",
       "      <td>21</td>\n",
       "      <td>16</td>\n",
       "      <td>15</td>\n",
       "      <td>34.223992</td>\n",
       "      <td>1</td>\n",
       "    </tr>\n",
       "    <tr>\n",
       "      <th>4</th>\n",
       "      <td>k403</td>\n",
       "      <td>Ramicane</td>\n",
       "      <td>Male</td>\n",
       "      <td>21</td>\n",
       "      <td>16</td>\n",
       "      <td>20</td>\n",
       "      <td>32.997729</td>\n",
       "      <td>1</td>\n",
       "    </tr>\n",
       "  </tbody>\n",
       "</table>\n",
       "</div>"
      ],
      "text/plain": [
       "  Mouse ID Drug Regimen   Sex  Age_months  Weight (g)  Timepoint  \\\n",
       "0     k403     Ramicane  Male          21          16          0   \n",
       "1     k403     Ramicane  Male          21          16          5   \n",
       "2     k403     Ramicane  Male          21          16         10   \n",
       "3     k403     Ramicane  Male          21          16         15   \n",
       "4     k403     Ramicane  Male          21          16         20   \n",
       "\n",
       "   Tumor Volume (mm3)  Metastatic Sites  \n",
       "0           45.000000                 0  \n",
       "1           38.825898                 0  \n",
       "2           35.014271                 1  \n",
       "3           34.223992                 1  \n",
       "4           32.997729                 1  "
      ]
     },
     "execution_count": 57,
     "metadata": {},
     "output_type": "execute_result"
    }
   ],
   "source": [
    "# 1. Run the provided package dependency and data imports, \n",
    "#  and then merge them mouse_metadata and study_results DataFrames into a single DataFrame.\n",
    "\n",
    "df1 = pd.read_csv(\"Mouse_metadata.csv\")\n",
    "df2 = pd.read_csv(\"Study_results.csv\")\n",
    "df = pd.merge(df1,df2)\n",
    "df.head()"
   ]
  },
  {
   "cell_type": "code",
   "execution_count": 58,
   "id": "a40113e6",
   "metadata": {},
   "outputs": [
    {
     "name": "stdout",
     "output_type": "stream",
     "text": [
      "Number of Unique Mouse Id: 249\n",
      "    Mouse ID Drug Regimen     Sex  Age_months  Weight (g)  Timepoint  \\\n",
      "909     g989     Propriva  Female          21          26          0   \n",
      "911     g989     Propriva  Female          21          26          5   \n",
      "913     g989     Propriva  Female          21          26         10   \n",
      "915     g989     Propriva  Female          21          26         15   \n",
      "917     g989     Propriva  Female          21          26         20   \n",
      "\n",
      "     Tumor Volume (mm3)  Metastatic Sites  \n",
      "909           45.000000                 0  \n",
      "911           47.570392                 0  \n",
      "913           49.880528                 0  \n",
      "915           53.442020                 0  \n",
      "917           54.657650                 1  \n"
     ]
    }
   ],
   "source": [
    "# 2.Display the number of unique mice IDs in the data, and then check for any mouse ID with\n",
    "# duplicate time points. Display the data associated with that mouse ID, and then create a new\n",
    "# DataFrame where this data is removed. Use this cleaned DataFrame for the remaining step.\n",
    "\n",
    "print(\"Number of Unique Mouse Id:\",len(df[\"Mouse ID\"].unique()))\n",
    "print(df[df.duplicated([\"Mouse ID\",\"Timepoint\"])])\n"
   ]
  },
  {
   "cell_type": "code",
   "execution_count": 59,
   "id": "9be2d30f",
   "metadata": {},
   "outputs": [
    {
     "data": {
      "text/html": [
       "<div>\n",
       "<style scoped>\n",
       "    .dataframe tbody tr th:only-of-type {\n",
       "        vertical-align: middle;\n",
       "    }\n",
       "\n",
       "    .dataframe tbody tr th {\n",
       "        vertical-align: top;\n",
       "    }\n",
       "\n",
       "    .dataframe thead th {\n",
       "        text-align: right;\n",
       "    }\n",
       "</style>\n",
       "<table border=\"1\" class=\"dataframe\">\n",
       "  <thead>\n",
       "    <tr style=\"text-align: right;\">\n",
       "      <th></th>\n",
       "      <th>Mouse ID</th>\n",
       "      <th>Drug Regimen</th>\n",
       "      <th>Sex</th>\n",
       "      <th>Age_months</th>\n",
       "      <th>Weight (g)</th>\n",
       "      <th>Timepoint</th>\n",
       "      <th>Tumor Volume (mm3)</th>\n",
       "      <th>Metastatic Sites</th>\n",
       "    </tr>\n",
       "  </thead>\n",
       "  <tbody>\n",
       "    <tr>\n",
       "      <th>0</th>\n",
       "      <td>k403</td>\n",
       "      <td>Ramicane</td>\n",
       "      <td>Male</td>\n",
       "      <td>21</td>\n",
       "      <td>16</td>\n",
       "      <td>0</td>\n",
       "      <td>45.000000</td>\n",
       "      <td>0</td>\n",
       "    </tr>\n",
       "    <tr>\n",
       "      <th>1</th>\n",
       "      <td>k403</td>\n",
       "      <td>Ramicane</td>\n",
       "      <td>Male</td>\n",
       "      <td>21</td>\n",
       "      <td>16</td>\n",
       "      <td>5</td>\n",
       "      <td>38.825898</td>\n",
       "      <td>0</td>\n",
       "    </tr>\n",
       "    <tr>\n",
       "      <th>2</th>\n",
       "      <td>k403</td>\n",
       "      <td>Ramicane</td>\n",
       "      <td>Male</td>\n",
       "      <td>21</td>\n",
       "      <td>16</td>\n",
       "      <td>10</td>\n",
       "      <td>35.014271</td>\n",
       "      <td>1</td>\n",
       "    </tr>\n",
       "    <tr>\n",
       "      <th>3</th>\n",
       "      <td>k403</td>\n",
       "      <td>Ramicane</td>\n",
       "      <td>Male</td>\n",
       "      <td>21</td>\n",
       "      <td>16</td>\n",
       "      <td>15</td>\n",
       "      <td>34.223992</td>\n",
       "      <td>1</td>\n",
       "    </tr>\n",
       "    <tr>\n",
       "      <th>4</th>\n",
       "      <td>k403</td>\n",
       "      <td>Ramicane</td>\n",
       "      <td>Male</td>\n",
       "      <td>21</td>\n",
       "      <td>16</td>\n",
       "      <td>20</td>\n",
       "      <td>32.997729</td>\n",
       "      <td>1</td>\n",
       "    </tr>\n",
       "  </tbody>\n",
       "</table>\n",
       "</div>"
      ],
      "text/plain": [
       "  Mouse ID Drug Regimen   Sex  Age_months  Weight (g)  Timepoint  \\\n",
       "0     k403     Ramicane  Male          21          16          0   \n",
       "1     k403     Ramicane  Male          21          16          5   \n",
       "2     k403     Ramicane  Male          21          16         10   \n",
       "3     k403     Ramicane  Male          21          16         15   \n",
       "4     k403     Ramicane  Male          21          16         20   \n",
       "\n",
       "   Tumor Volume (mm3)  Metastatic Sites  \n",
       "0           45.000000                 0  \n",
       "1           38.825898                 0  \n",
       "2           35.014271                 1  \n",
       "3           34.223992                 1  \n",
       "4           32.997729                 1  "
      ]
     },
     "execution_count": 59,
     "metadata": {},
     "output_type": "execute_result"
    }
   ],
   "source": [
    "# create a new DataFrame where this data is removed. Use this cleaned DataFrame for the remaining step.\n",
    "\n",
    "cleaned_df = df.drop_duplicates(subset=[\"Mouse ID\",\"Timepoint\"],keep = \"last\")\n",
    "cleaned_df.head()"
   ]
  },
  {
   "cell_type": "code",
   "execution_count": 60,
   "id": "ebd3d608",
   "metadata": {},
   "outputs": [
    {
     "data": {
      "text/html": [
       "<div>\n",
       "<style scoped>\n",
       "    .dataframe tbody tr th:only-of-type {\n",
       "        vertical-align: middle;\n",
       "    }\n",
       "\n",
       "    .dataframe tbody tr th {\n",
       "        vertical-align: top;\n",
       "    }\n",
       "\n",
       "    .dataframe thead th {\n",
       "        text-align: right;\n",
       "    }\n",
       "</style>\n",
       "<table border=\"1\" class=\"dataframe\">\n",
       "  <thead>\n",
       "    <tr style=\"text-align: right;\">\n",
       "      <th></th>\n",
       "      <th>drug_regimen_mean</th>\n",
       "      <th>drug_regimen_median</th>\n",
       "      <th>drug_regimen_variance</th>\n",
       "      <th>drug_regimen_std</th>\n",
       "      <th>drug_regimen_sem</th>\n",
       "    </tr>\n",
       "    <tr>\n",
       "      <th>Drug Regimen</th>\n",
       "      <th></th>\n",
       "      <th></th>\n",
       "      <th></th>\n",
       "      <th></th>\n",
       "      <th></th>\n",
       "    </tr>\n",
       "  </thead>\n",
       "  <tbody>\n",
       "    <tr>\n",
       "      <th>Capomulin</th>\n",
       "      <td>40.675741</td>\n",
       "      <td>41.557809</td>\n",
       "      <td>24.947764</td>\n",
       "      <td>4.994774</td>\n",
       "      <td>0.329346</td>\n",
       "    </tr>\n",
       "    <tr>\n",
       "      <th>Ceftamin</th>\n",
       "      <td>52.591172</td>\n",
       "      <td>51.776157</td>\n",
       "      <td>39.290177</td>\n",
       "      <td>6.268188</td>\n",
       "      <td>0.469821</td>\n",
       "    </tr>\n",
       "    <tr>\n",
       "      <th>Infubinol</th>\n",
       "      <td>52.884795</td>\n",
       "      <td>51.820584</td>\n",
       "      <td>43.128684</td>\n",
       "      <td>6.567243</td>\n",
       "      <td>0.492236</td>\n",
       "    </tr>\n",
       "    <tr>\n",
       "      <th>Ketapril</th>\n",
       "      <td>55.235638</td>\n",
       "      <td>53.698743</td>\n",
       "      <td>68.553577</td>\n",
       "      <td>8.279709</td>\n",
       "      <td>0.603860</td>\n",
       "    </tr>\n",
       "    <tr>\n",
       "      <th>Naftisol</th>\n",
       "      <td>54.331565</td>\n",
       "      <td>52.509285</td>\n",
       "      <td>66.173479</td>\n",
       "      <td>8.134708</td>\n",
       "      <td>0.596466</td>\n",
       "    </tr>\n",
       "    <tr>\n",
       "      <th>Placebo</th>\n",
       "      <td>54.033581</td>\n",
       "      <td>52.288934</td>\n",
       "      <td>61.168083</td>\n",
       "      <td>7.821003</td>\n",
       "      <td>0.581331</td>\n",
       "    </tr>\n",
       "    <tr>\n",
       "      <th>Propriva</th>\n",
       "      <td>52.322552</td>\n",
       "      <td>50.854632</td>\n",
       "      <td>42.351070</td>\n",
       "      <td>6.507770</td>\n",
       "      <td>0.512884</td>\n",
       "    </tr>\n",
       "    <tr>\n",
       "      <th>Ramicane</th>\n",
       "      <td>40.216745</td>\n",
       "      <td>40.673236</td>\n",
       "      <td>23.486704</td>\n",
       "      <td>4.846308</td>\n",
       "      <td>0.320955</td>\n",
       "    </tr>\n",
       "    <tr>\n",
       "      <th>Stelasyn</th>\n",
       "      <td>54.233149</td>\n",
       "      <td>52.431737</td>\n",
       "      <td>59.450562</td>\n",
       "      <td>7.710419</td>\n",
       "      <td>0.573111</td>\n",
       "    </tr>\n",
       "    <tr>\n",
       "      <th>Zoniferol</th>\n",
       "      <td>53.236507</td>\n",
       "      <td>51.818479</td>\n",
       "      <td>48.533355</td>\n",
       "      <td>6.966589</td>\n",
       "      <td>0.516398</td>\n",
       "    </tr>\n",
       "  </tbody>\n",
       "</table>\n",
       "</div>"
      ],
      "text/plain": [
       "              drug_regimen_mean  drug_regimen_median  drug_regimen_variance  \\\n",
       "Drug Regimen                                                                  \n",
       "Capomulin             40.675741            41.557809              24.947764   \n",
       "Ceftamin              52.591172            51.776157              39.290177   \n",
       "Infubinol             52.884795            51.820584              43.128684   \n",
       "Ketapril              55.235638            53.698743              68.553577   \n",
       "Naftisol              54.331565            52.509285              66.173479   \n",
       "Placebo               54.033581            52.288934              61.168083   \n",
       "Propriva              52.322552            50.854632              42.351070   \n",
       "Ramicane              40.216745            40.673236              23.486704   \n",
       "Stelasyn              54.233149            52.431737              59.450562   \n",
       "Zoniferol             53.236507            51.818479              48.533355   \n",
       "\n",
       "              drug_regimen_std  drug_regimen_sem  \n",
       "Drug Regimen                                      \n",
       "Capomulin             4.994774          0.329346  \n",
       "Ceftamin              6.268188          0.469821  \n",
       "Infubinol             6.567243          0.492236  \n",
       "Ketapril              8.279709          0.603860  \n",
       "Naftisol              8.134708          0.596466  \n",
       "Placebo               7.821003          0.581331  \n",
       "Propriva              6.507770          0.512884  \n",
       "Ramicane              4.846308          0.320955  \n",
       "Stelasyn              7.710419          0.573111  \n",
       "Zoniferol             6.966589          0.516398  "
      ]
     },
     "execution_count": 60,
     "metadata": {},
     "output_type": "execute_result"
    }
   ],
   "source": [
    "# use the `groupby` method to generate the mean, median,\n",
    "# variance, standard deviation, and SEM of the tumor volume for each drug regimen.\n",
    "# This should result in five unique series objects. Combine these objects into a single summary statistics DataFrames.\n",
    "\n",
    "drug_regimen_mean = df.groupby(\"Drug Regimen\").mean()[\"Tumor Volume (mm3)\"]\n",
    "drug_regimen_median = df.groupby(\"Drug Regimen\").median()[\"Tumor Volume (mm3)\"]\n",
    "drug_regimen_variance = df.groupby(\"Drug Regimen\").var()[\"Tumor Volume (mm3)\"]\n",
    "drug_regimen_std = df.groupby(\"Drug Regimen\").std()[\"Tumor Volume (mm3)\"]\n",
    "drug_regimen_sem = df.groupby(\"Drug Regimen\").sem()[\"Tumor Volume (mm3)\"]\n",
    "\n",
    "sum_stat_df = pd.DataFrame({\"drug_regimen_mean\":drug_regimen_mean,\n",
    "                            \"drug_regimen_median\":drug_regimen_median,\n",
    "                            \"drug_regimen_variance\":drug_regimen_variance,\n",
    "                            \"drug_regimen_std\":drug_regimen_std,\n",
    "                            \"drug_regimen_sem\":drug_regimen_sem})\n",
    "sum_stat_df"
   ]
  },
  {
   "cell_type": "code",
   "execution_count": 61,
   "id": "647b7c87",
   "metadata": {},
   "outputs": [
    {
     "name": "stdout",
     "output_type": "stream",
     "text": [
      "                   mean     median        var       std       sem\n",
      "Drug Regimen                                                     \n",
      "Capomulin     40.675741  41.557809  24.947764  4.994774  0.329346\n",
      "Ceftamin      52.591172  51.776157  39.290177  6.268188  0.469821\n",
      "Infubinol     52.884795  51.820584  43.128684  6.567243  0.492236\n",
      "Ketapril      55.235638  53.698743  68.553577  8.279709  0.603860\n",
      "Naftisol      54.331565  52.509285  66.173479  8.134708  0.596466\n",
      "Placebo       54.033581  52.288934  61.168083  7.821003  0.581331\n",
      "Propriva      52.322552  50.854632  42.351070  6.507770  0.512884\n",
      "Ramicane      40.216745  40.673236  23.486704  4.846308  0.320955\n",
      "Stelasyn      54.233149  52.431737  59.450562  7.710419  0.573111\n",
      "Zoniferol     53.236507  51.818479  48.533355  6.966589  0.516398\n"
     ]
    }
   ],
   "source": [
    "# use the `agg` method to produce the same summary statistics table by using a single line of code.\n",
    "\n",
    "sum_stat_df1 = df.groupby(\"Drug Regimen\").agg([\"mean\",\"median\",\"var\",\"std\",\"sem\"])[\"Tumor Volume (mm3)\"]\n",
    "print(sum_stat_df1)"
   ]
  },
  {
   "cell_type": "code",
   "execution_count": 62,
   "id": "8ea42d79",
   "metadata": {},
   "outputs": [
    {
     "name": "stdout",
     "output_type": "stream",
     "text": [
      "Drug Regimen\n",
      "Capomulin    230\n",
      "Ceftamin     178\n",
      "Infubinol    178\n",
      "Ketapril     188\n",
      "Naftisol     186\n",
      "Placebo      181\n",
      "Propriva     161\n",
      "Ramicane     228\n",
      "Stelasyn     181\n",
      "Zoniferol    182\n",
      "Name: Mouse ID, dtype: int64\n"
     ]
    },
    {
     "data": {
      "text/plain": [
       "<AxesSubplot:xlabel='Drug Regimen', ylabel='Count of mice'>"
      ]
     },
     "execution_count": 62,
     "metadata": {},
     "output_type": "execute_result"
    },
    {
     "data": {
      "image/png": "[encoded data removed]",
      "text/plain": [
       "<Figure size 432x288 with 1 Axes>"
      ]
     },
     "metadata": {
      "needs_background": "light"
     },
     "output_type": "display_data"
    }
   ],
   "source": [
    "# Generate bar plot that show the total number of timepoints for all mice tested for each drug regimen \n",
    "# throughout the course of the study,using Pandas's DataFrame.plot() method.\n",
    "\n",
    "drug_mice_plot = df.groupby(\"Drug Regimen\").count()[\"Mouse ID\"]\n",
    "print(drug_mice_plot)\n",
    "drug_mice_plot.plot(kind=\"bar\",ylabel = \"Count of mice\")"
   ]
  },
  {
   "cell_type": "code",
   "execution_count": 63,
   "id": "116baf4f",
   "metadata": {},
   "outputs": [
    {
     "data": {
      "image/png": "[encoded data removed]",
      "text/plain": [
       "<Figure size 720x504 with 1 Axes>"
      ]
     },
     "metadata": {
      "needs_background": "light"
     },
     "output_type": "display_data"
    }
   ],
   "source": [
    "# Generate bar plot that show the total number of timepoints for all mice tested for each drug regimen \n",
    "# throughout the course of the study,using Matplotlib's pyplot methods.\n",
    "\n",
    "plt_1 = plt.figure(figsize=(10,7))\n",
    "drug_mice_plot1 = pd.DataFrame(df.groupby(\"Drug Regimen\").count()[\"Mouse ID\"])\n",
    "x = drug_mice_plot1.index\n",
    "y = drug_mice_plot1.iloc[:,0]\n",
    "plt.bar(x,y)\n",
    "plt.xlabel(\"Drug Regimen\")\n",
    "plt.ylabel(\"Count of mice\")\n",
    "plt.show()"
   ]
  },
  {
   "cell_type": "code",
   "execution_count": 64,
   "id": "631ea27f",
   "metadata": {},
   "outputs": [
    {
     "data": {
      "text/plain": [
       "<AxesSubplot:ylabel='Mouse ID'>"
      ]
     },
     "execution_count": 64,
     "metadata": {},
     "output_type": "execute_result"
    },
    {
     "data": {
      "image/png": "[encoded data removed]",
      "text/plain": [
       "<Figure size 432x288 with 1 Axes>"
      ]
     },
     "metadata": {},
     "output_type": "display_data"
    }
   ],
   "source": [
    "# Generate pie plot that show the distribution of female or male mice in the study,using Pandas's DataFrame.plot().\n",
    "\n",
    "male_female_mice = df.groupby(\"Sex\").nunique()[\"Mouse ID\"]\n",
    "male_female_mice.plot(kind=\"pie\",autopct='%1.0f%%',startangle=140)"
   ]
  },
  {
   "cell_type": "code",
   "execution_count": 65,
   "id": "dc1f93f9",
   "metadata": {},
   "outputs": [
    {
     "data": {
      "image/png": "[encoded data removed]",
      "text/plain": [
       "<Figure size 432x288 with 1 Axes>"
      ]
     },
     "metadata": {},
     "output_type": "display_data"
    }
   ],
   "source": [
    "# Generate pie plot that show the distribution of female or male mice in the study,using Matplotlib's pyplot methods.\n",
    "\n",
    "male_female_mice1 =pd.DataFrame(df.groupby(\"Sex\").nunique()[\"Mouse ID\"])\n",
    "x = male_female_mice1.iloc[:,0]\n",
    "y = [\"Male\",\"Female\"]\n",
    "plt.pie(x,labels=y,autopct='%1.0f%%',startangle=145)\n",
    "plt.show()"
   ]
  },
  {
   "cell_type": "code",
   "execution_count": 66,
   "id": "c3db9347",
   "metadata": {},
   "outputs": [
    {
     "data": {
      "text/html": [
       "<div>\n",
       "<style scoped>\n",
       "    .dataframe tbody tr th:only-of-type {\n",
       "        vertical-align: middle;\n",
       "    }\n",
       "\n",
       "    .dataframe tbody tr th {\n",
       "        vertical-align: top;\n",
       "    }\n",
       "\n",
       "    .dataframe thead th {\n",
       "        text-align: right;\n",
       "    }\n",
       "</style>\n",
       "<table border=\"1\" class=\"dataframe\">\n",
       "  <thead>\n",
       "    <tr style=\"text-align: right;\">\n",
       "      <th></th>\n",
       "      <th>Mouse ID</th>\n",
       "      <th>Timepoint</th>\n",
       "      <th>Drug Regimen</th>\n",
       "      <th>Sex</th>\n",
       "      <th>Age_months</th>\n",
       "      <th>Weight (g)</th>\n",
       "      <th>Tumor Volume (mm3)</th>\n",
       "      <th>Metastatic Sites</th>\n",
       "    </tr>\n",
       "  </thead>\n",
       "  <tbody>\n",
       "    <tr>\n",
       "      <th>0</th>\n",
       "      <td>a203</td>\n",
       "      <td>45</td>\n",
       "      <td>Infubinol</td>\n",
       "      <td>Female</td>\n",
       "      <td>20</td>\n",
       "      <td>23</td>\n",
       "      <td>67.973419</td>\n",
       "      <td>2</td>\n",
       "    </tr>\n",
       "    <tr>\n",
       "      <th>1</th>\n",
       "      <td>a251</td>\n",
       "      <td>45</td>\n",
       "      <td>Infubinol</td>\n",
       "      <td>Female</td>\n",
       "      <td>21</td>\n",
       "      <td>25</td>\n",
       "      <td>65.525743</td>\n",
       "      <td>1</td>\n",
       "    </tr>\n",
       "    <tr>\n",
       "      <th>2</th>\n",
       "      <td>a262</td>\n",
       "      <td>45</td>\n",
       "      <td>Placebo</td>\n",
       "      <td>Female</td>\n",
       "      <td>17</td>\n",
       "      <td>29</td>\n",
       "      <td>70.717621</td>\n",
       "      <td>4</td>\n",
       "    </tr>\n",
       "    <tr>\n",
       "      <th>3</th>\n",
       "      <td>a275</td>\n",
       "      <td>45</td>\n",
       "      <td>Ceftamin</td>\n",
       "      <td>Female</td>\n",
       "      <td>20</td>\n",
       "      <td>28</td>\n",
       "      <td>62.999356</td>\n",
       "      <td>3</td>\n",
       "    </tr>\n",
       "    <tr>\n",
       "      <th>4</th>\n",
       "      <td>a366</td>\n",
       "      <td>30</td>\n",
       "      <td>Stelasyn</td>\n",
       "      <td>Female</td>\n",
       "      <td>16</td>\n",
       "      <td>29</td>\n",
       "      <td>63.440686</td>\n",
       "      <td>1</td>\n",
       "    </tr>\n",
       "    <tr>\n",
       "      <th>...</th>\n",
       "      <td>...</td>\n",
       "      <td>...</td>\n",
       "      <td>...</td>\n",
       "      <td>...</td>\n",
       "      <td>...</td>\n",
       "      <td>...</td>\n",
       "      <td>...</td>\n",
       "      <td>...</td>\n",
       "    </tr>\n",
       "    <tr>\n",
       "      <th>244</th>\n",
       "      <td>z435</td>\n",
       "      <td>10</td>\n",
       "      <td>Propriva</td>\n",
       "      <td>Female</td>\n",
       "      <td>12</td>\n",
       "      <td>26</td>\n",
       "      <td>48.710661</td>\n",
       "      <td>0</td>\n",
       "    </tr>\n",
       "    <tr>\n",
       "      <th>245</th>\n",
       "      <td>z578</td>\n",
       "      <td>45</td>\n",
       "      <td>Ramicane</td>\n",
       "      <td>Male</td>\n",
       "      <td>11</td>\n",
       "      <td>16</td>\n",
       "      <td>30.638696</td>\n",
       "      <td>0</td>\n",
       "    </tr>\n",
       "    <tr>\n",
       "      <th>246</th>\n",
       "      <td>z581</td>\n",
       "      <td>45</td>\n",
       "      <td>Infubinol</td>\n",
       "      <td>Female</td>\n",
       "      <td>24</td>\n",
       "      <td>25</td>\n",
       "      <td>62.754451</td>\n",
       "      <td>3</td>\n",
       "    </tr>\n",
       "    <tr>\n",
       "      <th>247</th>\n",
       "      <td>z795</td>\n",
       "      <td>45</td>\n",
       "      <td>Naftisol</td>\n",
       "      <td>Female</td>\n",
       "      <td>13</td>\n",
       "      <td>29</td>\n",
       "      <td>65.741070</td>\n",
       "      <td>3</td>\n",
       "    </tr>\n",
       "    <tr>\n",
       "      <th>248</th>\n",
       "      <td>z969</td>\n",
       "      <td>45</td>\n",
       "      <td>Naftisol</td>\n",
       "      <td>Male</td>\n",
       "      <td>9</td>\n",
       "      <td>30</td>\n",
       "      <td>73.867845</td>\n",
       "      <td>4</td>\n",
       "    </tr>\n",
       "  </tbody>\n",
       "</table>\n",
       "<p>249 rows × 8 columns</p>\n",
       "</div>"
      ],
      "text/plain": [
       "    Mouse ID  Timepoint Drug Regimen     Sex  Age_months  Weight (g)  \\\n",
       "0       a203         45    Infubinol  Female          20          23   \n",
       "1       a251         45    Infubinol  Female          21          25   \n",
       "2       a262         45      Placebo  Female          17          29   \n",
       "3       a275         45     Ceftamin  Female          20          28   \n",
       "4       a366         30     Stelasyn  Female          16          29   \n",
       "..       ...        ...          ...     ...         ...         ...   \n",
       "244     z435         10     Propriva  Female          12          26   \n",
       "245     z578         45     Ramicane    Male          11          16   \n",
       "246     z581         45    Infubinol  Female          24          25   \n",
       "247     z795         45     Naftisol  Female          13          29   \n",
       "248     z969         45     Naftisol    Male           9          30   \n",
       "\n",
       "     Tumor Volume (mm3)  Metastatic Sites  \n",
       "0             67.973419                 2  \n",
       "1             65.525743                 1  \n",
       "2             70.717621                 4  \n",
       "3             62.999356                 3  \n",
       "4             63.440686                 1  \n",
       "..                  ...               ...  \n",
       "244           48.710661                 0  \n",
       "245           30.638696                 0  \n",
       "246           62.754451                 3  \n",
       "247           65.741070                 3  \n",
       "248           73.867845                 4  \n",
       "\n",
       "[249 rows x 8 columns]"
      ]
     },
     "execution_count": 66,
     "metadata": {},
     "output_type": "execute_result"
    }
   ],
   "source": [
    "# Create a grouped DataFrame that shows the last (greatest) time point for each mouse.\n",
    "# Merge this grouped DataFrame with the original cleaned DataFrame.\n",
    "\n",
    "greatest_df = df.groupby(\"Mouse ID\").max()[\"Timepoint\"]\n",
    "new_df = pd.merge(greatest_df,df,on=('Mouse ID','Timepoint'))\n",
    "new_df"
   ]
  },
  {
   "cell_type": "code",
   "execution_count": 67,
   "id": "00ee67ad",
   "metadata": {},
   "outputs": [],
   "source": [
    "# Create a list that holds the treatment names, as well as a second, empty list to hold\n",
    "# the tumor volume data.\n",
    "treatment_name = [\"Capomulin\", \"Ramicane\", \"Infubinol\", \"Ceftamin\"]\n",
    "Capomulin_data = []\n",
    "Ramicane_data = []\n",
    "Infubinol_data = []\n",
    "Ceftamin_data = []"
   ]
  },
  {
   "cell_type": "code",
   "execution_count": 68,
   "id": "18ca3556",
   "metadata": {},
   "outputs": [],
   "source": [
    "# Loop through each drug in the treatment list, locating the rows in the merged\n",
    "# DataFrame that correspond to each treatment. Append the resulting final tumor\n",
    "# volumes for each drug to the empty list.\n",
    "\n",
    "for index in new_df.index:\n",
    "    if (new_df[\"Drug Regimen\"][index]==treatment_name[0]):\n",
    "        Capomulin_data.append(new_df[\"Tumor Volume (mm3)\"][index])\n",
    "        \n",
    "    elif (new_df[\"Drug Regimen\"][index]==treatment_name[1]):\n",
    "        Ramicane_data.append(new_df[\"Tumor Volume (mm3)\"][index])\n",
    "        \n",
    "    elif (new_df[\"Drug Regimen\"][index]==treatment_name[2]):\n",
    "        Infubinol_data.append(new_df[\"Tumor Volume (mm3)\"][index])\n",
    "        \n",
    "    elif (new_df[\"Drug Regimen\"][index]==treatment_name[3]):\n",
    "        Ceftamin_data.append(new_df[\"Tumor Volume (mm3)\"][index])"
   ]
  },
  {
   "cell_type": "code",
   "execution_count": 82,
   "id": "b3cca8dc",
   "metadata": {},
   "outputs": [],
   "source": [
    "# Determine outliers by using the upper and lower bounds, and then print the results.\n",
    "\n",
    "volume_df = pd.DataFrame({\"Capomulin\":Capomulin_data,\n",
    "                          \"Ramicane\":Ramicane_data,\n",
    "                          \"Infubinol\":Infubinol_data,\n",
    "                          \"Ceftamin\":Ceftamin_data,})\n",
    "upper_bound = volume_df.max()\n",
    "lower_bound  = volume_df.min()"
   ]
  },
  {
   "cell_type": "code",
   "execution_count": 98,
   "id": "e5bc846a",
   "metadata": {},
   "outputs": [
    {
     "name": "stdout",
     "output_type": "stream",
     "text": [
      "IQR of Capomulin: 7.781863460000004\n",
      "Lower bound of Capomulin 20.70456164999999\n",
      "upper bound of Capomulin 51.83201549\n"
     ]
    }
   ],
   "source": [
    "# calculate the quartiles and IQR and determine if there are any potential outliers across all four treatment regimens.\n",
    "\n",
    "Capomulin_outlier = []\n",
    "Ramicane_outlier = []\n",
    "Infubinol_outlier = []\n",
    "Ceftamin_outlier = []\n",
    "\n",
    "Capomulin_quant = np.quantile(Capomulin_data,[.25,.75])\n",
    "iqr_Capomulin = Capomulin_quant[1] - Capomulin_quant[0]\n",
    "\n",
    "lower_bound_Capomulin = 32.37735684 - (1.5*7.781863460000004)\n",
    "upper_bound_Capomulin = 40.1592203 + (1.5*7.781863460000004)\n",
    "\n",
    "for i in Capomulin_data:\n",
    "    if i > upper_bound_Capomulin:\n",
    "        Capomulin_outlier.append(i)\n",
    "    elif i < lower_bound_Capomulin:\n",
    "        Capomulin_outlier.append(i)\n",
    "        \n",
    "print(\"IQR of Capomulin:\",iqr_Capomulin)\n",
    "print(\"Lower bound of Capomulin\",lower_bound_Capomulin)\n",
    "print(\"upper bound of Capomulin\",upper_bound_Capomulin)"
   ]
  },
  {
   "cell_type": "code",
   "execution_count": 71,
   "id": "334487aa",
   "metadata": {},
   "outputs": [
    {
     "name": "stdout",
     "output_type": "stream",
     "text": [
      "IQR of Ramicane: 9.098536719999998\n",
      "Lower bound of Ramicane 17.912664470000003\n",
      "upper bound of Ramicane 54.30681135\n"
     ]
    }
   ],
   "source": [
    "# calculate the quartiles and IQR and determine if there are any potential outliers across all four treatment \n",
    "\n",
    "Ramicane_quant = np.quantile(Ramicane_data,[.25,.75])\n",
    "iqr_Ramicane = Ramicane_quant[1] - Ramicane_quant[0]\n",
    "upper_bound_Ramicane = Ramicane_quant[1] + (1.5*iqr_Ramicane)\n",
    "lower_bound_Ramicane = Ramicane_quant[0] - (1.5*iqr_Ramicane)\n",
    "for i in Ramicane_data:\n",
    "    if i > upper_bound_Ramicane:\n",
    "        Ramicane_outlier.append(i)\n",
    "    elif i < lower_bound_Ramicane:\n",
    "        Ramicane_outlier.append(i)\n",
    "        \n",
    "print(\"IQR of Ramicane:\",iqr_Ramicane)\n",
    "print(\"Lower bound of Ramicane\",lower_bound_Ramicane)\n",
    "print(\"upper bound of Ramicane\",upper_bound_Ramicane)"
   ]
  },
  {
   "cell_type": "code",
   "execution_count": 72,
   "id": "05ad1827",
   "metadata": {},
   "outputs": [
    {
     "name": "stdout",
     "output_type": "stream",
     "text": [
      "IQR of Infubinol: 11.477135160000003\n",
      "Lower bound of Infubinol 36.83290494999999\n",
      "upper bound of Infubinol 82.74144559000001\n"
     ]
    }
   ],
   "source": [
    "# calculate the quartiles and IQR and determine if there are any potential outliers across all four treatment \n",
    "\n",
    "Infubinol_quant = np.quantile(Infubinol_data,[.25,.75])\n",
    "iqr_Infubinol = Infubinol_quant[1] - Infubinol_quant[0]\n",
    "upper_bound_Infubinol = Infubinol_quant[1] + (1.5*iqr_Infubinol)\n",
    "lower_bound_Infubinol = Infubinol_quant[0] - (1.5*iqr_Infubinol)\n",
    "for i in Infubinol_data:\n",
    "    if i > upper_bound_Infubinol:\n",
    "        Infubinol_outlier.append(i)\n",
    "    elif i < lower_bound_Infubinol:\n",
    "        Infubinol_outlier.append(i)\n",
    "        \n",
    "print(\"IQR of Infubinol:\",iqr_Infubinol)\n",
    "print(\"Lower bound of Infubinol\",lower_bound_Infubinol)\n",
    "print(\"upper bound of Infubinol\",upper_bound_Infubinol)"
   ]
  },
  {
   "cell_type": "code",
   "execution_count": 83,
   "id": "79f5d355",
   "metadata": {},
   "outputs": [
    {
     "name": "stdout",
     "output_type": "stream",
     "text": [
      "IQR of Ceftamin: 15.577752179999997\n",
      "Lower bound of Ceftamin 25.355449580000002\n",
      "upper bound of Ceftamin 87.66645829999999\n"
     ]
    }
   ],
   "source": [
    "# calculate the quartiles and IQR and determine if there are any potential outliers across all four treatment \n",
    "\n",
    "Ceftamin_quant = np.quantile(Ceftamin_data,[.25,.75])\n",
    "iqr_Ceftamin = Ceftamin_quant[1] - Ceftamin_quant[0]\n",
    "upper_bound_Ceftamin = Ceftamin_quant[1] + (1.5*iqr_Ceftamin)\n",
    "lower_bound_Ceftamin = Ceftamin_quant[0] - (1.5*iqr_Ceftamin)\n",
    "for i in Ceftamin_data:\n",
    "    if i > upper_bound_Ceftamin:\n",
    "        Ceftamin_outlier.append(i)\n",
    "    elif i < lower_bound_Ceftamin:\n",
    "        Ceftamin_outlier.append(i)\n",
    "        \n",
    "print(\"IQR of Ceftamin:\",iqr_Ceftamin)\n",
    "print(\"Lower bound of Ceftamin\",lower_bound_Ceftamin)\n",
    "print(\"upper bound of Ceftamin\",upper_bound_Ceftamin)"
   ]
  },
  {
   "cell_type": "code",
   "execution_count": 84,
   "id": "aabeed23",
   "metadata": {},
   "outputs": [
    {
     "name": "stdout",
     "output_type": "stream",
     "text": [
      "Capomulin_outlier: []\n",
      "Ramicane_outlier: []\n",
      "Infubinol_outlier: []\n",
      "Ceftamin_outlier: []\n"
     ]
    }
   ],
   "source": [
    "# calculate the quartiles and IQR and determine if there are any potential outliers across all four treatment\n",
    "\n",
    "print(\"Capomulin_outlier:\",Capomulin_outlier)\n",
    "print(\"Ramicane_outlier:\",Ramicane_outlier)\n",
    "print(\"Infubinol_outlier:\",Infubinol_outlier)\n",
    "print(\"Ceftamin_outlier:\",Ceftamin_outlier)"
   ]
  },
  {
   "cell_type": "code",
   "execution_count": 75,
   "id": "5134b6b4",
   "metadata": {},
   "outputs": [
    {
     "data": {
      "image/png": "[encoded data removed]",
      "text/plain": [
       "<Figure size 432x288 with 1 Axes>"
      ]
     },
     "metadata": {
      "needs_background": "light"
     },
     "output_type": "display_data"
    }
   ],
   "source": [
    "# generate a box plot of the final tumor volume for all four treatment regimens.\n",
    "\n",
    "data = [volume_df[\"Capomulin\"],volume_df[\"Ramicane\"],volume_df[\"Infubinol\"],volume_df[\"Ceftamin\"]]\n",
    "plt.boxplot(data)\n",
    "plt.xticks([1,2,3,4],[\"Capomulin\",\"Ramicane\",\"Infubinol\",\"Ceftamin\"])\n",
    "plt.xlabel(\"Drug Regimen\")\n",
    "plt.ylabel(\"Tumor Volume\")\n",
    "plt.show()"
   ]
  },
  {
   "cell_type": "code",
   "execution_count": 76,
   "id": "d4471191",
   "metadata": {},
   "outputs": [
    {
     "data": {
      "image/png": "[encoded data removed]",
      "text/plain": [
       "<Figure size 432x288 with 1 Axes>"
      ]
     },
     "metadata": {
      "needs_background": "light"
     },
     "output_type": "display_data"
    }
   ],
   "source": [
    "# Select a mouse that was treated with Capomulin and generate a line plot of tumor volume vs time point for that mouse.\n",
    "\n",
    "Capomulin_mouse = df.loc[df[\"Mouse ID\"]==\"x401\"]\n",
    "x = Capomulin_mouse[\"Timepoint\"]\n",
    "y = Capomulin_mouse[\"Tumor Volume (mm3)\"]\n",
    "plt.plot(x,y)\n",
    "plt.xlabel(\"Timepoint\")\n",
    "plt.ylabel(\"Tumor Volume\")\n",
    "plt.show()"
   ]
  },
  {
   "cell_type": "code",
   "execution_count": 77,
   "id": "3599e622",
   "metadata": {},
   "outputs": [
    {
     "data": {
      "image/png": "[encoded data removed]",
      "text/plain": [
       "<Figure size 432x288 with 1 Axes>"
      ]
     },
     "metadata": {
      "needs_background": "light"
     },
     "output_type": "display_data"
    }
   ],
   "source": [
    "# Generate a scatter plot of tumor volume versus mouse weight for the Capomulin treatment regimen.\n",
    "\n",
    "Capomulin_treatment = df.loc[df[\"Drug Regimen\"]==\"Capomulin\"]\n",
    "average_df = Capomulin_treatment.groupby(['Mouse ID']).mean()\n",
    "x = average_df[\"Weight (g)\"]\n",
    "y = average_df[\"Tumor Volume (mm3)\"]\n",
    "plt.scatter(x,y)\n",
    "plt.xlabel(\"Weight\")\n",
    "plt.ylabel(\"Tumor Volume\")\n",
    "plt.show()"
   ]
  },
  {
   "cell_type": "code",
   "execution_count": 78,
   "id": "9aec25c1",
   "metadata": {},
   "outputs": [
    {
     "name": "stdout",
     "output_type": "stream",
     "text": [
      "Corelation Coefficient: 0.8419363424694721\n",
      "LinregressResult(slope=0.7426941826944182, intercept=-10.14886316411134, rvalue=0.8419363424694721, pvalue=1.3225722434712404e-07, stderr=0.09924763572688554, intercept_stderr=4.057174696760879)\n"
     ]
    }
   ],
   "source": [
    "# Calculate the correlation coefficient and linear regression model between mouse weight and\n",
    "# average tumor volume for the Capomulin treatment.\n",
    "\n",
    "x = average_df[\"Tumor Volume (mm3)\"]\n",
    "y = average_df[\"Weight (g)\"]\n",
    "print(\"Corelation Coefficient:\",x.corr(y))\n",
    "\n",
    "print(stats.linregress(x,y))"
   ]
  },
  {
   "cell_type": "code",
   "execution_count": 79,
   "id": "c25b4267",
   "metadata": {},
   "outputs": [
    {
     "data": {
      "image/png": "[encoded data removed]",
      "text/plain": [
       "<Figure size 432x288 with 1 Axes>"
      ]
     },
     "metadata": {
      "needs_background": "light"
     },
     "output_type": "display_data"
    }
   ],
   "source": [
    "# Plot the linear regression model on top of the previous scatter plot.\n",
    "\n",
    "x = average_df[\"Weight (g)\"]\n",
    "y = average_df[\"Tumor Volume (mm3)\"]\n",
    "plt.plot(x, y, 'o')\n",
    "slope, intercept = np.polyfit(x, y, 1)\n",
    "plt.plot(x,slope*x+intercept)\n",
    "plt.xlabel(\"Weight\")\n",
    "plt.ylabel(\"Tumor Volume\")\n",
    "plt.show()"
   ]
  }
 ],
 "metadata": {
  "kernelspec": {
   "display_name": "Python 3 (ipykernel)",
   "language": "python",
   "name": "python3"
  },
  "language_info": {
   "codemirror_mode": {
    "name": "ipython",
    "version": 3
   },
   "file_extension": ".py",
   "mimetype": "text/x-python",
   "name": "python",
   "nbconvert_exporter": "python",
   "pygments_lexer": "ipython3",
   "version": "3.9.7"
  }
 },
 "nbformat": 4,
 "nbformat_minor": 5
}
