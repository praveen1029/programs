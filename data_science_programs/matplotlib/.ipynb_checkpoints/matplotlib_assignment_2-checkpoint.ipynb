{
 "cells": [
  {
   "cell_type": "code",
   "execution_count": 192,
   "id": "f5cf1569",
   "metadata": {},
   "outputs": [],
   "source": [
    "import pandas as pd\n",
    "import numpy as np\n",
    "from matplotlib import pyplot as plt \n",
    "from matplotlib.pyplot import figure\n",
    "from scipy import stats"
   ]
  },
  {
   "cell_type": "code",
   "execution_count": 156,
   "id": "53849f3c",
   "metadata": {},
   "outputs": [
    {
     "name": "stdout",
     "output_type": "stream",
     "text": [
      "     Mouse ID Drug Regimen   Sex  Age_months  Weight (g)  Timepoint  \\\n",
      "0        k403     Ramicane  Male          21          16          0   \n",
      "1        k403     Ramicane  Male          21          16          5   \n",
      "2        k403     Ramicane  Male          21          16         10   \n",
      "3        k403     Ramicane  Male          21          16         15   \n",
      "4        k403     Ramicane  Male          21          16         20   \n",
      "...       ...          ...   ...         ...         ...        ...   \n",
      "1888     z969     Naftisol  Male           9          30         25   \n",
      "1889     z969     Naftisol  Male           9          30         30   \n",
      "1890     z969     Naftisol  Male           9          30         35   \n",
      "1891     z969     Naftisol  Male           9          30         40   \n",
      "1892     z969     Naftisol  Male           9          30         45   \n",
      "\n",
      "      Tumor Volume (mm3)  Metastatic Sites  \n",
      "0              45.000000                 0  \n",
      "1              38.825898                 0  \n",
      "2              35.014271                 1  \n",
      "3              34.223992                 1  \n",
      "4              32.997729                 1  \n",
      "...                  ...               ...  \n",
      "1888           63.145652                 2  \n",
      "1889           65.841013                 3  \n",
      "1890           69.176246                 4  \n",
      "1891           70.314904                 4  \n",
      "1892           73.867845                 4  \n",
      "\n",
      "[1893 rows x 8 columns]\n"
     ]
    }
   ],
   "source": [
    "# 1. Run the provided package dependency and data imports, \n",
    "#  and then merge them mouse_metadata and study_results DataFrames into a single DataFrame.\n",
    "\n",
    "df1 = pd.read_csv(\"Mouse_metadata.csv\")\n",
    "df2 = pd.read_csv(\"Study_results.csv\")\n",
    "df = pd.merge(df1,df2)\n",
    "print(df)"
   ]
  },
  {
   "cell_type": "code",
   "execution_count": 157,
   "id": "a40113e6",
   "metadata": {},
   "outputs": [
    {
     "name": "stdout",
     "output_type": "stream",
     "text": [
      "Number of Unique Mouse Id: 249\n",
      "    Mouse ID Drug Regimen     Sex  Age_months  Weight (g)  Timepoint  \\\n",
      "909     g989     Propriva  Female          21          26          0   \n",
      "911     g989     Propriva  Female          21          26          5   \n",
      "913     g989     Propriva  Female          21          26         10   \n",
      "915     g989     Propriva  Female          21          26         15   \n",
      "917     g989     Propriva  Female          21          26         20   \n",
      "\n",
      "     Tumor Volume (mm3)  Metastatic Sites  \n",
      "909           45.000000                 0  \n",
      "911           47.570392                 0  \n",
      "913           49.880528                 0  \n",
      "915           53.442020                 0  \n",
      "917           54.657650                 1  \n",
      "     Mouse ID Drug Regimen   Sex  Age_months  Weight (g)  Timepoint  \\\n",
      "0        k403     Ramicane  Male          21          16          0   \n",
      "1        k403     Ramicane  Male          21          16          5   \n",
      "2        k403     Ramicane  Male          21          16         10   \n",
      "3        k403     Ramicane  Male          21          16         15   \n",
      "4        k403     Ramicane  Male          21          16         20   \n",
      "...       ...          ...   ...         ...         ...        ...   \n",
      "1888     z969     Naftisol  Male           9          30         25   \n",
      "1889     z969     Naftisol  Male           9          30         30   \n",
      "1890     z969     Naftisol  Male           9          30         35   \n",
      "1891     z969     Naftisol  Male           9          30         40   \n",
      "1892     z969     Naftisol  Male           9          30         45   \n",
      "\n",
      "      Tumor Volume (mm3)  Metastatic Sites  \n",
      "0              45.000000                 0  \n",
      "1              38.825898                 0  \n",
      "2              35.014271                 1  \n",
      "3              34.223992                 1  \n",
      "4              32.997729                 1  \n",
      "...                  ...               ...  \n",
      "1888           63.145652                 2  \n",
      "1889           65.841013                 3  \n",
      "1890           69.176246                 4  \n",
      "1891           70.314904                 4  \n",
      "1892           73.867845                 4  \n",
      "\n",
      "[1888 rows x 8 columns]\n"
     ]
    }
   ],
   "source": [
    "# 2.Display the number of unique mice IDs in the data, and then check for any mouse ID with\n",
    "# duplicate time points. Display the data associated with that mouse ID, and then create a new\n",
    "# DataFrame where this data is removed. Use this cleaned DataFrame for the remaining step.\n",
    "\n",
    "print(\"Number of Unique Mouse Id:\",len(df[\"Mouse ID\"].unique()))\n",
    "print(df[df.duplicated([\"Mouse ID\",\"Timepoint\"])])\n",
    "cleaned_df = df.drop_duplicates(subset=[\"Mouse ID\",\"Timepoint\"],keep = \"last\")\n",
    "print(cleaned_df)"
   ]
  },
  {
   "cell_type": "code",
   "execution_count": 158,
   "id": "ebd3d608",
   "metadata": {},
   "outputs": [
    {
     "name": "stdout",
     "output_type": "stream",
     "text": [
      "                                   drug_regimen_mean  \\\n",
      "0  Drug Regimen\n",
      "Capomulin    40.675741\n",
      "Ceftamin  ...   \n",
      "\n",
      "                                 drug_regimen_median  \\\n",
      "0  Drug Regimen\n",
      "Capomulin    41.557809\n",
      "Ceftamin  ...   \n",
      "\n",
      "                               drug_regimen_variance  \\\n",
      "0  Drug Regimen\n",
      "Capomulin    24.947764\n",
      "Ceftamin  ...   \n",
      "\n",
      "                                    drug_regimen_std  \\\n",
      "0  Drug Regimen\n",
      "Capomulin    4.994774\n",
      "Ceftamin   ...   \n",
      "\n",
      "                                    drug_regimen_sem  \n",
      "0  Drug Regimen\n",
      "Capomulin    0.329346\n",
      "Ceftamin   ...  \n"
     ]
    }
   ],
   "source": [
    "# use the `groupby` method to generate the mean, median,\n",
    "# variance, standard deviation, and SEM of the tumor volume for each drug regimen.\n",
    "# This should result in five unique series objects. Combine these objects into a single summary statistics DataFrames.\n",
    "\n",
    "drug_regimen_mean = df.groupby(\"Drug Regimen\").mean()[\"Tumor Volume (mm3)\"]\n",
    "drug_regimen_median = df.groupby(\"Drug Regimen\").median()[\"Tumor Volume (mm3)\"]\n",
    "drug_regimen_variance = df.groupby(\"Drug Regimen\").var()[\"Tumor Volume (mm3)\"]\n",
    "drug_regimen_std = df.groupby(\"Drug Regimen\").std()[\"Tumor Volume (mm3)\"]\n",
    "drug_regimen_sem = df.groupby(\"Drug Regimen\").sem()[\"Tumor Volume (mm3)\"]\n",
    "\n",
    "sum_stat_df = pd.DataFrame({\"drug_regimen_mean\":[drug_regimen_mean],\n",
    "                            \"drug_regimen_median\":[drug_regimen_median],\n",
    "                            \"drug_regimen_variance\":[drug_regimen_variance],\n",
    "                            \"drug_regimen_std\":[drug_regimen_std],\n",
    "                            \"drug_regimen_sem\":[drug_regimen_sem]})\n",
    "print(sum_stat_df)"
   ]
  },
  {
   "cell_type": "code",
   "execution_count": 159,
   "id": "647b7c87",
   "metadata": {},
   "outputs": [
    {
     "name": "stdout",
     "output_type": "stream",
     "text": [
      "                   mean     median        var       std       sem\n",
      "Drug Regimen                                                     \n",
      "Capomulin     40.675741  41.557809  24.947764  4.994774  0.329346\n",
      "Ceftamin      52.591172  51.776157  39.290177  6.268188  0.469821\n",
      "Infubinol     52.884795  51.820584  43.128684  6.567243  0.492236\n",
      "Ketapril      55.235638  53.698743  68.553577  8.279709  0.603860\n",
      "Naftisol      54.331565  52.509285  66.173479  8.134708  0.596466\n",
      "Placebo       54.033581  52.288934  61.168083  7.821003  0.581331\n",
      "Propriva      52.322552  50.854632  42.351070  6.507770  0.512884\n",
      "Ramicane      40.216745  40.673236  23.486704  4.846308  0.320955\n",
      "Stelasyn      54.233149  52.431737  59.450562  7.710419  0.573111\n",
      "Zoniferol     53.236507  51.818479  48.533355  6.966589  0.516398\n"
     ]
    }
   ],
   "source": [
    "# use the `agg` method to produce the same summary statistics table by using a single line of code.\n",
    "\n",
    "sum_stat_df1 = df.groupby(\"Drug Regimen\").agg([\"mean\",\"median\",\"var\",\"std\",\"sem\"])[\"Tumor Volume (mm3)\"]\n",
    "print(sum_stat_df1)"
   ]
  },
  {
   "cell_type": "code",
   "execution_count": 160,
   "id": "8ea42d79",
   "metadata": {},
   "outputs": [
    {
     "name": "stdout",
     "output_type": "stream",
     "text": [
      "Drug Regimen\n",
      "Capomulin    25\n",
      "Ceftamin     25\n",
      "Infubinol    25\n",
      "Ketapril     25\n",
      "Naftisol     25\n",
      "Placebo      25\n",
      "Propriva     25\n",
      "Ramicane     25\n",
      "Stelasyn     24\n",
      "Zoniferol    25\n",
      "Name: Mouse ID, dtype: int64\n"
     ]
    },
    {
     "data": {
      "text/plain": [
       "<AxesSubplot:xlabel='Drug Regimen', ylabel='Count of mice'>"
      ]
     },
     "execution_count": 160,
     "metadata": {},
     "output_type": "execute_result"
    },
    {
     "data": {
      "image/png": "[encoded data removed]",
      "text/plain": [
       "<Figure size 432x288 with 1 Axes>"
      ]
     },
     "metadata": {
      "needs_background": "light"
     },
     "output_type": "display_data"
    }
   ],
   "source": [
    "# Generate bar plot that show the total number of timepoints for all mice tested for each drug regimen \n",
    "# throughout the course of the study,using Pandas's DataFrame.plot() method.\n",
    "\n",
    "drug_mice_plot = df.groupby(\"Drug Regimen\").nunique()[\"Mouse ID\"]\n",
    "print(drug_mice_plot)\n",
    "drug_mice_plot.plot(kind=\"bar\",ylabel = \"Count of mice\")"
   ]
  },
  {
   "cell_type": "code",
   "execution_count": 161,
   "id": "116baf4f",
   "metadata": {},
   "outputs": [
    {
     "data": {
      "image/png": "[encoded data removed]",
      "text/plain": [
       "<Figure size 720x504 with 1 Axes>"
      ]
     },
     "metadata": {
      "needs_background": "light"
     },
     "output_type": "display_data"
    }
   ],
   "source": [
    "# Generate bar plot that show the total number of timepoints for all mice tested for each drug regimen \n",
    "# throughout the course of the study,using Matplotlib's pyplot methods.\n",
    "\n",
    "plt_1 = plt.figure(figsize=(10,7))\n",
    "drug_mice_plot1 = pd.DataFrame(df.groupby(\"Drug Regimen\").nunique()[\"Mouse ID\"])\n",
    "x = drug_mice_plot1.index\n",
    "y = drug_mice_plot1.iloc[:,0]\n",
    "plt.bar(x,y)\n",
    "plt.xlabel(\"Drug Regimen\")\n",
    "plt.ylabel(\"Count of mice\")\n",
    "plt.show()"
   ]
  },
  {
   "cell_type": "code",
   "execution_count": 162,
   "id": "631ea27f",
   "metadata": {},
   "outputs": [
    {
     "data": {
      "text/plain": [
       "<AxesSubplot:ylabel='Mouse ID'>"
      ]
     },
     "execution_count": 162,
     "metadata": {},
     "output_type": "execute_result"
    },
    {
     "data": {
      "image/png": "[encoded data removed]",
      "text/plain": [
       "<Figure size 432x288 with 1 Axes>"
      ]
     },
     "metadata": {},
     "output_type": "display_data"
    }
   ],
   "source": [
    "# Generate pie plot that show the distribution of female or male mice in the study,using Pandas's DataFrame.plot().\n",
    "\n",
    "male_female_mice = df.groupby(\"Sex\").nunique()[\"Mouse ID\"]\n",
    "male_female_mice.plot(kind=\"pie\")"
   ]
  },
  {
   "cell_type": "code",
   "execution_count": 163,
   "id": "dc1f93f9",
   "metadata": {},
   "outputs": [
    {
     "data": {
      "image/png": "[encoded data removed]",
      "text/plain": [
       "<Figure size 432x288 with 1 Axes>"
      ]
     },
     "metadata": {},
     "output_type": "display_data"
    }
   ],
   "source": [
    "# Generate pie plot that show the distribution of female or male mice in the study,using Matplotlib's pyplot methods.\n",
    "\n",
    "male_female_mice1 =pd.DataFrame(df.groupby(\"Sex\").nunique()[\"Mouse ID\"])\n",
    "x = male_female_mice1.iloc[:,0]\n",
    "y = [\"Male\",\"Female\"]\n",
    "plt.pie(x,labels=y,autopct='%1.0f%%')\n",
    "plt.show()"
   ]
  },
  {
   "cell_type": "code",
   "execution_count": 164,
   "id": "c3db9347",
   "metadata": {},
   "outputs": [
    {
     "name": "stdout",
     "output_type": "stream",
     "text": [
      "    Mouse ID  Timepoint Drug Regimen     Sex  Age_months  Weight (g)  \\\n",
      "0       a203         45    Infubinol  Female          20          23   \n",
      "1       a251         45    Infubinol  Female          21          25   \n",
      "2       a262         45      Placebo  Female          17          29   \n",
      "3       a275         45     Ceftamin  Female          20          28   \n",
      "4       a366         30     Stelasyn  Female          16          29   \n",
      "..       ...        ...          ...     ...         ...         ...   \n",
      "244     z435         10     Propriva  Female          12          26   \n",
      "245     z578         45     Ramicane    Male          11          16   \n",
      "246     z581         45    Infubinol  Female          24          25   \n",
      "247     z795         45     Naftisol  Female          13          29   \n",
      "248     z969         45     Naftisol    Male           9          30   \n",
      "\n",
      "     Tumor Volume (mm3)  Metastatic Sites  \n",
      "0             67.973419                 2  \n",
      "1             65.525743                 1  \n",
      "2             70.717621                 4  \n",
      "3             62.999356                 3  \n",
      "4             63.440686                 1  \n",
      "..                  ...               ...  \n",
      "244           48.710661                 0  \n",
      "245           30.638696                 0  \n",
      "246           62.754451                 3  \n",
      "247           65.741070                 3  \n",
      "248           73.867845                 4  \n",
      "\n",
      "[249 rows x 8 columns]\n"
     ]
    }
   ],
   "source": [
    "# Create a grouped DataFrame that shows the last (greatest) time point for each mouse.\n",
    "# Merge this grouped DataFrame with the original cleaned DataFrame.\n",
    "\n",
    "greatest_df = df.groupby(\"Mouse ID\").max()[\"Timepoint\"]\n",
    "new_df = pd.merge(greatest_df,df,on=('Mouse ID','Timepoint'))\n",
    "print(new_df)"
   ]
  },
  {
   "cell_type": "code",
   "execution_count": 165,
   "id": "00ee67ad",
   "metadata": {},
   "outputs": [],
   "source": [
    "# Create a list that holds the treatment names, as well as a second, empty list to hold\n",
    "# the tumor volume data.\n",
    "treatment_name = [\"Capomulin\", \"Ramicane\", \"Infubinol\", \"Ceftamin\"]\n",
    "Capomulin_data = []\n",
    "Ramicane_data = []\n",
    "Infubinol_data = []\n",
    "Ceftamin_data = []"
   ]
  },
  {
   "cell_type": "code",
   "execution_count": 166,
   "id": "18ca3556",
   "metadata": {},
   "outputs": [],
   "source": [
    "# Loop through each drug in the treatment list, locating the rows in the merged\n",
    "# DataFrame that correspond to each treatment. Append the resulting final tumor\n",
    "# volumes for each drug to the empty list.\n",
    "\n",
    "for index in new_df.index:\n",
    "    if (new_df[\"Drug Regimen\"][index]==treatment_name[0]):\n",
    "        Capomulin_data.append(new_df[\"Tumor Volume (mm3)\"][index])\n",
    "        \n",
    "    elif (new_df[\"Drug Regimen\"][index]==treatment_name[1]):\n",
    "        Ramicane_data.append(new_df[\"Tumor Volume (mm3)\"][index])\n",
    "        \n",
    "    elif (new_df[\"Drug Regimen\"][index]==treatment_name[2]):\n",
    "        Infubinol_data.append(new_df[\"Tumor Volume (mm3)\"][index])\n",
    "        \n",
    "    elif (new_df[\"Drug Regimen\"][index]==treatment_name[3]):\n",
    "        Ceftamin_data.append(new_df[\"Tumor Volume (mm3)\"][index])"
   ]
  },
  {
   "cell_type": "code",
   "execution_count": 185,
   "id": "b3cca8dc",
   "metadata": {},
   "outputs": [
    {
     "name": "stdout",
     "output_type": "stream",
     "text": [
      "    Capomulin   Ramicane  Infubinol   Ceftamin\n",
      "0   38.982878  38.407618  67.973419  62.999356\n",
      "1   38.939633  43.047543  65.525743  45.000000\n",
      "2   30.485985  38.810366  57.031862  56.057749\n",
      "3   37.074024  32.978522  66.083066  55.742829\n",
      "4   40.159220  38.342008  72.226731  48.722078\n",
      "5   47.685963  33.397653  36.321346  47.784682\n",
      "6   37.311846  37.311236  60.969711  61.849023\n",
      "7   38.125164  40.659006  62.435404  68.923185\n",
      "8   38.753265  29.128472  60.918767  67.748662\n",
      "9   41.483008  33.562402  67.289621  57.918381\n",
      "10  38.846876  36.374510  66.196912  46.784535\n",
      "11  28.430964  31.560470  62.117279  59.851956\n",
      "12  33.329098  36.134852  47.010364  64.299830\n",
      "13  46.539206  22.050126  60.165180  59.741901\n",
      "14  32.377357  30.564625  55.629428  61.433892\n",
      "15  41.581521  31.095335  45.699331  64.192341\n",
      "16  23.343598  45.220869  54.656549  45.000000\n",
      "17  40.728578  36.561652  55.650681  52.925348\n",
      "18  34.455298  37.225650  46.250112  45.000000\n",
      "19  31.023923  43.419381  54.048608  67.527482\n",
      "20  40.658124  30.276232  51.542431  45.000000\n",
      "21  39.952347  40.667713  50.005138  64.634949\n",
      "22  36.041047  43.166373  58.268442  61.386660\n",
      "23  28.484033  44.183451  67.685569  68.594745\n",
      "24  31.896238  30.638696  62.754451  64.729837\n"
     ]
    }
   ],
   "source": [
    "# Determine outliers by using the upper and lower bounds, and then print the results.\n",
    "\n",
    "volume_df = pd.DataFrame({\"Capomulin\":Capomulin_data,\n",
    "                          \"Ramicane\":Ramicane_data,\n",
    "                          \"Infubinol\":Infubinol_data,\n",
    "                          \"Ceftamin\":Ceftamin_data,})\n",
    "upper_bound = volume_df.max()\n",
    "lower_bound  = volume_df.min()"
   ]
  },
  {
   "cell_type": "code",
   "execution_count": 180,
   "id": "e5bc846a",
   "metadata": {},
   "outputs": [
    {
     "name": "stdout",
     "output_type": "stream",
     "text": [
      "Capomulin_outlier: []\n",
      "Ramicane_outlier: []\n",
      "Infubinol_outlier: []\n",
      "Ceftamin_outlier: []\n"
     ]
    }
   ],
   "source": [
    "# calculate the quartiles and IQR and determine if there are any potential outliers across all four treatment regimens.\n",
    "\n",
    "Capomulin_outlier = []\n",
    "Ramicane_outlier = []\n",
    "Infubinol_outlier = []\n",
    "Ceftamin_outlier = []\n",
    "\n",
    "Capomulin_quant = np.quantile(Capomulin_data,[.25,.75])\n",
    "iqr_Capomulin = Capomulin_quant[1] - Capomulin_quant[0]\n",
    "upper_bound_Capomulin = Capomulin_quant[1] + (1.5*iqr_Capomulin)\n",
    "lower_bound_Capomulin = Capomulin_quant[0] - (1.5*iqr_Capomulin)\n",
    "for i in Capomulin_quant:\n",
    "    if i > upper_bound_Capomulin:\n",
    "        Capomulin_outlier.append(i)\n",
    "    elif i < lower_bound_Capomulin:\n",
    "        Capomulin_outlier.append(i)\n",
    "\n",
    "Ramicane_quant = np.quantile(Ramicane_data,[.25,.75])\n",
    "iqr_Ramicane = Ramicane_quant[1] - Ramicane_quant[0]\n",
    "upper_bound_Ramicane = Ramicane_quant[1] + (1.5*iqr_Ramicane)\n",
    "lower_bound_Ramicane = Ramicane_quant[0] - (1.5*iqr_Ramicane)\n",
    "for i in Ramicane_quant:\n",
    "    if i > upper_bound_Ramicane:\n",
    "        Ramicane_outlier.append(i)\n",
    "    elif i < lower_bound_Ramicane:\n",
    "        Ramicane_outlier.append(i)\n",
    "\n",
    "Infubinol_quant = np.quantile(Infubinol_data,[.25,.75])\n",
    "iqr_Infubinol = Infubinol_quant[1] - Infubinol_quant[0]\n",
    "upper_bound_Infubinol = Infubinol_quant[1] + (1.5*iqr_Infubinol)\n",
    "lower_bound_Infubinol = Infubinol_quant[0] - (1.5*iqr_Infubinol)\n",
    "for i in Infubinol_quant:\n",
    "    if i > upper_bound_Infubinol:\n",
    "        Infubinol_outlier.append(i)\n",
    "    elif i < lower_bound_Infubinol:\n",
    "        Infubinol_outlier.append(i)\n",
    "\n",
    "Ceftamin_quant = np.quantile(Ceftamin_data,[.25,.75])\n",
    "iqr_Ceftamin = Ceftamin_quant[1] - Ceftamin_quant[0]\n",
    "upper_bound_Ceftamin = Ceftamin_quant[1] + (1.5*iqr_Ceftamin)\n",
    "lower_bound_Ceftamin = Ceftamin_quant[0] - (1.5*iqr_Ceftamin)\n",
    "for i in Ceftamin_quant:\n",
    "    if i > upper_bound_Ceftamin:\n",
    "        Ceftamin_outlier.append(i)\n",
    "    elif i < lower_bound_Ceftamin:\n",
    "        Ceftamin_outlier.append(i)\n",
    "        \n",
    "print(\"Capomulin_outlier:\",Capomulin_outlier)\n",
    "print(\"Ramicane_outlier:\",Ramicane_outlier)\n",
    "print(\"Infubinol_outlier:\",Infubinol_outlier)\n",
    "print(\"Ceftamin_outlier:\",Ceftamin_outlier)"
   ]
  },
  {
   "cell_type": "code",
   "execution_count": 232,
   "id": "5134b6b4",
   "metadata": {},
   "outputs": [
    {
     "data": {
      "image/png": "[encoded data removed]",
      "text/plain": [
       "<Figure size 432x288 with 1 Axes>"
      ]
     },
     "metadata": {
      "needs_background": "light"
     },
     "output_type": "display_data"
    }
   ],
   "source": [
    "# generate a box plot of the final tumor volume for all four treatment regimens.\n",
    "\n",
    "data = [volume_df[\"Capomulin\"],volume_df[\"Ramicane\"],volume_df[\"Infubinol\"],volume_df[\"Ceftamin\"]]\n",
    "plt.boxplot(data)\n",
    "plt.xticks([1,2,3,4],[\"Capomulin\",\"Ramicane\",\"Infubinol\",\"Ceftamin\"])\n",
    "plt.xlabel(\"Drug Regimen\")\n",
    "plt.ylabel(\"Tumor Volume\")\n",
    "plt.show()"
   ]
  },
  {
   "cell_type": "code",
   "execution_count": 169,
   "id": "d4471191",
   "metadata": {},
   "outputs": [
    {
     "data": {
      "image/png": "[encoded data removed]",
      "text/plain": [
       "<Figure size 432x288 with 1 Axes>"
      ]
     },
     "metadata": {
      "needs_background": "light"
     },
     "output_type": "display_data"
    }
   ],
   "source": [
    "# Select a mouse that was treated with Capomulin and generate a line plot of tumor volume vs time point for that mouse.\n",
    "\n",
    "Capomulin_mouse = df.loc[df[\"Mouse ID\"]==\"x401\"]\n",
    "x = Capomulin_mouse[\"Timepoint\"]\n",
    "y = Capomulin_mouse[\"Tumor Volume (mm3)\"]\n",
    "plt.plot(x,y)\n",
    "plt.xlabel(\"Timepoint\")\n",
    "plt.ylabel(\"Tumor Volume\")\n",
    "plt.show()"
   ]
  },
  {
   "cell_type": "code",
   "execution_count": 170,
   "id": "3599e622",
   "metadata": {},
   "outputs": [
    {
     "data": {
      "image/png": "[encoded data removed]",
      "text/plain": [
       "<Figure size 432x288 with 1 Axes>"
      ]
     },
     "metadata": {
      "needs_background": "light"
     },
     "output_type": "display_data"
    }
   ],
   "source": [
    "# Generate a scatter plot of tumor volume versus mouse weight for the Capomulin treatment regimen.\n",
    "\n",
    "Capomulin_treatment = df.loc[df[\"Drug Regimen\"]==\"Capomulin\"]\n",
    "average_df = Capomulin_treatment.groupby(['Mouse ID']).mean()\n",
    "x = average_df[\"Weight (g)\"]\n",
    "y = average_df[\"Tumor Volume (mm3)\"]\n",
    "plt.scatter(x,y)\n",
    "plt.xlabel(\"Weight\")\n",
    "plt.ylabel(\"Tumor Volume\")\n",
    "plt.show()"
   ]
  },
  {
   "cell_type": "code",
   "execution_count": 171,
   "id": "9aec25c1",
   "metadata": {},
   "outputs": [
    {
     "name": "stdout",
     "output_type": "stream",
     "text": [
      "Corelation Coefficient: 0.8419363424694721\n",
      "LinregressResult(slope=0.7426941826944182, intercept=-10.14886316411134, rvalue=0.8419363424694721, pvalue=1.3225722434712404e-07, stderr=0.09924763572688554, intercept_stderr=4.057174696760879)\n"
     ]
    }
   ],
   "source": [
    "# Calculate the correlation coefficient and linear regression model between mouse weight and\n",
    "# average tumor volume for the Capomulin treatment.\n",
    "\n",
    "x = average_df[\"Tumor Volume (mm3)\"]\n",
    "y = average_df[\"Weight (g)\"]\n",
    "print(\"Corelation Coefficient:\",x.corr(y))\n",
    "\n",
    "print(stats.linregress(x,y))"
   ]
  },
  {
   "cell_type": "code",
   "execution_count": 199,
   "id": "c25b4267",
   "metadata": {},
   "outputs": [
    {
     "data": {
      "image/png": "[encoded data removed]",
      "text/plain": [
       "<Figure size 432x288 with 1 Axes>"
      ]
     },
     "metadata": {
      "needs_background": "light"
     },
     "output_type": "display_data"
    }
   ],
   "source": [
    "# Plot the linear regression model on top of the previous scatter plot.\n",
    "\n",
    "x = average_df[\"Weight (g)\"]\n",
    "y = average_df[\"Tumor Volume (mm3)\"]\n",
    "plt.plot(x, y, 'o')\n",
    "slope, intercept = np.polyfit(x, y, 1)\n",
    "plt.plot(x,slope*x+intercept)\n",
    "plt.xlabel(\"Weight\")\n",
    "plt.ylabel(\"Tumor Volume\")\n",
    "plt.show()"
   ]
  }
 ],
 "metadata": {
  "kernelspec": {
   "display_name": "Python 3 (ipykernel)",
   "language": "python",
   "name": "python3"
  },
  "language_info": {
   "codemirror_mode": {
    "name": "ipython",
    "version": 3
   },
   "file_extension": ".py",
   "mimetype": "text/x-python",
   "name": "python",
   "nbconvert_exporter": "python",
   "pygments_lexer": "ipython3",
   "version": "3.9.7"
  }
 },
 "nbformat": 4,
 "nbformat_minor": 5
}
