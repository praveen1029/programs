{
 "cells": [
  {
   "cell_type": "code",
   "execution_count": 140,
   "id": "3685012d",
   "metadata": {},
   "outputs": [],
   "source": [
    "import numpy as np\n",
    "import pandas as pd\n",
    "from matplotlib import pyplot as plt\n",
    "from sklearn.model_selection import train_test_split\n",
    "from sklearn.metrics import accuracy_score\n",
    "from sklearn import preprocessing as pre\n",
    "from matplotlib.pyplot import figure\n",
    "from sklearn.linear_model import LinearRegression\n",
    "from sklearn.tree import DecisionTreeClassifier\n",
    "from sklearn.neighbors import KNeighborsClassifier"
   ]
  },
  {
   "cell_type": "code",
   "execution_count": 124,
   "id": "4a98a7a7",
   "metadata": {},
   "outputs": [
    {
     "name": "stdout",
     "output_type": "stream",
     "text": [
      "      MovieID                               Title  \\\n",
      "0           1                    Toy Story (1995)   \n",
      "1           2                      Jumanji (1995)   \n",
      "2           3             Grumpier Old Men (1995)   \n",
      "3           4            Waiting to Exhale (1995)   \n",
      "4           5  Father of the Bride Part II (1995)   \n",
      "...       ...                                 ...   \n",
      "3878     3948             Meet the Parents (2000)   \n",
      "3879     3949          Requiem for a Dream (2000)   \n",
      "3880     3950                    Tigerland (2000)   \n",
      "3881     3951             Two Family House (2000)   \n",
      "3882     3952               Contender, The (2000)   \n",
      "\n",
      "                             Genre  \n",
      "0      Animation|Children's|Comedy  \n",
      "1     Adventure|Children's|Fantasy  \n",
      "2                   Comedy|Romance  \n",
      "3                     Comedy|Drama  \n",
      "4                           Comedy  \n",
      "...                            ...  \n",
      "3878                        Comedy  \n",
      "3879                         Drama  \n",
      "3880                         Drama  \n",
      "3881                         Drama  \n",
      "3882                Drama|Thriller  \n",
      "\n",
      "[3883 rows x 3 columns]\n",
      "      UserID Gender  Age  Occupation Zip-code\n",
      "0          1      F    1          10    48067\n",
      "1          2      M   56          16    70072\n",
      "2          3      M   25          15    55117\n",
      "3          4      M   45           7    02460\n",
      "4          5      M   25          20    55455\n",
      "...      ...    ...  ...         ...      ...\n",
      "6035    6036      F   25          15    32603\n",
      "6036    6037      F   45           1    76006\n",
      "6037    6038      F   56           1    14706\n",
      "6038    6039      F   45           0    01060\n",
      "6039    6040      M   25           6    11106\n",
      "\n",
      "[6040 rows x 5 columns]\n",
      "         UserID  MovieID  Rating  Timestamp\n",
      "0             1     1193       5  978300760\n",
      "1             1      661       3  978302109\n",
      "2             1      914       3  978301968\n",
      "3             1     3408       4  978300275\n",
      "4             1     2355       5  978824291\n",
      "...         ...      ...     ...        ...\n",
      "1000204    6040     1091       1  956716541\n",
      "1000205    6040     1094       5  956704887\n",
      "1000206    6040      562       5  956704746\n",
      "1000207    6040     1096       4  956715648\n",
      "1000208    6040     1097       4  956715569\n",
      "\n",
      "[1000209 rows x 4 columns]\n"
     ]
    }
   ],
   "source": [
    "movies = pd.read_csv('movies.dat', header=None, sep='::', engine='python', encoding='latin-1', names=[\"MovieID\",\"Title\",\"Genre\"])\n",
    "ratings = pd.read_csv('ratings.dat', header=None, sep='::', engine='python', encoding='latin-1', names=[\"UserID\",\"MovieID\",\"Rating\",\"Timestamp\"])\n",
    "users = pd.read_csv('users.dat', header=None, sep='::', engine='python', encoding='latin-1', names=[\"UserID\",\"Gender\",\"Age\",\"Occupation\",\"Zip-code\"])\n",
    "print(movies)\n",
    "print(users)\n",
    "print(ratings)"
   ]
  },
  {
   "cell_type": "code",
   "execution_count": 125,
   "id": "9161f820",
   "metadata": {},
   "outputs": [
    {
     "name": "stdout",
     "output_type": "stream",
     "text": [
      "MovieID    0\n",
      "Title      0\n",
      "Genre      0\n",
      "dtype: int64\n",
      "UserID        0\n",
      "Gender        0\n",
      "Age           0\n",
      "Occupation    0\n",
      "Zip-code      0\n",
      "dtype: int64\n",
      "UserID       0\n",
      "MovieID      0\n",
      "Rating       0\n",
      "Timestamp    0\n",
      "dtype: int64\n"
     ]
    }
   ],
   "source": [
    "# Check for null values in a column \n",
    "\n",
    "print(movies.isnull().sum())\n",
    "print(users.isnull().sum())\n",
    "print(ratings.isnull().sum())"
   ]
  },
  {
   "cell_type": "code",
   "execution_count": 126,
   "id": "2d10ecb0",
   "metadata": {},
   "outputs": [
    {
     "name": "stdout",
     "output_type": "stream",
     "text": [
      "      UserID  Gender  Age  Occupation Zip-code\n",
      "0          1       0    1          10    48067\n",
      "1          2       1   56          16    70072\n",
      "2          3       1   25          15    55117\n",
      "3          4       1   45           7    02460\n",
      "4          5       1   25          20    55455\n",
      "...      ...     ...  ...         ...      ...\n",
      "6035    6036       0   25          15    32603\n",
      "6036    6037       0   45           1    76006\n",
      "6037    6038       0   56           1    14706\n",
      "6038    6039       0   45           0    01060\n",
      "6039    6040       1   25           6    11106\n",
      "\n",
      "[6040 rows x 5 columns]\n"
     ]
    }
   ],
   "source": [
    "# Encoding Gender\n",
    "\n",
    "encode = pre.LabelEncoder()\n",
    "encode.fit([\"M\",\"F\"])\n",
    "users[\"Gender\"] = encode.transform(users[\"Gender\"])\n",
    "print(users)"
   ]
  },
  {
   "cell_type": "code",
   "execution_count": 127,
   "id": "58b87599",
   "metadata": {},
   "outputs": [
    {
     "name": "stdout",
     "output_type": "stream",
     "text": [
      "      MovieID                         Title                         Genre  \\\n",
      "0           1                    Toy Story    Animation|Children's|Comedy   \n",
      "1           2                      Jumanji   Adventure|Children's|Fantasy   \n",
      "2           3             Grumpier Old Men                 Comedy|Romance   \n",
      "3           4            Waiting to Exhale                   Comedy|Drama   \n",
      "4           5  Father of the Bride Part II                         Comedy   \n",
      "...       ...                           ...                           ...   \n",
      "3878     3948             Meet the Parents                         Comedy   \n",
      "3879     3949          Requiem for a Dream                          Drama   \n",
      "3880     3950                    Tigerland                          Drama   \n",
      "3881     3951             Two Family House                          Drama   \n",
      "3882     3952               Contender, The                 Drama|Thriller   \n",
      "\n",
      "      Year  \n",
      "0     1995  \n",
      "1     1995  \n",
      "2     1995  \n",
      "3     1995  \n",
      "4     1995  \n",
      "...    ...  \n",
      "3878  2000  \n",
      "3879  2000  \n",
      "3880  2000  \n",
      "3881  2000  \n",
      "3882  2000  \n",
      "\n",
      "[3883 rows x 4 columns]\n"
     ]
    }
   ],
   "source": [
    "# Seperate Title and year\n",
    "\n",
    "movies[\"Year\"] = movies[\"Title\"].str.split(\"(\", expand=True)[1]\n",
    "movies[\"Title\"] = movies[\"Title\"].str.split(\"(\", expand=True)[0]\n",
    "movies[\"Year\"] = movies[\"Year\"].str.strip(\")\")\n",
    "print(movies)"
   ]
  },
  {
   "cell_type": "code",
   "execution_count": 128,
   "id": "5d443666",
   "metadata": {},
   "outputs": [
    {
     "name": "stdout",
     "output_type": "stream",
     "text": [
      "      MovieID                         Title  Year  Action  Adventure  \\\n",
      "0           1                    Toy Story   1995       0          0   \n",
      "1           2                      Jumanji   1995       0          1   \n",
      "2           3             Grumpier Old Men   1995       0          0   \n",
      "3           4            Waiting to Exhale   1995       0          0   \n",
      "4           5  Father of the Bride Part II   1995       0          0   \n",
      "...       ...                           ...   ...     ...        ...   \n",
      "3878     3948             Meet the Parents   2000       0          0   \n",
      "3879     3949          Requiem for a Dream   2000       0          0   \n",
      "3880     3950                    Tigerland   2000       0          0   \n",
      "3881     3951             Two Family House   2000       0          0   \n",
      "3882     3952               Contender, The   2000       0          0   \n",
      "\n",
      "      Animation  Children's  Comedy  Crime  Documentary  ...  Fantasy  \\\n",
      "0             1           1       1      0            0  ...        0   \n",
      "1             0           1       0      0            0  ...        1   \n",
      "2             0           0       1      0            0  ...        0   \n",
      "3             0           0       1      0            0  ...        0   \n",
      "4             0           0       1      0            0  ...        0   \n",
      "...         ...         ...     ...    ...          ...  ...      ...   \n",
      "3878          0           0       1      0            0  ...        0   \n",
      "3879          0           0       0      0            0  ...        0   \n",
      "3880          0           0       0      0            0  ...        0   \n",
      "3881          0           0       0      0            0  ...        0   \n",
      "3882          0           0       0      0            0  ...        0   \n",
      "\n",
      "      Film-Noir  Horror  Musical  Mystery  Romance  Sci-Fi  Thriller  War  \\\n",
      "0             0       0        0        0        0       0         0    0   \n",
      "1             0       0        0        0        0       0         0    0   \n",
      "2             0       0        0        0        1       0         0    0   \n",
      "3             0       0        0        0        0       0         0    0   \n",
      "4             0       0        0        0        0       0         0    0   \n",
      "...         ...     ...      ...      ...      ...     ...       ...  ...   \n",
      "3878          0       0        0        0        0       0         0    0   \n",
      "3879          0       0        0        0        0       0         0    0   \n",
      "3880          0       0        0        0        0       0         0    0   \n",
      "3881          0       0        0        0        0       0         0    0   \n",
      "3882          0       0        0        0        0       0         1    0   \n",
      "\n",
      "      Western  \n",
      "0           0  \n",
      "1           0  \n",
      "2           0  \n",
      "3           0  \n",
      "4           0  \n",
      "...       ...  \n",
      "3878        0  \n",
      "3879        0  \n",
      "3880        0  \n",
      "3881        0  \n",
      "3882        0  \n",
      "\n",
      "[3883 rows x 21 columns]\n"
     ]
    }
   ],
   "source": [
    "# Converting Genre as columns\n",
    "\n",
    "genres = movies[\"Genre\"].str.get_dummies().astype(int)\n",
    "data = movies.join(genres)\n",
    "data=data.drop([\"Genre\"],axis=1)\n",
    "print(data)"
   ]
  },
  {
   "cell_type": "code",
   "execution_count": 129,
   "id": "badb5e14",
   "metadata": {},
   "outputs": [
    {
     "name": "stdout",
     "output_type": "stream",
     "text": [
      "         UserID  MovieID  Rating  Timestamp  Gender  Age  Occupation Zip-code  \\\n",
      "0             1     1193       5  978300760       0    1          10    48067   \n",
      "1             2     1193       5  978298413       1   56          16    70072   \n",
      "2            12     1193       4  978220179       1   25          12    32793   \n",
      "3            15     1193       4  978199279       1   25           7    22903   \n",
      "4            17     1193       5  978158471       1   50           1    95350   \n",
      "...         ...      ...     ...        ...     ...  ...         ...      ...   \n",
      "1000204    5949     2198       5  958846401       1   18          17    47901   \n",
      "1000205    5675     2703       3  976029116       1   35          14    30030   \n",
      "1000206    5780     2845       1  958153068       1   18          17    92886   \n",
      "1000207    5851     3607       5  957756608       0   18          20    55410   \n",
      "1000208    5938     2909       4  957273353       1   25           1    35401   \n",
      "\n",
      "                                         Title  Year  ...  Fantasy  Film-Noir  \\\n",
      "0             One Flew Over the Cuckoo's Nest   1975  ...        0          0   \n",
      "1             One Flew Over the Cuckoo's Nest   1975  ...        0          0   \n",
      "2             One Flew Over the Cuckoo's Nest   1975  ...        0          0   \n",
      "3             One Flew Over the Cuckoo's Nest   1975  ...        0          0   \n",
      "4             One Flew Over the Cuckoo's Nest   1975  ...        0          0   \n",
      "...                                        ...   ...  ...      ...        ...   \n",
      "1000204                           Modulations   1998  ...        0          0   \n",
      "1000205                        Broken Vessels   1998  ...        0          0   \n",
      "1000206                            White Boys   1999  ...        0          0   \n",
      "1000207                     One Little Indian   1973  ...        0          0   \n",
      "1000208  Five Wives, Three Secretaries and Me   1998  ...        0          0   \n",
      "\n",
      "         Horror  Musical  Mystery  Romance  Sci-Fi  Thriller  War  Western  \n",
      "0             0        0        0        0       0         0    0        0  \n",
      "1             0        0        0        0       0         0    0        0  \n",
      "2             0        0        0        0       0         0    0        0  \n",
      "3             0        0        0        0       0         0    0        0  \n",
      "4             0        0        0        0       0         0    0        0  \n",
      "...         ...      ...      ...      ...     ...       ...  ...      ...  \n",
      "1000204       0        0        0        0       0         0    0        0  \n",
      "1000205       0        0        0        0       0         0    0        0  \n",
      "1000206       0        0        0        0       0         0    0        0  \n",
      "1000207       0        0        0        0       0         0    0        1  \n",
      "1000208       0        0        0        0       0         0    0        0  \n",
      "\n",
      "[1000209 rows x 28 columns]\n"
     ]
    }
   ],
   "source": [
    "# Merging datasets into a single dataset\n",
    "\n",
    "final_data = ratings.merge(users, on=\"UserID\")\n",
    "final_data = final_data.merge(data, on=\"MovieID\")\n",
    "print(final_data)"
   ]
  },
  {
   "cell_type": "code",
   "execution_count": 130,
   "id": "3c5c2d07",
   "metadata": {},
   "outputs": [
    {
     "data": {
      "image/png": "[encoded data removed]",
      "text/plain": [
       "<Figure size 1440x720 with 1 Axes>"
      ]
     },
     "metadata": {
      "needs_background": "light"
     },
     "output_type": "display_data"
    }
   ],
   "source": [
    "# Visualize user age distribution\n",
    "\n",
    "plt_1 = plt.figure(figsize=(20,10))\n",
    "plt.hist(users[\"Age\"])\n",
    "plt.show()"
   ]
  },
  {
   "cell_type": "code",
   "execution_count": 131,
   "id": "0a714bd6",
   "metadata": {},
   "outputs": [
    {
     "data": {
      "image/png": "[encoded data removed]",
      "text/plain": [
       "<Figure size 1440x720 with 1 Axes>"
      ]
     },
     "metadata": {
      "needs_background": "light"
     },
     "output_type": "display_data"
    }
   ],
   "source": [
    "# Visualize overall rating by users\n",
    "\n",
    "plt_1 = plt.figure(figsize=(20,10))\n",
    "plt.hist(ratings[\"Rating\"])\n",
    "plt.show()"
   ]
  },
  {
   "cell_type": "code",
   "execution_count": 132,
   "id": "407bd38c",
   "metadata": {},
   "outputs": [
    {
     "data": {
      "image/png": "[encoded data removed]",
      "text/plain": [
       "<Figure size 1440x720 with 1 Axes>"
      ]
     },
     "metadata": {
      "needs_background": "light"
     },
     "output_type": "display_data"
    }
   ],
   "source": [
    "# Find and visualize the user rating of the movie “Toy Story”\n",
    "\n",
    "plt_1 = plt.figure(figsize=(20,10))\n",
    "toy_story = final_data.loc[final_data[\"Title\"] == \"Toy Story \"]\n",
    "plt.hist(toy_story[\"Rating\"])\n",
    "plt.show()"
   ]
  },
  {
   "cell_type": "code",
   "execution_count": 133,
   "id": "a0a1b44b",
   "metadata": {
    "scrolled": true
   },
   "outputs": [
    {
     "data": {
      "image/png": "[encoded data removed]",
      "text/plain": [
       "<Figure size 720x360 with 1 Axes>"
      ]
     },
     "metadata": {
      "needs_background": "light"
     },
     "output_type": "display_data"
    }
   ],
   "source": [
    "# Find and visualize the viewership of the movie “Toy Story” by age group\n",
    "\n",
    "plt_1 = plt.figure(figsize=(10,5))\n",
    "toy_story = final_data.loc[final_data[\"Title\"] == \"Toy Story \"]\n",
    "plt.hist(toy_story[\"Age\"])\n",
    "plt.show()"
   ]
  },
  {
   "cell_type": "code",
   "execution_count": 134,
   "id": "d514af2b",
   "metadata": {},
   "outputs": [
    {
     "name": "stdout",
     "output_type": "stream",
     "text": [
      "                                   0\n",
      "0   One Flew Over the Cuckoo's Nest \n",
      "1                         Bowfinger \n",
      "2             Spy Who Loved Me, The \n",
      "3   On Her Majesty's Secret Service \n",
      "4                    Before Sunrise \n",
      "5                 Last Emperor, The \n",
      "6                      Best in Show \n",
      "7     Bridge on the River Kwai, The \n",
      "8                           Othello \n",
      "9                              Toys \n",
      "10                  Ordinary People \n",
      "11                            Naked \n",
      "12                   Bird on a Wire \n",
      "13           Four Days in September \n",
      "14                          Orlando \n",
      "15                            Bound \n",
      "16                    Mars Attacks! \n",
      "17           Wings of the Dove, The \n",
      "18               Kull the Conqueror \n",
      "19                        Rambo III \n",
      "20           Fox and the Hound, The \n",
      "21                    Donnie Brasco \n",
      "22                 Maybe, Maybe Not \n",
      "23       Rambo: First Blood Part II \n",
      "24     Man with the Golden Gun, The \n"
     ]
    }
   ],
   "source": [
    "# Find and visualize the top 25 movies by viewership rating\n",
    "\n",
    "top_movies = final_data.sort_values(by=[\"Rating\"], ascending=False)\n",
    "movies = top_movies[\"Title\"].unique()\n",
    "movies = pd.DataFrame(movies)\n",
    "print(movies.head(25))"
   ]
  },
  {
   "cell_type": "code",
   "execution_count": 135,
   "id": "b5443fc1",
   "metadata": {},
   "outputs": [
    {
     "name": "stdout",
     "output_type": "stream",
     "text": [
      "24345     2\n",
      "29848     3\n",
      "244232    4\n",
      "250014    5\n",
      "273633    1\n",
      "277808    4\n",
      "371178    4\n",
      "377250    3\n",
      "598042    4\n",
      "603189    4\n",
      "609204    4\n",
      "611956    2\n",
      "612552    4\n",
      "613486    4\n",
      "616546    4\n",
      "618708    4\n",
      "621101    1\n",
      "689379    4\n",
      "697451    2\n",
      "777089    3\n",
      "Name: Rating, dtype: int64\n"
     ]
    }
   ],
   "source": [
    "# Find the rating for a particular user of user id = 2696\n",
    "\n",
    "toy_story = final_data[\"Rating\"].loc[final_data[\"UserID\"] == 2696]\n",
    "print(toy_story)"
   ]
  },
  {
   "cell_type": "code",
   "execution_count": 136,
   "id": "707209cc",
   "metadata": {},
   "outputs": [
    {
     "data": {
      "image/png": "[encoded data removed]",
      "text/plain": [
       "<Figure size 720x360 with 1 Axes>"
      ]
     },
     "metadata": {
      "needs_background": "light"
     },
     "output_type": "display_data"
    }
   ],
   "source": [
    "# Visualize the rating data by user of user id = 2696\n",
    "\n",
    "plt_1 = plt.figure(figsize=(10,5))\n",
    "plt.hist(toy_story)\n",
    "plt.show()"
   ]
  },
  {
   "cell_type": "code",
   "execution_count": 137,
   "id": "c91f901a",
   "metadata": {},
   "outputs": [
    {
     "name": "stdout",
     "output_type": "stream",
     "text": [
      "intercept: [1740.69639685]\n",
      "slope: [[55.29567074  2.55328156  0.83607829]]\n",
      "[[1885.35692216]\n",
      " [1874.03743756]\n",
      " [1920.92267727]\n",
      " ...\n",
      " [1845.29544883]\n",
      " [1847.80368371]\n",
      " [1751.61046135]]\n",
      "        MovieID\n",
      "324271     2406\n",
      "818637     2071\n",
      "148677     3809\n",
      "778790     1390\n",
      "525489     3175\n",
      "...         ...\n",
      "180617     3893\n",
      "159277      349\n",
      "110831     1225\n",
      "288687     1653\n",
      "703743     3752\n",
      "\n",
      "[250053 rows x 1 columns]\n"
     ]
    }
   ],
   "source": [
    "x = final_data[[\"Gender\",\"Age\",\"Occupation\"]]\n",
    "y = final_data[[\"MovieID\"]]\n",
    "x_train, x_test, y_train, y_test =  train_test_split(x,y,test_size = 0.25, random_state= 0)\n",
    "model = LinearRegression()\n",
    "model.fit(x_train, y_train)\n",
    "print('intercept:', model.intercept_)\n",
    "print('slope:', model.coef_)\n",
    "y_pred = model.predict(x_test)\n",
    "print(y_pred)\n",
    "print(y_test)"
   ]
  },
  {
   "cell_type": "code",
   "execution_count": 143,
   "id": "c6d8deb7",
   "metadata": {},
   "outputs": [
    {
     "name": "stdout",
     "output_type": "stream",
     "text": [
      "[2762 2858 2858 ... 2858 2858  260]\n",
      "        MovieID\n",
      "555508     2706\n",
      "152620     1957\n",
      "831938      837\n",
      "416420     3916\n",
      "143208     1917\n",
      "...         ...\n",
      "718907     3052\n",
      "938506     2084\n",
      "665945      261\n",
      "579277       10\n",
      "579015     3479\n",
      "\n",
      "[250053 rows x 1 columns]\n"
     ]
    },
    {
     "data": {
      "text/plain": [
       "0.003407277657136687"
      ]
     },
     "execution_count": 143,
     "metadata": {},
     "output_type": "execute_result"
    }
   ],
   "source": [
    "x = final_data[[\"Gender\",\"Age\"]]\n",
    "y = final_data[[\"MovieID\"]]\n",
    "x_train, x_test, y_train, y_test =  train_test_split(x,y,test_size = 0.25)\n",
    "decision = DecisionTreeClassifier()\n",
    "reg = decision.fit(x_train,y_train)\n",
    "y_pred = decision.predict(x_test)\n",
    "print(y_pred)\n",
    "print(y_test)\n",
    "accuracy_score(y_test,y_pred)"
   ]
  },
  {
   "cell_type": "code",
   "execution_count": null,
   "id": "36fe4a0b",
   "metadata": {},
   "outputs": [],
   "source": [
    "\n",
    "classifier = KNeighborsClassifier(n_neighbors = 8)"
   ]
  }
 ],
 "metadata": {
  "kernelspec": {
   "display_name": "Python 3 (ipykernel)",
   "language": "python",
   "name": "python3"
  },
  "language_info": {
   "codemirror_mode": {
    "name": "ipython",
    "version": 3
   },
   "file_extension": ".py",
   "mimetype": "text/x-python",
   "name": "python",
   "nbconvert_exporter": "python",
   "pygments_lexer": "ipython3",
   "version": "3.9.7"
  }
 },
 "nbformat": 4,
 "nbformat_minor": 5
}
