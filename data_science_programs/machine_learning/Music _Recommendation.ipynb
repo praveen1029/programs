{
 "cells": [
  {
   "cell_type": "code",
   "execution_count": 1,
   "id": "e850e288",
   "metadata": {},
   "outputs": [],
   "source": [
    "import numpy as np\n",
    "import pandas as pd\n",
    "from matplotlib import pyplot as plt\n",
    "from matplotlib.pyplot import figure\n",
    "from sklearn import preprocessing as pre\n",
    "from sklearn.linear_model import LinearRegression\n",
    "from sklearn.model_selection import train_test_split\n",
    "from sklearn.tree import DecisionTreeClassifier\n",
    "from sklearn.metrics import accuracy_score\n",
    "from sklearn import tree"
   ]
  },
  {
   "cell_type": "code",
   "execution_count": 3,
   "id": "6ad103ce",
   "metadata": {},
   "outputs": [
    {
     "name": "stdout",
     "output_type": "stream",
     "text": [
      "['Jazz' 'Blues' 'Rock' 'Classical' 'Classical' 'Jazz' 'Reggae' 'Rock'\n",
      " 'Pop' 'Pop' 'Jazz' 'Blues' 'Reggae' 'Blues' 'Blues' 'Pop' 'Jazz' 'Reggae'\n",
      " 'Classical' 'Instrumental' 'Instrumental' 'Rock' 'Electronic' 'Rock'\n",
      " 'Country' 'Rock' 'Reggae' 'Instrumental' 'Classical' 'Pop' 'Classical'\n",
      " 'Country' 'Blues' 'Rock' 'Electronic' 'Electronic' 'Classical' 'Pop'\n",
      " 'Electronic' 'Rock' 'Jazz' 'Jazz' 'Classical' 'Instrumental' 'Electronic']\n"
     ]
    }
   ],
   "source": [
    "df = pd.read_csv(\"music.csv\")\n",
    "\n",
    "encode = pre.LabelEncoder()\n",
    "encode.fit([\"Male\",\"Female\"])\n",
    "df[\"Gender\"] = encode.transform(df[\"Gender\"])\n",
    "\n",
    "x = df[[\"Age\",\"Gender\"]]\n",
    "y = df[[\"Genre\"]]\n",
    "x_train, x_test, y_train, y_test =  train_test_split(x,y,test_size = 0.25)\n",
    "decision = DecisionTreeClassifier()\n",
    "decision.fit(x_train,y_train)\n",
    "\n",
    "test = [[2,0]]\n",
    "y_pred = decision.predict(x_test)\n",
    "print(y_pred)\n",
    "# print(y_test)\n",
    "# print(accuracy_score(y_test,y_pred))"
   ]
  }
 ],
 "metadata": {
  "kernelspec": {
   "display_name": "Python 3 (ipykernel)",
   "language": "python",
   "name": "python3"
  },
  "language_info": {
   "codemirror_mode": {
    "name": "ipython",
    "version": 3
   },
   "file_extension": ".py",
   "mimetype": "text/x-python",
   "name": "python",
   "nbconvert_exporter": "python",
   "pygments_lexer": "ipython3",
   "version": "3.9.7"
  }
 },
 "nbformat": 4,
 "nbformat_minor": 5
}
