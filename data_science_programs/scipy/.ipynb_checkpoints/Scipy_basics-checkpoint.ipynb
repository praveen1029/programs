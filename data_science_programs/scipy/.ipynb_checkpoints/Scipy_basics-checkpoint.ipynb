{
 "cells": [
  {
   "cell_type": "code",
   "execution_count": 8,
   "id": "2e71d9f4",
   "metadata": {},
   "outputs": [],
   "source": [
    "import scipy as sp\n",
    "import numpy as np\n",
    "from scipy import linalg\n",
    "from scipy import constants\n",
    "from scipy.optimize import minimize_scalar\n",
    "from numpy import exp\n",
    "import scipy.integrate"
   ]
  },
  {
   "cell_type": "code",
   "execution_count": 24,
   "id": "ec1ee433",
   "metadata": {},
   "outputs": [
    {
     "name": "stdout",
     "output_type": "stream",
     "text": [
      "[ 2. -1.  1.]\n"
     ]
    }
   ],
   "source": [
    "a = np.array([[1,2,-3],[2,-5,4],[5,4,-1]])\n",
    "b = np.array([-3,13,5])\n",
    "x = linalg.solve(a,b)\n",
    "print(x)"
   ]
  },
  {
   "cell_type": "code",
   "execution_count": 3,
   "id": "aa6d4c8b",
   "metadata": {},
   "outputs": [
    {
     "name": "stdout",
     "output_type": "stream",
     "text": [
      "3.141592653589793\n",
      "6.6743e-11\n",
      "9.80665\n",
      "3.141592653589793\n",
      "1.618033988749895\n",
      "1.602176634e-19\n",
      "299792458.0\n",
      "9.1093837015e-31\n",
      "1.67262192369e-27\n",
      "6.02214076e+23\n",
      "1.380649e-23\n"
     ]
    }
   ],
   "source": [
    "print(constants.pi)\n",
    "print(constants.G)\n",
    "print(constants.g)\n",
    "print(constants.pi)\n",
    "print(constants.golden)\n",
    "print(constants.e)\n",
    "print(constants.c)\n",
    "print(constants.m_e)\n",
    "print(constants.m_p)\n",
    "print(constants.Avogadro)\n",
    "print(constants.k)"
   ]
  },
  {
   "cell_type": "code",
   "execution_count": 4,
   "id": "e02416fd",
   "metadata": {},
   "outputs": [
    {
     "name": "stdout",
     "output_type": "stream",
     "text": [
      "6\n"
     ]
    }
   ],
   "source": [
    "def obj_fn(x):\n",
    "#     return 3*x**4-2*x+1\n",
    "#     return x**3+2*x**2\n",
    "#     return x**4+x**3+x**2+x+1\n",
    "#     return x**4-2*x**3-3*x**2-4*x-5\n",
    "    return x**5+8*x**4-6*x**3+4*x**2-2*x+1\n",
    "y=obj_fn(1)\n",
    "print(y)"
   ]
  },
  {
   "cell_type": "code",
   "execution_count": 5,
   "id": "0c44f18f",
   "metadata": {},
   "outputs": [
    {
     "name": "stdout",
     "output_type": "stream",
     "text": [
      "     fun: 0.6579410784652652\n",
      "    nfev: 15\n",
      "     nit: 11\n",
      " success: True\n",
      "       x: 0.3446905150952321\n"
     ]
    }
   ],
   "source": [
    "result = minimize_scalar(obj_fn)\n",
    "print(result)"
   ]
  },
  {
   "cell_type": "code",
   "execution_count": 16,
   "id": "2bb187a1",
   "metadata": {},
   "outputs": [],
   "source": [
    "def intergration(x+a):\n",
    "    return 2*x+a"
   ]
  },
  {
   "cell_type": "code",
   "execution_count": 22,
   "id": "aa70d1ef",
   "metadata": {},
   "outputs": [
    {
     "name": "stdout",
     "output_type": "stream",
     "text": [
      "(0.33333333333333337, 3.700743415417189e-15)\n"
     ]
    }
   ],
   "source": [
    "print(scipy.integrate.quad(f, 0, 1))"
   ]
  }
 ],
 "metadata": {
  "kernelspec": {
   "display_name": "Python 3 (ipykernel)",
   "language": "python",
   "name": "python3"
  },
  "language_info": {
   "codemirror_mode": {
    "name": "ipython",
    "version": 3
   },
   "file_extension": ".py",
   "mimetype": "text/x-python",
   "name": "python",
   "nbconvert_exporter": "python",
   "pygments_lexer": "ipython3",
   "version": "3.9.7"
  }
 },
 "nbformat": 4,
 "nbformat_minor": 5
}
