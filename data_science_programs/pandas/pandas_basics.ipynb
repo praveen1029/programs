{
 "cells": [
  {
   "cell_type": "code",
   "execution_count": 43,
   "id": "cd522c2c",
   "metadata": {},
   "outputs": [],
   "source": [
    "import pandas as pd\n",
    "import numpy as np"
   ]
  },
  {
   "cell_type": "code",
   "execution_count": 44,
   "id": "457ec2ce",
   "metadata": {
    "scrolled": true
   },
   "outputs": [
    {
     "name": "stdout",
     "output_type": "stream",
     "text": [
      "a    1\n",
      "b    2\n",
      "c    3\n",
      "d    4\n",
      "e    5\n",
      "f    6\n",
      "dtype: int64\n",
      "1\n",
      "6\n",
      "3.5\n",
      "3.5\n",
      "1.8708286933869707\n",
      "a     1\n",
      "b     3\n",
      "c     6\n",
      "d    10\n",
      "e    15\n",
      "f    21\n",
      "dtype: int64\n",
      "a      1\n",
      "b      2\n",
      "c      6\n",
      "d     24\n",
      "e    120\n",
      "f    720\n",
      "dtype: int64\n",
      "a    1\n",
      "b    2\n",
      "c    3\n",
      "d    4\n",
      "e    5\n",
      "dtype: int64\n",
      "e    5\n",
      "f    6\n",
      "dtype: int64\n",
      "4\n"
     ]
    }
   ],
   "source": [
    "data = [1,2,3,4,5,6]\n",
    "s = pd.Series(data,index = [\"a\",\"b\",\"c\",\"d\",\"e\",\"f\"],copy = False) # index and copy is optional\n",
    "print(s)\n",
    "print(s.min())\n",
    "print(s.max())\n",
    "print(s.mean())\n",
    "print(s.median())\n",
    "print(s.std())\n",
    "print(s.cumsum())\n",
    "print(s.cumprod())\n",
    "print(s.head())\n",
    "print(s.tail(2))\n",
    "print(s[3])"
   ]
  },
  {
   "cell_type": "code",
   "execution_count": 45,
   "id": "22447a9c",
   "metadata": {},
   "outputs": [
    {
     "name": "stdout",
     "output_type": "stream",
     "text": [
      "a    1\n",
      "b    2\n",
      "dtype: int64\n"
     ]
    }
   ],
   "source": [
    "data2 = [7,8,9,10,11,12]\n",
    "s2 = pd.Series(data2)\n",
    "# print(s2)\n",
    "s3 = pd.concat([s,s2])\n",
    "# print(s3)\n",
    "# print(s3[\"b\":0])\n",
    "print(s3[:2])"
   ]
  },
  {
   "cell_type": "code",
   "execution_count": 46,
   "id": "493932cc",
   "metadata": {},
   "outputs": [
    {
     "name": "stdout",
     "output_type": "stream",
     "text": [
      "dataframe\n",
      "   0\n",
      "0  1\n",
      "1  2\n",
      "2  3\n",
      "3  4\n",
      "4  5\n",
      "\n",
      "series\n",
      "0    1\n",
      "1    2\n",
      "2    3\n",
      "3    4\n",
      "4    5\n",
      "dtype: int64\n"
     ]
    }
   ],
   "source": [
    "data = [1,2,3,4,5]\n",
    "df = pd.DataFrame(data)\n",
    "s = pd.Series(data)\n",
    "print(\"dataframe\")\n",
    "print(df)\n",
    "print(\"\\nseries\")\n",
    "print(s)"
   ]
  },
  {
   "cell_type": "code",
   "execution_count": 47,
   "id": "445e0c0a",
   "metadata": {},
   "outputs": [
    {
     "name": "stdout",
     "output_type": "stream",
     "text": [
      "    Name  Age\n",
      "0    Tom   28\n",
      "1   Jack   34\n",
      "2  Steve   29\n",
      "3  Ricky   42\n"
     ]
    }
   ],
   "source": [
    "data = {'Name':['Tom', 'Jack', 'Steve', 'Ricky'],'Age':[28,34,29,42]}\n",
    "df = pd.DataFrame(data)\n",
    "print(df)"
   ]
  },
  {
   "cell_type": "code",
   "execution_count": 48,
   "id": "99161d87",
   "metadata": {},
   "outputs": [
    {
     "name": "stdout",
     "output_type": "stream",
     "text": [
      "          W         X         Y         Z\n",
      "A  0.454199  0.147312  0.601246  0.541537\n",
      "B  0.269879  0.577749  0.588948  0.734349\n",
      "C  0.883460  0.172330  0.862108  0.010690\n",
      "D  0.136550  0.927584  0.582086  0.061860\n",
      "E  0.652280  0.208027  0.099818  0.397138\n",
      "A    0.454199\n",
      "B    0.269879\n",
      "C    0.883460\n",
      "D    0.136550\n",
      "E    0.652280\n",
      "Name: W, dtype: float64\n",
      "          W         Z\n",
      "A  0.454199  0.541537\n",
      "B  0.269879  0.734349\n",
      "C  0.883460  0.010690\n",
      "D  0.136550  0.061860\n",
      "E  0.652280  0.397138\n",
      "         W        X         Y        Z\n",
      "C  0.88346  0.17233  0.862108  0.01069\n",
      "         X\n",
      "C  0.17233\n"
     ]
    }
   ],
   "source": [
    "df = pd.DataFrame(np.random.rand(5,4),index='A B C D E'.split(),columns='W X Y Z'.split())\n",
    "print(df)\n",
    "print(df['W']) #column slicing\n",
    "print(df[['W','Z']]) #column slicing\n",
    "print(df[2:3]) #row slicing\n",
    "df2 = df.iloc[2:3,1:2] #row and column slicing\n",
    "print(df2)"
   ]
  },
  {
   "cell_type": "code",
   "execution_count": 49,
   "id": "bc102480",
   "metadata": {},
   "outputs": [
    {
     "name": "stdout",
     "output_type": "stream",
     "text": [
      "          W         X         Y         Z       new\n",
      "A  0.454199  0.147312  0.601246  0.541537  1.055445\n",
      "B  0.269879  0.577749  0.588948  0.734349  0.858826\n",
      "C  0.883460  0.172330  0.862108  0.010690  1.745568\n",
      "D  0.136550  0.927584  0.582086  0.061860  0.718635\n",
      "E  0.652280  0.208027  0.099818  0.397138  0.752098\n",
      "          W         X         Y         Z\n",
      "A  0.454199  0.147312  0.601246  0.541537\n",
      "B  0.269879  0.577749  0.588948  0.734349\n",
      "C  0.883460  0.172330  0.862108  0.010690\n",
      "D  0.136550  0.927584  0.582086  0.061860\n",
      "E  0.652280  0.208027  0.099818  0.397138\n"
     ]
    },
    {
     "data": {
      "text/plain": [
       "W      0.454199\n",
       "X      0.147312\n",
       "Y      0.601246\n",
       "Z      0.541537\n",
       "new    1.055445\n",
       "Name: A, dtype: float64"
      ]
     },
     "execution_count": 49,
     "metadata": {},
     "output_type": "execute_result"
    }
   ],
   "source": [
    "# create new column\n",
    "df['new'] = df['W'] + df['Y']\n",
    "print(df)\n",
    "print(df.drop('new',axis=1))\n",
    "df.iloc[2]\n",
    "df.loc['A']"
   ]
  },
  {
   "cell_type": "code",
   "execution_count": 50,
   "id": "b07bb047",
   "metadata": {},
   "outputs": [
    {
     "name": "stdout",
     "output_type": "stream",
     "text": [
      "       W      X      Y      Z    new\n",
      "A  False  False  False  False  False\n",
      "B  False  False  False  False  False\n",
      "C  False  False  False  False  False\n",
      "D  False  False  False  False  False\n",
      "E  False  False  False  False  False\n",
      "          W         X         Y         Z       new\n",
      "A  0.454199  0.147312  0.601246  0.541537  1.055445\n",
      "B  0.269879  0.577749  0.588948  0.734349  0.858826\n",
      "C  0.883460  0.172330  0.862108  0.010690  1.745568\n",
      "D  0.136550  0.927584  0.582086  0.061860  0.718635\n",
      "E  0.652280  0.208027  0.099818  0.397138  0.752098\n",
      "          W         X         Y         Z       new\n",
      "A  0.454199  0.147312  0.601246  0.541537  1.055445\n",
      "B  0.269879  0.577749  0.588948  0.734349  0.858826\n",
      "C  0.883460  0.172330  0.862108  0.010690  1.745568\n",
      "D  0.136550  0.927584  0.582086  0.061860  0.718635\n",
      "E  0.652280  0.208027  0.099818  0.397138  0.752098\n",
      "A    0.601246\n",
      "B    0.588948\n",
      "C    0.862108\n",
      "D    0.582086\n",
      "E    0.099818\n",
      "Name: Y, dtype: float64\n"
     ]
    }
   ],
   "source": [
    "print(df<0)\n",
    "\n",
    "print(df[df>0])\n",
    "\n",
    "print(df[df['W']>0])\n",
    "\n",
    "print(df[df['W']>0]['Y'])"
   ]
  },
  {
   "cell_type": "code",
   "execution_count": 51,
   "id": "1d44ed2c",
   "metadata": {},
   "outputs": [
    {
     "data": {
      "text/plain": [
       "<AxesSubplot:>"
      ]
     },
     "execution_count": 51,
     "metadata": {},
     "output_type": "execute_result"
    },
    {
     "data": {
      "image/png": "[encoded data removed]",
      "text/plain": [
       "<Figure size 432x288 with 1 Axes>"
      ]
     },
     "metadata": {
      "needs_background": "light"
     },
     "output_type": "display_data"
    }
   ],
   "source": [
    "df.plot()"
   ]
  },
  {
   "cell_type": "code",
   "execution_count": 52,
   "id": "a1ff1cf9",
   "metadata": {},
   "outputs": [
    {
     "name": "stdout",
     "output_type": "stream",
     "text": [
      "  Company   Person  Sales\n",
      "0    GOOG      Sam    200\n",
      "1    GOOG  Charlie    120\n",
      "2    MSFT     Ansu    340\n",
      "3    MSFT  Vanessa    124\n",
      "4      FB     Carl    243\n",
      "5      FB    Sarah    350\n",
      "         Sales\n",
      "Company       \n",
      "FB       296.5\n",
      "GOOG     160.0\n",
      "MSFT     232.0\n",
      "              Sales\n",
      "Company            \n",
      "FB        75.660426\n",
      "GOOG      56.568542\n",
      "MSFT     152.735065\n",
      "          Person  Sales\n",
      "Company                \n",
      "FB          Carl    243\n",
      "GOOG     Charlie    120\n",
      "MSFT        Ansu    124\n",
      "          Person  Sales\n",
      "Company                \n",
      "FB         Sarah    350\n",
      "GOOG         Sam    200\n",
      "MSFT     Vanessa    340\n",
      "         Person  Sales\n",
      "Company               \n",
      "FB            2      2\n",
      "GOOG          2      2\n",
      "MSFT          2      2\n",
      "        Sales                                                        \n",
      "        count   mean         std    min     25%    50%     75%    max\n",
      "Company                                                              \n",
      "FB        2.0  296.5   75.660426  243.0  269.75  296.5  323.25  350.0\n",
      "GOOG      2.0  160.0   56.568542  120.0  140.00  160.0  180.00  200.0\n",
      "MSFT      2.0  232.0  152.735065  124.0  178.00  232.0  286.00  340.0\n",
      "Company              FB        GOOG        MSFT\n",
      "Sales count    2.000000    2.000000    2.000000\n",
      "      mean   296.500000  160.000000  232.000000\n",
      "      std     75.660426   56.568542  152.735065\n",
      "      min    243.000000  120.000000  124.000000\n",
      "      25%    269.750000  140.000000  178.000000\n",
      "      50%    296.500000  160.000000  232.000000\n",
      "      75%    323.250000  180.000000  286.000000\n",
      "      max    350.000000  200.000000  340.000000\n"
     ]
    }
   ],
   "source": [
    "data = {'Company':['GOOG','GOOG','MSFT','MSFT','FB','FB'],\n",
    "       'Person':['Sam','Charlie','Ansu','Vanessa','Carl','Sarah'],\n",
    "       'Sales':[200,120,340,124,243,350]}\n",
    "df = pd.DataFrame(data)\n",
    "print(df)\n",
    "by_comp = df.groupby(\"Company\")\n",
    "\n",
    "print(by_comp.mean())\n",
    "\n",
    "print(by_comp.std())\n",
    "\n",
    "print(by_comp.min())\n",
    "\n",
    "print(by_comp.max())\n",
    "\n",
    "print(by_comp.count())\n",
    "\n",
    "print(by_comp.describe())\n",
    "\n",
    "print(by_comp.describe().transpose())"
   ]
  },
  {
   "cell_type": "code",
   "execution_count": 53,
   "id": "ff34046e",
   "metadata": {},
   "outputs": [
    {
     "name": "stdout",
     "output_type": "stream",
     "text": [
      "      A    B    C    D\n",
      "0    A0   B0   C0   D0\n",
      "1    A1   B1   C1   D1\n",
      "2    A2   B2   C2   D2\n",
      "3    A3   B3   C3   D3\n",
      "4    A4   B4   C4   D4\n",
      "5    A5   B5   C5   D5\n",
      "6    A6   B6   C6   D6\n",
      "7    A7   B7   C7   D7\n",
      "8    A8   B8   C8   D8\n",
      "9    A9   B9   C9   D9\n",
      "10  A10  B10  C10  D10\n",
      "11  A11  B11  C11  D11\n",
      "      A    B    C    D    A    B    C    D    A    B    C    D\n",
      "0    A0   B0   C0   D0  NaN  NaN  NaN  NaN  NaN  NaN  NaN  NaN\n",
      "1    A1   B1   C1   D1  NaN  NaN  NaN  NaN  NaN  NaN  NaN  NaN\n",
      "2    A2   B2   C2   D2  NaN  NaN  NaN  NaN  NaN  NaN  NaN  NaN\n",
      "3    A3   B3   C3   D3  NaN  NaN  NaN  NaN  NaN  NaN  NaN  NaN\n",
      "4   NaN  NaN  NaN  NaN   A4   B4   C4   D4  NaN  NaN  NaN  NaN\n",
      "5   NaN  NaN  NaN  NaN   A5   B5   C5   D5  NaN  NaN  NaN  NaN\n",
      "6   NaN  NaN  NaN  NaN   A6   B6   C6   D6  NaN  NaN  NaN  NaN\n",
      "7   NaN  NaN  NaN  NaN   A7   B7   C7   D7  NaN  NaN  NaN  NaN\n",
      "8   NaN  NaN  NaN  NaN  NaN  NaN  NaN  NaN   A8   B8   C8   D8\n",
      "9   NaN  NaN  NaN  NaN  NaN  NaN  NaN  NaN   A9   B9   C9   D9\n",
      "10  NaN  NaN  NaN  NaN  NaN  NaN  NaN  NaN  A10  B10  C10  D10\n",
      "11  NaN  NaN  NaN  NaN  NaN  NaN  NaN  NaN  A11  B11  C11  D11\n"
     ]
    }
   ],
   "source": [
    "df1 = pd.DataFrame({'A': ['A0', 'A1', 'A2', 'A3'],\n",
    "                        'B': ['B0', 'B1', 'B2', 'B3'],\n",
    "                        'C': ['C0', 'C1', 'C2', 'C3'],\n",
    "                        'D': ['D0', 'D1', 'D2', 'D3']},\n",
    "                        index=[0, 1, 2, 3])\n",
    "\n",
    "df2 = pd.DataFrame({'A': ['A4', 'A5', 'A6', 'A7'],\n",
    "                        'B': ['B4', 'B5', 'B6', 'B7'],\n",
    "                        'C': ['C4', 'C5', 'C6', 'C7'],\n",
    "                        'D': ['D4', 'D5', 'D6', 'D7']},\n",
    "                         index=[4, 5, 6, 7]) \n",
    "df3 = pd.DataFrame({'A': ['A8', 'A9', 'A10', 'A11'],\n",
    "                        'B': ['B8', 'B9', 'B10', 'B11'],\n",
    "                        'C': ['C8', 'C9', 'C10', 'C11'],\n",
    "                        'D': ['D8', 'D9', 'D10', 'D11']},\n",
    "                        index=[8, 9, 10, 11])\n",
    "print(pd.concat([df1,df2,df3]))\n",
    "\n",
    "print(pd.concat([df1,df2,df3],axis=1))"
   ]
  },
  {
   "cell_type": "code",
   "execution_count": 54,
   "id": "4b19f6e6",
   "metadata": {},
   "outputs": [
    {
     "name": "stdout",
     "output_type": "stream",
     "text": [
      "   col1  col2 col3\n",
      "0     1   444  abc\n",
      "1     2   555  def\n",
      "2     3   666  ghi\n",
      "3     4   444  xyz\n",
      "[444 555 666]\n",
      "3\n",
      "444    2\n",
      "555    1\n",
      "666    1\n",
      "Name: col2, dtype: int64 \n",
      "\n",
      "   col1  col2 col3\n",
      "3     4   444  xyz \n",
      "\n",
      "10 \n",
      "\n",
      "0    1.000000\n",
      "1    1.414214\n",
      "2    1.732051\n",
      "3    2.000000\n",
      "Name: col1, dtype: float64\n",
      "Index(['col1', 'col2', 'col3'], dtype='object')\n",
      "RangeIndex(start=0, stop=4, step=1)\n"
     ]
    }
   ],
   "source": [
    "df = pd.DataFrame({'col1':[1,2,3,4],'col2':[444,555,666,444],'col3':['abc','def','ghi','xyz']})\n",
    "print(df)\n",
    "print(df['col2'].unique())\n",
    "\n",
    "print(df['col2'].nunique())\n",
    "\n",
    "print(df['col2'].value_counts(),\"\\n\")\n",
    "\n",
    "print(df[(df['col1']>2) & (df['col2']==444)],\"\\n\")\n",
    "\n",
    "print(df['col1'].sum(),\"\\n\")\n",
    "\n",
    "print(df['col1'].apply(np.sqrt))\n",
    "\n",
    "print(df.columns)\n",
    "\n",
    "print(df.index)"
   ]
  },
  {
   "cell_type": "code",
   "execution_count": 55,
   "id": "22b96524",
   "metadata": {},
   "outputs": [
    {
     "name": "stdout",
     "output_type": "stream",
     "text": [
      "   col1  col2 col3\n",
      "0     1   444  abc\n",
      "3     4   444  xyz\n",
      "1     2   555  def\n",
      "2     3   666  ghi\n",
      "    col1   col2   col3\n",
      "0  False  False  False\n",
      "1  False  False  False\n",
      "2  False  False  False\n",
      "3  False  False  False\n"
     ]
    }
   ],
   "source": [
    "print(df.sort_values(by='col2'))\n",
    "\n",
    "print(df.isnull())"
   ]
  },
  {
   "cell_type": "code",
   "execution_count": 56,
   "id": "3b40f4c6",
   "metadata": {},
   "outputs": [
    {
     "name": "stdout",
     "output_type": "stream",
     "text": [
      "   A  B  C\n",
      "0  1  2  3\n",
      "1  4  5  6\n",
      "2  7  8  9 \n",
      "\n",
      "1 2\n",
      "4 5\n",
      "7 8\n"
     ]
    },
    {
     "data": {
      "text/plain": [
       "0    3\n",
       "1    6\n",
       "2    9\n",
       "Name: C, dtype: int32"
      ]
     },
     "execution_count": 56,
     "metadata": {},
     "output_type": "execute_result"
    }
   ],
   "source": [
    "df = pd.DataFrame(data=np.array([[1, 2, 3], [4, 5, 6], [7, 8, 9]]), columns=['A', 'B', 'C'])\n",
    "print(df,\"\\n\")\n",
    "for index, row in df.iterrows() :\n",
    "    print(row['A'], row['B'])  \n",
    "df['C']"
   ]
  },
  {
   "cell_type": "code",
   "execution_count": 57,
   "id": "f7363485",
   "metadata": {},
   "outputs": [
    {
     "name": "stdout",
     "output_type": "stream",
     "text": [
      "               area_type   availability                   location       size  \\\n",
      "0   Super built-up  Area         19-Dec                 SRO Layout      2 BHK   \n",
      "1             Plot  Area  Ready To Move           Chikka Tirupathi  4 Bedroom   \n",
      "2         Built-up  Area  Ready To Move                Uttarahalli      3 BHK   \n",
      "3   Super built-up  Area  Ready To Move         Lingadheeranahalli      3 BHK   \n",
      "4   Super built-up  Area  Ready To Move                   Kothanur      2 BHK   \n",
      "..                   ...            ...                        ...        ...   \n",
      "95  Super built-up  Area  Ready To Move                     Domlur      3 BHK   \n",
      "96            Plot  Area  Ready To Move                    Kengeri  4 Bedroom   \n",
      "97  Super built-up  Area  Ready To Move  Sarjapura - Attibele Road      3 BHK   \n",
      "98        Built-up  Area  Ready To Move             Devasthanagalu      2 BHK   \n",
      "99        Built-up  Area  Ready To Move              T Dasarahalli  3 Bedroom   \n",
      "\n",
      "    society total_sqft  bath  balcony   price  \n",
      "0    Coomee       1056   2.0      1.0   39.07  \n",
      "1   Theanmp       2600   5.0      3.0  120.00  \n",
      "2       NaN       1440   2.0      3.0   62.00  \n",
      "3   Soiewre       1521   3.0      1.0   95.00  \n",
      "4       NaN        120   2.0      1.0   51.00  \n",
      "..      ...        ...   ...      ...     ...  \n",
      "95      NaN       1540   3.0      2.0   90.00  \n",
      "96  Goardth       2894   4.0      1.0  245.00  \n",
      "97      NaN       1330   2.0      1.0   48.00  \n",
      "98      NaN       1200   2.0      1.0   65.00  \n",
      "99      NaN       1200   3.0      1.0   90.00  \n",
      "\n",
      "[100 rows x 9 columns]\n"
     ]
    }
   ],
   "source": [
    "missing_values = [0,\"na\",\"\",\"-\",\"nil\"]\n",
    "missing_values_dict = {\n",
    "    \"society\":[\"\",0]\n",
    "}\n",
    "df = pd.read_csv(\"house_data.csv\",na_values=missing_values)\n",
    "print(df)"
   ]
  },
  {
   "cell_type": "code",
   "execution_count": 58,
   "id": "7aed5b38",
   "metadata": {},
   "outputs": [
    {
     "name": "stdout",
     "output_type": "stream",
     "text": [
      "               area_type   availability               location       size  \\\n",
      "0   Super built-up  Area         19-Dec             SRO Layout      2 BHK   \n",
      "1             Plot  Area  Ready To Move       Chikka Tirupathi  4 Bedroom   \n",
      "3   Super built-up  Area  Ready To Move     Lingadheeranahalli      3 BHK   \n",
      "5   Super built-up  Area  Ready To Move             Whitefield      2 BHK   \n",
      "11            Plot  Area  Ready To Move             Whitefield  4 Bedroom   \n",
      "12  Super built-up  Area  Ready To Move     7th Phase JP Nagar      2 BHK   \n",
      "14            Plot  Area  Ready To Move               Sarjapur  3 Bedroom   \n",
      "15  Super built-up  Area  Ready To Move            Mysore Road      2 BHK   \n",
      "16  Super built-up  Area  Ready To Move          Bisuvanahalli      3 BHK   \n",
      "17  Super built-up  Area  Ready To Move  Raja Rajeshwari Nagar      3 BHK   \n",
      "18  Super built-up  Area  Ready To Move  Ramakrishnappa Layout      3 BHK   \n",
      "21  Super built-up  Area         19-Dec             Binny Pete      3 BHK   \n",
      "22            Plot  Area  Ready To Move            Thanisandra  4 Bedroom   \n",
      "26  Super built-up  Area  Ready To Move        Electronic City      2 BHK   \n",
      "28  Super built-up  Area         17-Oct       Ramagondanahalli      2 BHK   \n",
      "29  Super built-up  Area  Ready To Move        Electronic City      3 BHK   \n",
      "31  Super built-up  Area  Ready To Move          Bisuvanahalli      3 BHK   \n",
      "32  Super built-up  Area  Ready To Move                 Hebbal      3 BHK   \n",
      "33  Super built-up  Area  Ready To Move  Raja Rajeshwari Nagar      3 BHK   \n",
      "35  Super built-up  Area         21-Dec         Kanakpura Road      2 BHK   \n",
      "37  Super built-up  Area  Ready To Move           Kundalahalli      3 BHK   \n",
      "41  Super built-up  Area         19-Dec         Sarjapur  Road      3 BHK   \n",
      "44  Super built-up  Area         19-Sep         Kanakpura Road      2 BHK   \n",
      "47  Super built-up  Area         20-Sep             Whitefield      2 BHK   \n",
      "50  Super built-up  Area  Ready To Move           Adarsh Nagar      2 BHK   \n",
      "51  Super built-up  Area         18-Mar            Bhoganhalli      3 BHK   \n",
      "52        Built-up  Area  Ready To Move             Whitefield      3 BHK   \n",
      "53  Super built-up  Area  Ready To Move   Lakshminarayana Pura      2 BHK   \n",
      "54  Super built-up  Area  Ready To Move              Yelahanka      3 BHK   \n",
      "55  Super built-up  Area  Ready To Move             Begur Road      2 BHK   \n",
      "57  Super built-up  Area  Ready To Move  Ramakrishnappa Layout      2 BHK   \n",
      "61  Super built-up  Area  Ready To Move            Ganga Nagar      2 BHK   \n",
      "62            Plot  Area  Ready To Move             Whitefield  4 Bedroom   \n",
      "63        Built-up  Area  Ready To Move                Varthur      2 BHK   \n",
      "66  Super built-up  Area         18-Apr                 Gunjur      2 BHK   \n",
      "71  Super built-up  Area         20-Aug             Begur Road      2 BHK   \n",
      "72  Super built-up  Area  Ready To Move            Hegde Nagar      3 BHK   \n",
      "73  Super built-up  Area         18-Apr           Haralur Road      2 BHK   \n",
      "74  Super built-up  Area  Ready To Move            Hennur Road      3 BHK   \n",
      "77        Built-up  Area  Ready To Move     Cholanayakanahalli      3 BHK   \n",
      "80  Super built-up  Area  Ready To Move   Kodanda Reddy Layout      3 BHK   \n",
      "82  Super built-up  Area         19-Mar              Yelahanka      2 BHK   \n",
      "84  Super built-up  Area  Ready To Move              EPIP Zone      3 BHK   \n",
      "87  Super built-up  Area         17-Sep             Dasanapura      2 BHK   \n",
      "88  Super built-up  Area  Ready To Move           Kasavanhalli      2 BHK   \n",
      "90        Built-up  Area  Ready To Move           Sanjay nagar      2 BHK   \n",
      "94  Super built-up  Area         17-Aug            Thanisandra      2 BHK   \n",
      "96            Plot  Area  Ready To Move                Kengeri  4 Bedroom   \n",
      "\n",
      "    society total_sqft  bath  balcony   price  \n",
      "0    Coomee       1056   2.0      1.0   39.07  \n",
      "1   Theanmp       2600   5.0      3.0  120.00  \n",
      "3   Soiewre       1521   3.0      1.0   95.00  \n",
      "5   DuenaTa       1170   2.0      1.0   38.00  \n",
      "11  Prrry M       2785   5.0      3.0  295.00  \n",
      "12  Shncyes       1000   2.0      1.0   38.00  \n",
      "14  Skityer       2250   3.0      2.0  148.00  \n",
      "15  PrntaEn       1175   2.0      2.0   73.50  \n",
      "16  Prityel       1180   3.0      2.0   48.00  \n",
      "17  GrrvaGr       1540   3.0      3.0   60.00  \n",
      "18  PeBayle       2770   4.0      2.0  290.00  \n",
      "21  She 2rk       1755   3.0      1.0  122.00  \n",
      "22   Soitya       2800   5.0      2.0  380.00  \n",
      "26   Itelaa        660   1.0      1.0   23.10  \n",
      "28  ViistLa       1151   2.0      2.0   48.77  \n",
      "29   KBityo       1025   2.0      1.0   47.00  \n",
      "31  Prityel       1075   2.0      1.0   35.00  \n",
      "32  Mahosya       1760   2.0      2.0  123.00  \n",
      "33  GrrvaGr       1693   3.0      3.0   57.39  \n",
      "35  PrarePa        700   2.0      1.0   36.00  \n",
      "37  Dieldli       1724   3.0      2.0  125.00  \n",
      "41  Soini T       1254   3.0      2.0   38.00  \n",
      "44   Soazak    1330.74   2.0      2.0   91.79  \n",
      "47  Goted U       1459   2.0      1.0   94.82  \n",
      "50  Bhncyis       1270   2.0      1.0   50.00  \n",
      "51  Rosha I       1670   3.0      1.0   99.00  \n",
      "52  Suent V       2010   3.0      2.0   91.00  \n",
      "53  RothaVa       1185   2.0      2.0   75.00  \n",
      "54  NCowsar       1600   2.0      3.0   75.00  \n",
      "55   Dhalsh       1200   2.0      2.0   44.00  \n",
      "57  PeBayle       1500   2.0      2.0  185.00  \n",
      "61  Laavevi        845   2.0      1.0   55.00  \n",
      "62  Chranya       5700   5.0      3.0  650.00  \n",
      "63  HioraTr       1160   2.0      2.0   44.00  \n",
      "66  BMineis       1140   2.0      3.0   43.00  \n",
      "71   Pruthg       1358   2.0      1.0   80.58  \n",
      "72  Sonosty       1569   3.0      1.0  101.00  \n",
      "73  SNnia E       1240   2.0      1.0   70.00  \n",
      "74  Anavi B       2089   3.0      2.0  140.00  \n",
      "77  Viony H       2511   3.0      3.0  205.00  \n",
      "80  AdentEl       1660   2.0      2.0  105.00  \n",
      "82  Niareum       1326   2.0      2.0   78.00  \n",
      "84  SJlynro       1499   5.0      2.0  102.00  \n",
      "87  Tavenew        708   2.0      2.0   37.00  \n",
      "88  Srire S       1060   2.0      2.0   58.06  \n",
      "90   Saenti       1000   2.0      2.0   70.00  \n",
      "94   Bhmesy       1296   2.0      3.0   80.00  \n",
      "96  Goardth       2894   4.0      1.0  245.00  \n",
      "48\n"
     ]
    }
   ],
   "source": [
    "df.dropna(axis=0, inplace=True, how=\"any\")\n",
    "print(df)\n",
    "print(len(df))"
   ]
  },
  {
   "cell_type": "code",
   "execution_count": 59,
   "id": "852cd090",
   "metadata": {},
   "outputs": [
    {
     "name": "stdout",
     "output_type": "stream",
     "text": [
      "0      Coomee\n",
      "1     Theanmp\n",
      "3     Soiewre\n",
      "5     DuenaTa\n",
      "11    Prrry M\n",
      "12    Shncyes\n",
      "14    Skityer\n",
      "15    PrntaEn\n",
      "16    Prityel\n",
      "17    GrrvaGr\n",
      "18    PeBayle\n",
      "21    She 2rk\n",
      "22     Soitya\n",
      "26     Itelaa\n",
      "28    ViistLa\n",
      "29     KBityo\n",
      "31    Prityel\n",
      "32    Mahosya\n",
      "33    GrrvaGr\n",
      "35    PrarePa\n",
      "37    Dieldli\n",
      "41    Soini T\n",
      "44     Soazak\n",
      "47    Goted U\n",
      "50    Bhncyis\n",
      "51    Rosha I\n",
      "52    Suent V\n",
      "53    RothaVa\n",
      "54    NCowsar\n",
      "55     Dhalsh\n",
      "57    PeBayle\n",
      "61    Laavevi\n",
      "62    Chranya\n",
      "63    HioraTr\n",
      "66    BMineis\n",
      "71     Pruthg\n",
      "72    Sonosty\n",
      "73    SNnia E\n",
      "74    Anavi B\n",
      "77    Viony H\n",
      "80    AdentEl\n",
      "82    Niareum\n",
      "84    SJlynro\n",
      "87    Tavenew\n",
      "88    Srire S\n",
      "90     Saenti\n",
      "94     Bhmesy\n",
      "96    Goardth\n",
      "Name: society, dtype: object\n"
     ]
    }
   ],
   "source": [
    "df[\"society\"].fillna(0,inplace=True)\n",
    "print(df[\"society\"])"
   ]
  },
  {
   "cell_type": "code",
   "execution_count": 60,
   "id": "33e27070",
   "metadata": {},
   "outputs": [
    {
     "name": "stdout",
     "output_type": "stream",
     "text": [
      "               area_type   availability               location       size  \\\n",
      "0   Super built-up  Area         19-Dec             SRO Layout      2 BHK   \n",
      "1             Plot  Area  Ready To Move       Chikka Tirupathi  4 Bedroom   \n",
      "3   Super built-up  Area  Ready To Move     Lingadheeranahalli      3 BHK   \n",
      "5   Super built-up  Area  Ready To Move             Whitefield      2 BHK   \n",
      "11            Plot  Area  Ready To Move             Whitefield  4 Bedroom   \n",
      "12  Super built-up  Area  Ready To Move     7th Phase JP Nagar      2 BHK   \n",
      "14            Plot  Area  Ready To Move               Sarjapur  3 Bedroom   \n",
      "15  Super built-up  Area  Ready To Move            Mysore Road      2 BHK   \n",
      "16  Super built-up  Area  Ready To Move          Bisuvanahalli      3 BHK   \n",
      "17  Super built-up  Area  Ready To Move  Raja Rajeshwari Nagar      3 BHK   \n",
      "18  Super built-up  Area  Ready To Move  Ramakrishnappa Layout      3 BHK   \n",
      "21  Super built-up  Area         19-Dec             Binny Pete      3 BHK   \n",
      "22            Plot  Area  Ready To Move            Thanisandra  4 Bedroom   \n",
      "26  Super built-up  Area  Ready To Move        Electronic City      2 BHK   \n",
      "28  Super built-up  Area         17-Oct       Ramagondanahalli      2 BHK   \n",
      "29  Super built-up  Area  Ready To Move        Electronic City      3 BHK   \n",
      "31  Super built-up  Area  Ready To Move          Bisuvanahalli      3 BHK   \n",
      "32  Super built-up  Area  Ready To Move                 Hebbal      3 BHK   \n",
      "33  Super built-up  Area  Ready To Move  Raja Rajeshwari Nagar      3 BHK   \n",
      "35  Super built-up  Area         21-Dec         Kanakpura Road      2 BHK   \n",
      "37  Super built-up  Area  Ready To Move           Kundalahalli      3 BHK   \n",
      "41  Super built-up  Area         19-Dec         Sarjapur  Road      3 BHK   \n",
      "44  Super built-up  Area         19-Sep         Kanakpura Road      2 BHK   \n",
      "47  Super built-up  Area         20-Sep             Whitefield      2 BHK   \n",
      "50  Super built-up  Area  Ready To Move           Adarsh Nagar      2 BHK   \n",
      "51  Super built-up  Area         18-Mar            Bhoganhalli      3 BHK   \n",
      "52        Built-up  Area  Ready To Move             Whitefield      3 BHK   \n",
      "53  Super built-up  Area  Ready To Move   Lakshminarayana Pura      2 BHK   \n",
      "54  Super built-up  Area  Ready To Move              Yelahanka      3 BHK   \n",
      "55  Super built-up  Area  Ready To Move             Begur Road      2 BHK   \n",
      "57  Super built-up  Area  Ready To Move  Ramakrishnappa Layout      2 BHK   \n",
      "61  Super built-up  Area  Ready To Move            Ganga Nagar      2 BHK   \n",
      "62            Plot  Area  Ready To Move             Whitefield  4 Bedroom   \n",
      "63        Built-up  Area  Ready To Move                Varthur      2 BHK   \n",
      "66  Super built-up  Area         18-Apr                 Gunjur      2 BHK   \n",
      "71  Super built-up  Area         20-Aug             Begur Road      2 BHK   \n",
      "72  Super built-up  Area  Ready To Move            Hegde Nagar      3 BHK   \n",
      "73  Super built-up  Area         18-Apr           Haralur Road      2 BHK   \n",
      "74  Super built-up  Area  Ready To Move            Hennur Road      3 BHK   \n",
      "77        Built-up  Area  Ready To Move     Cholanayakanahalli      3 BHK   \n",
      "80  Super built-up  Area  Ready To Move   Kodanda Reddy Layout      3 BHK   \n",
      "82  Super built-up  Area         19-Mar              Yelahanka      2 BHK   \n",
      "84  Super built-up  Area  Ready To Move              EPIP Zone      3 BHK   \n",
      "87  Super built-up  Area         17-Sep             Dasanapura      2 BHK   \n",
      "88  Super built-up  Area  Ready To Move           Kasavanhalli      2 BHK   \n",
      "90        Built-up  Area  Ready To Move           Sanjay nagar      2 BHK   \n",
      "94  Super built-up  Area         17-Aug            Thanisandra      2 BHK   \n",
      "96            Plot  Area  Ready To Move                Kengeri  4 Bedroom   \n",
      "\n",
      "    society total_sqft  bath  balcony   price  \n",
      "0    Coomee       1056   2.0      1.0   39.07  \n",
      "1   Theanmp       2600   5.0      3.0  120.00  \n",
      "3   Soiewre       1521   3.0      1.0   95.00  \n",
      "5   DuenaTa       1170   2.0      1.0   38.00  \n",
      "11  Prrry M       2785   5.0      3.0  295.00  \n",
      "12  Shncyes       1000   2.0      1.0   38.00  \n",
      "14  Skityer       2250   3.0      2.0  148.00  \n",
      "15  PrntaEn       1175   2.0      2.0   73.50  \n",
      "16  Prityel       1180   3.0      2.0   48.00  \n",
      "17  GrrvaGr       1540   3.0      3.0   60.00  \n",
      "18  PeBayle       2770   4.0      2.0  290.00  \n",
      "21  She 2rk       1755   3.0      1.0  122.00  \n",
      "22   Soitya       2800   5.0      2.0  380.00  \n",
      "26   Itelaa        660   1.0      1.0   23.10  \n",
      "28  ViistLa       1151   2.0      2.0   48.77  \n",
      "29   KBityo       1025   2.0      1.0   47.00  \n",
      "31  Prityel       1075   2.0      1.0   35.00  \n",
      "32  Mahosya       1760   2.0      2.0  123.00  \n",
      "33  GrrvaGr       1693   3.0      3.0   57.39  \n",
      "35  PrarePa        700   2.0      1.0   36.00  \n",
      "37  Dieldli       1724   3.0      2.0  125.00  \n",
      "41  Soini T       1254   3.0      2.0   38.00  \n",
      "44   Soazak    1330.74   2.0      2.0   91.79  \n",
      "47  Goted U       1459   2.0      1.0   94.82  \n",
      "50  Bhncyis       1270   2.0      1.0   50.00  \n",
      "51  Rosha I       1670   3.0      1.0   99.00  \n",
      "52  Suent V       2010   3.0      2.0   91.00  \n",
      "53  RothaVa       1185   2.0      2.0   75.00  \n",
      "54  NCowsar       1600   2.0      3.0   75.00  \n",
      "55   Dhalsh       1200   2.0      2.0   44.00  \n",
      "57  PeBayle       1500   2.0      2.0  185.00  \n",
      "61  Laavevi        845   2.0      1.0   55.00  \n",
      "62  Chranya       5700   5.0      3.0  650.00  \n",
      "63  HioraTr       1160   2.0      2.0   44.00  \n",
      "66  BMineis       1140   2.0      3.0   43.00  \n",
      "71   Pruthg       1358   2.0      1.0   80.58  \n",
      "72  Sonosty       1569   3.0      1.0  101.00  \n",
      "73  SNnia E       1240   2.0      1.0   70.00  \n",
      "74  Anavi B       2089   3.0      2.0  140.00  \n",
      "77  Viony H       2511   3.0      3.0  205.00  \n",
      "80  AdentEl       1660   2.0      2.0  105.00  \n",
      "82  Niareum       1326   2.0      2.0   78.00  \n",
      "84  SJlynro       1499   5.0      2.0  102.00  \n",
      "87  Tavenew        708   2.0      2.0   37.00  \n",
      "88  Srire S       1060   2.0      2.0   58.06  \n",
      "90   Saenti       1000   2.0      2.0   70.00  \n",
      "94   Bhmesy       1296   2.0      3.0   80.00  \n",
      "96  Goardth       2894   4.0      1.0  245.00  \n"
     ]
    }
   ],
   "source": [
    "df[\"society\"].interpolate(method=\"polynomial\")\n",
    "print(df)"
   ]
  },
  {
   "cell_type": "code",
   "execution_count": 61,
   "id": "e2e4b863",
   "metadata": {},
   "outputs": [
    {
     "name": "stdout",
     "output_type": "stream",
     "text": [
      "       id first_name last_name  composite  math  english  reading\n",
      "0  111111       John       Doe        NaN   NaN      NaN      NaN\n",
      "1  111112       Jane     Smith        NaN   NaN      NaN      NaN\n",
      "2  111113      Sarah    Thomas       14.0   6.0      5.0      3.0\n",
      "3  111114      Frank     Brown        NaN   NaN      NaN      NaN\n",
      "4  111115       Mike     Davis       22.0  12.0      5.0      5.0\n",
      "5  111116   Jennifer    Wilson        NaN   NaN      NaN      NaN\n",
      "6  111117    Jessica    Garcia       25.0  10.0      5.0     10.0\n",
      "7  111118       Fred     Clark       21.0   4.0     10.0      7.0\n",
      "8  111119        Bob     Lopez       15.0   5.0      5.0      5.0\n"
     ]
    }
   ],
   "source": [
    "#Read csv files\n",
    "df = pd.read_csv(\"student_data.csv\")\n",
    "print(df)"
   ]
  },
  {
   "cell_type": "code",
   "execution_count": 62,
   "id": "88893b8f",
   "metadata": {},
   "outputs": [],
   "source": [
    "# to drop Nan values\n",
    "# inplace is used to return the same csv file instead of a new csv file after the operation\n",
    "# any : if one Nan value is present,drop that row or column.\n",
    "# all : if all values are NA, drop that row or column\n",
    "\n",
    "#To drop row\n",
    "# df.dropna(axis=0,inplace=True,how=\"any\")\n",
    "# print(df)\n",
    "\n",
    "#To drop column\n",
    "# df.dropna(axis=1,inplace=True,how=\"any\")\n",
    "# print(df)"
   ]
  },
  {
   "cell_type": "code",
   "execution_count": 63,
   "id": "e72821d5",
   "metadata": {},
   "outputs": [],
   "source": [
    "# Make every Nan values into 0\n",
    "# df.fillna(0,inplace=True)\n",
    "# print(df)\n",
    "\n",
    "#Swap every Nan values in a column with sum of elements of that column\n",
    "# df.fillna(df.sum(),inplace=True)\n",
    "# print(df)\n",
    "\n",
    "#Swap every Nan values in a particular column with mean of elements of that particular column\n",
    "# df['english'].fillna(df['english'].mean(),inplace=True)\n",
    "# print(df)"
   ]
  },
  {
   "cell_type": "code",
   "execution_count": 64,
   "id": "d6137ff3",
   "metadata": {},
   "outputs": [
    {
     "name": "stdout",
     "output_type": "stream",
     "text": [
      "       id first_name last_name  composite  math  english  reading\n",
      "0  111111       John       Doe        NaN   NaN      NaN      NaN\n",
      "1  111112       Jane     Smith        NaN   NaN      NaN      NaN\n",
      "2  111113      Sarah    Thomas       14.0   6.0      5.0      3.0\n",
      "3  111114      Frank     Brown        NaN   NaN      NaN      NaN\n",
      "4  111115       Mike     Davis       22.0  12.0      5.0      5.0\n",
      "5  111116   Jennifer    Wilson        NaN   NaN      NaN      NaN\n",
      "6  111117    Jessica    Garcia       25.0  10.0      5.0     10.0\n",
      "7  111118       Fred     Clark       21.0   4.0     10.0      7.0\n",
      "8  111119        Bob     Lopez       15.0   5.0      5.0      5.0 \n",
      "\n",
      "       id first_name last_name  composite  math  english    reading\n",
      "0  111111       John       Doe        NaN   NaN      NaN        NaN\n",
      "1  111112       Jane     Smith        NaN   NaN      NaN        NaN\n",
      "2  111113      Sarah    Thomas       14.0   6.0      5.0   3.000000\n",
      "3  111114      Frank     Brown        NaN   NaN      NaN   3.180952\n",
      "4  111115       Mike     Davis       22.0  12.0      5.0   5.000000\n",
      "5  111116   Jennifer    Wilson        NaN   NaN      NaN   8.457143\n",
      "6  111117    Jessica    Garcia       25.0  10.0      5.0  10.000000\n",
      "7  111118       Fred     Clark       21.0   4.0     10.0   7.000000\n",
      "8  111119        Bob     Lopez       15.0   5.0      5.0   5.000000\n"
     ]
    }
   ],
   "source": [
    "print(df,\"\\n\")\n",
    "df[\"reading\"] = df[\"reading\"].interpolate(method=\"polynomial\", order=2)\n",
    "print(df)"
   ]
  },
  {
   "cell_type": "code",
   "execution_count": 65,
   "id": "a713b0fb",
   "metadata": {},
   "outputs": [
    {
     "data": {
      "text/plain": [
       "Index(['id', 'first_name', 'last_name', 'composite', 'math', 'english',\n",
       "       'reading'],\n",
       "      dtype='object')"
      ]
     },
     "execution_count": 65,
     "metadata": {},
     "output_type": "execute_result"
    }
   ],
   "source": [
    "df.columns"
   ]
  },
  {
   "cell_type": "code",
   "execution_count": 66,
   "id": "36191a8e",
   "metadata": {},
   "outputs": [
    {
     "name": "stdout",
     "output_type": "stream",
     "text": [
      "       ID first_name last_name  composite  math  english    reading\n",
      "0  111111       John       Doe        NaN   NaN      NaN        NaN\n",
      "1  111112       Jane     Smith        NaN   NaN      NaN        NaN\n",
      "2  111113      Sarah    Thomas       14.0   6.0      5.0   3.000000\n",
      "3  111114      Frank     Brown        NaN   NaN      NaN   3.180952\n",
      "4  111115       Mike     Davis       22.0  12.0      5.0   5.000000\n",
      "5  111116   Jennifer    Wilson        NaN   NaN      NaN   8.457143\n",
      "6  111117    Jessica    Garcia       25.0  10.0      5.0  10.000000\n",
      "7  111118       Fred     Clark       21.0   4.0     10.0   7.000000\n",
      "8  111119        Bob     Lopez       15.0   5.0      5.0   5.000000\n"
     ]
    }
   ],
   "source": [
    "df2=df.rename(columns={\"id\":\"ID\"})\n",
    "print(df2)"
   ]
  },
  {
   "cell_type": "code",
   "execution_count": 67,
   "id": "60767ea5",
   "metadata": {},
   "outputs": [
    {
     "data": {
      "text/plain": [
       "0    False\n",
       "1    False\n",
       "2    False\n",
       "3    False\n",
       "4    False\n",
       "5    False\n",
       "6    False\n",
       "7    False\n",
       "8    False\n",
       "dtype: bool"
      ]
     },
     "execution_count": 67,
     "metadata": {},
     "output_type": "execute_result"
    }
   ],
   "source": [
    "df.isnull().all(axis=1)"
   ]
  },
  {
   "cell_type": "code",
   "execution_count": 68,
   "id": "7f1d96e8",
   "metadata": {},
   "outputs": [
    {
     "data": {
      "text/html": [
       "<div>\n",
       "<style scoped>\n",
       "    .dataframe tbody tr th:only-of-type {\n",
       "        vertical-align: middle;\n",
       "    }\n",
       "\n",
       "    .dataframe tbody tr th {\n",
       "        vertical-align: top;\n",
       "    }\n",
       "\n",
       "    .dataframe thead th {\n",
       "        text-align: right;\n",
       "    }\n",
       "</style>\n",
       "<table border=\"1\" class=\"dataframe\">\n",
       "  <thead>\n",
       "    <tr style=\"text-align: right;\">\n",
       "      <th></th>\n",
       "      <th>id</th>\n",
       "      <th>first_name</th>\n",
       "      <th>last_name</th>\n",
       "      <th>composite</th>\n",
       "      <th>math</th>\n",
       "      <th>english</th>\n",
       "      <th>reading</th>\n",
       "    </tr>\n",
       "  </thead>\n",
       "  <tbody>\n",
       "    <tr>\n",
       "      <th>0</th>\n",
       "      <td>True</td>\n",
       "      <td>True</td>\n",
       "      <td>True</td>\n",
       "      <td>False</td>\n",
       "      <td>False</td>\n",
       "      <td>False</td>\n",
       "      <td>False</td>\n",
       "    </tr>\n",
       "    <tr>\n",
       "      <th>1</th>\n",
       "      <td>True</td>\n",
       "      <td>True</td>\n",
       "      <td>True</td>\n",
       "      <td>False</td>\n",
       "      <td>False</td>\n",
       "      <td>False</td>\n",
       "      <td>False</td>\n",
       "    </tr>\n",
       "    <tr>\n",
       "      <th>2</th>\n",
       "      <td>True</td>\n",
       "      <td>True</td>\n",
       "      <td>True</td>\n",
       "      <td>True</td>\n",
       "      <td>True</td>\n",
       "      <td>True</td>\n",
       "      <td>True</td>\n",
       "    </tr>\n",
       "    <tr>\n",
       "      <th>3</th>\n",
       "      <td>True</td>\n",
       "      <td>True</td>\n",
       "      <td>True</td>\n",
       "      <td>False</td>\n",
       "      <td>False</td>\n",
       "      <td>False</td>\n",
       "      <td>True</td>\n",
       "    </tr>\n",
       "    <tr>\n",
       "      <th>4</th>\n",
       "      <td>True</td>\n",
       "      <td>True</td>\n",
       "      <td>True</td>\n",
       "      <td>True</td>\n",
       "      <td>True</td>\n",
       "      <td>True</td>\n",
       "      <td>True</td>\n",
       "    </tr>\n",
       "    <tr>\n",
       "      <th>5</th>\n",
       "      <td>True</td>\n",
       "      <td>True</td>\n",
       "      <td>True</td>\n",
       "      <td>False</td>\n",
       "      <td>False</td>\n",
       "      <td>False</td>\n",
       "      <td>True</td>\n",
       "    </tr>\n",
       "    <tr>\n",
       "      <th>6</th>\n",
       "      <td>True</td>\n",
       "      <td>True</td>\n",
       "      <td>True</td>\n",
       "      <td>True</td>\n",
       "      <td>True</td>\n",
       "      <td>True</td>\n",
       "      <td>True</td>\n",
       "    </tr>\n",
       "    <tr>\n",
       "      <th>7</th>\n",
       "      <td>True</td>\n",
       "      <td>True</td>\n",
       "      <td>True</td>\n",
       "      <td>True</td>\n",
       "      <td>True</td>\n",
       "      <td>True</td>\n",
       "      <td>True</td>\n",
       "    </tr>\n",
       "    <tr>\n",
       "      <th>8</th>\n",
       "      <td>True</td>\n",
       "      <td>True</td>\n",
       "      <td>True</td>\n",
       "      <td>True</td>\n",
       "      <td>True</td>\n",
       "      <td>True</td>\n",
       "      <td>True</td>\n",
       "    </tr>\n",
       "  </tbody>\n",
       "</table>\n",
       "</div>"
      ],
      "text/plain": [
       "     id  first_name  last_name  composite   math  english  reading\n",
       "0  True        True       True      False  False    False    False\n",
       "1  True        True       True      False  False    False    False\n",
       "2  True        True       True       True   True     True     True\n",
       "3  True        True       True      False  False    False     True\n",
       "4  True        True       True       True   True     True     True\n",
       "5  True        True       True      False  False    False     True\n",
       "6  True        True       True       True   True     True     True\n",
       "7  True        True       True       True   True     True     True\n",
       "8  True        True       True       True   True     True     True"
      ]
     },
     "execution_count": 68,
     "metadata": {},
     "output_type": "execute_result"
    }
   ],
   "source": [
    "df.notnull()"
   ]
  },
  {
   "cell_type": "code",
   "execution_count": 69,
   "id": "96784bfa",
   "metadata": {},
   "outputs": [
    {
     "name": "stdout",
     "output_type": "stream",
     "text": [
      "0    111111\n",
      "1    111112\n",
      "2    111113\n",
      "3    111114\n",
      "4    111115\n",
      "5    111116\n",
      "6    111117\n",
      "7    111118\n",
      "8    111119\n",
      "Name: id, dtype: int64\n",
      "id\n",
      "0        John\n",
      "1        Jane\n",
      "2       Sarah\n",
      "3       Frank\n",
      "4        Mike\n",
      "5    Jennifer\n",
      "6     Jessica\n",
      "7        Fred\n",
      "8         Bob\n",
      "Name: first_name, dtype: object\n",
      "first_name\n",
      "0       Doe\n",
      "1     Smith\n",
      "2    Thomas\n",
      "3     Brown\n",
      "4     Davis\n",
      "5    Wilson\n",
      "6    Garcia\n",
      "7     Clark\n",
      "8     Lopez\n",
      "Name: last_name, dtype: object\n",
      "last_name\n",
      "0     NaN\n",
      "1     NaN\n",
      "2    14.0\n",
      "3     NaN\n",
      "4    22.0\n",
      "5     NaN\n",
      "6    25.0\n",
      "7    21.0\n",
      "8    15.0\n",
      "Name: composite, dtype: float64\n",
      "composite\n",
      "0     NaN\n",
      "1     NaN\n",
      "2     6.0\n",
      "3     NaN\n",
      "4    12.0\n",
      "5     NaN\n",
      "6    10.0\n",
      "7     4.0\n",
      "8     5.0\n",
      "Name: math, dtype: float64\n",
      "math\n",
      "0     NaN\n",
      "1     NaN\n",
      "2     5.0\n",
      "3     NaN\n",
      "4     5.0\n",
      "5     NaN\n",
      "6     5.0\n",
      "7    10.0\n",
      "8     5.0\n",
      "Name: english, dtype: float64\n",
      "english\n",
      "0          NaN\n",
      "1          NaN\n",
      "2     3.000000\n",
      "3     3.180952\n",
      "4     5.000000\n",
      "5     8.457143\n",
      "6    10.000000\n",
      "7     7.000000\n",
      "8     5.000000\n",
      "Name: reading, dtype: float64\n",
      "reading\n"
     ]
    }
   ],
   "source": [
    "for index,col in df.iteritems():\n",
    "    print(col)\n",
    "    print(index)"
   ]
  },
  {
   "cell_type": "code",
   "execution_count": 70,
   "id": "a314d173",
   "metadata": {},
   "outputs": [
    {
     "name": "stdout",
     "output_type": "stream",
     "text": [
      "0    111111\n",
      "1    111112\n",
      "2    111113\n",
      "3    111114\n",
      "4    111115\n",
      "5    111116\n",
      "6    111117\n",
      "7    111118\n",
      "8    111119\n",
      "Name: id, dtype: int64\n"
     ]
    }
   ],
   "source": [
    "df_new = df[\"id\"]\n",
    "print(df_new)\n",
    "\n",
    "# df.to_csv(\"output.csv\")"
   ]
  },
  {
   "cell_type": "code",
   "execution_count": 71,
   "id": "5132acb0",
   "metadata": {},
   "outputs": [
    {
     "name": "stdout",
     "output_type": "stream",
     "text": [
      "   col1  col2\n",
      "0     7     7\n",
      "1     9     9\n",
      "2    11    11\n",
      "3    13    13\n",
      "4    15    15 \n",
      "\n",
      "0     2\n",
      "1     4\n",
      "2     6\n",
      "3     8\n",
      "4    10\n",
      "dtype: int64\n",
      "\n",
      "    col1  col2\n",
      "0     3     8\n",
      "1     4     9\n",
      "2     5    10\n",
      "3     6    11\n",
      "4     7    12\n"
     ]
    }
   ],
   "source": [
    "# pipe is used to perform a user defined function on a table\n",
    "\n",
    "def add(x,y):\n",
    "    return x+y\n",
    "\n",
    "df1 = pd.DataFrame({\"col1\":[1,2,3,4,5],\"col2\":[6,7,8,9,10]})\n",
    "df2 = pd.DataFrame({\"col1\":[6,7,8,9,10],\"col2\":[1,2,3,4,5]})\n",
    "\n",
    "print(df1.pipe(add,df2),\"\\n\")#add two Dataframe\n",
    "print(df1[\"col1\"].pipe(add,df2[\"col2\"]))#add only column of two Dataframe\n",
    "print(\"\\n\",df1.pipe(add,2))#add 2 with elemnts of df1"
   ]
  },
  {
   "cell_type": "code",
   "execution_count": 72,
   "id": "d6538023",
   "metadata": {},
   "outputs": [
    {
     "name": "stdout",
     "output_type": "stream",
     "text": [
      "col1    3.0\n",
      "col2    8.0\n",
      "dtype: float64\n"
     ]
    }
   ],
   "source": [
    "# apply is used to perform a user defined function on the rows or columns of a table\n",
    "\n",
    "df1 = pd.DataFrame({\"col1\":[1,2,3,4,5],\"col2\":[6,7,8,9,10]})\n",
    "print(df1.apply(np.mean,axis=0))"
   ]
  },
  {
   "cell_type": "code",
   "execution_count": 73,
   "id": "cb988fbe",
   "metadata": {},
   "outputs": [
    {
     "name": "stdout",
     "output_type": "stream",
     "text": [
      "   col1  col2\n",
      "0    36     1\n",
      "1    49     4\n",
      "2    64     9\n",
      "3    81    16\n",
      "4   100    25\n"
     ]
    }
   ],
   "source": [
    "# applymap is used to perform a user defined function on  a particular element of the table\n",
    "\n",
    "df2 = pd.DataFrame({\"col1\":[6,7,8,9,10],\"col2\":[1,2,3,4,5]})\n",
    "\n",
    "print(df2.applymap(lambda x:x*x))"
   ]
  },
  {
   "cell_type": "code",
   "execution_count": 74,
   "id": "15ba676a",
   "metadata": {
    "scrolled": true
   },
   "outputs": [
    {
     "name": "stdout",
     "output_type": "stream",
     "text": [
      "                  Open        High         Low       Close   Adj Close  \\\n",
      "Date                                                                     \n",
      "2021-02-12  723.900024  735.700012  714.150024  732.549988  732.549988   \n",
      "2021-03-12  730.000000  734.650024  716.299988  718.349976  718.349976   \n",
      "2021-06-12  718.000000  721.900024  693.849976  697.599976  697.599976   \n",
      "2021-07-12  702.349976  705.700012  694.099976  698.849976  698.849976   \n",
      "2021-08-12  705.000000  719.000000  702.299988  715.150024  715.150024   \n",
      "\n",
      "              Volume  Year  Month  Day  \n",
      "Date                                    \n",
      "2021-02-12  11507427  2021      2   12  \n",
      "2021-03-12  11024093  2021      3   12  \n",
      "2021-06-12   8804487  2021      6   12  \n",
      "2021-07-12  10238693  2021      7   12  \n",
      "2021-08-12   8296393  2021      8   12  \n"
     ]
    }
   ],
   "source": [
    "date = pd.to_datetime(\"2-3-2022\")\n",
    "# print(type(date))\n",
    "\n",
    "df = pd.read_csv(\"stock_market.csv\")\n",
    "# print(df)\n",
    "\n",
    "df[\"Date\"] = pd.to_datetime(df[\"Date\"])\n",
    "\n",
    "df = df.set_index(\"Date\")\n",
    "df[\"Year\"] = df.index.year\n",
    "df[\"Month\"] = df.index.month\n",
    "df[\"Day\"] = df.index.day\n",
    "# print(df)\n",
    "\n",
    "# print(df.loc[\"2021-02-12\"])\n",
    "print(df.loc[\"2021-02-12\":\"2021-08-12\"])"
   ]
  },
  {
   "cell_type": "code",
   "execution_count": 75,
   "id": "60dfa70f",
   "metadata": {
    "scrolled": false
   },
   "outputs": [
    {
     "data": {
      "text/plain": [
       "<AxesSubplot:xlabel='Date'>"
      ]
     },
     "execution_count": 75,
     "metadata": {},
     "output_type": "execute_result"
    },
    {
     "data": {
      "image/png": "[encoded data removed]",
      "text/plain": [
       "<Figure size 432x288 with 1 Axes>"
      ]
     },
     "metadata": {
      "needs_background": "light"
     },
     "output_type": "display_data"
    }
   ],
   "source": [
    "df[\"Open\"].plot()"
   ]
  },
  {
   "cell_type": "code",
   "execution_count": 76,
   "id": "e6a9494a",
   "metadata": {},
   "outputs": [
    {
     "data": {
      "text/plain": [
       "<AxesSubplot:xlabel='Date'>"
      ]
     },
     "execution_count": 76,
     "metadata": {},
     "output_type": "execute_result"
    },
    {
     "data": {
      "image/png": "[encoded data removed]",
      "text/plain": [
       "<Figure size 432x288 with 1 Axes>"
      ]
     },
     "metadata": {
      "needs_background": "light"
     },
     "output_type": "display_data"
    }
   ],
   "source": [
    "df[\"High\"].plot()"
   ]
  },
  {
   "cell_type": "code",
   "execution_count": 77,
   "id": "695e3ae7",
   "metadata": {},
   "outputs": [
    {
     "data": {
      "text/plain": [
       "<AxesSubplot:xlabel='Date'>"
      ]
     },
     "execution_count": 77,
     "metadata": {},
     "output_type": "execute_result"
    },
    {
     "data": {
      "image/png": "[encoded data removed]",
      "text/plain": [
       "<Figure size 432x288 with 1 Axes>"
      ]
     },
     "metadata": {
      "needs_background": "light"
     },
     "output_type": "display_data"
    }
   ],
   "source": [
    "df[\"Low\"].plot()"
   ]
  },
  {
   "cell_type": "code",
   "execution_count": 78,
   "id": "e2a3637c",
   "metadata": {},
   "outputs": [
    {
     "data": {
      "text/plain": [
       "<AxesSubplot:xlabel='Date'>"
      ]
     },
     "execution_count": 78,
     "metadata": {},
     "output_type": "execute_result"
    },
    {
     "data": {
      "image/png": "[encoded data removed]",
      "text/plain": [
       "<Figure size 432x288 with 1 Axes>"
      ]
     },
     "metadata": {
      "needs_background": "light"
     },
     "output_type": "display_data"
    }
   ],
   "source": [
    "df[\"Close\"].plot()"
   ]
  },
  {
   "cell_type": "code",
   "execution_count": 79,
   "id": "b7f18650",
   "metadata": {},
   "outputs": [
    {
     "data": {
      "text/plain": [
       "<AxesSubplot:xlabel='Date'>"
      ]
     },
     "execution_count": 79,
     "metadata": {},
     "output_type": "execute_result"
    },
    {
     "data": {
      "image/png": "[encoded data removed]",
      "text/plain": [
       "<Figure size 432x288 with 1 Axes>"
      ]
     },
     "metadata": {
      "needs_background": "light"
     },
     "output_type": "display_data"
    }
   ],
   "source": [
    "df[\"Volume\"].plot()"
   ]
  },
  {
   "cell_type": "code",
   "execution_count": 80,
   "id": "00677336",
   "metadata": {},
   "outputs": [
    {
     "data": {
      "text/plain": [
       "<AxesSubplot:xlabel='Hello', ylabel='Volume'>"
      ]
     },
     "execution_count": 80,
     "metadata": {},
     "output_type": "execute_result"
    },
    {
     "data": {
      "image/png": "[encoded data removed]",
      "text/plain": [
       "<Figure size 432x288 with 1 Axes>"
      ]
     },
     "metadata": {
      "needs_background": "light"
     },
     "output_type": "display_data"
    }
   ],
   "source": [
    "df.plot(x=\"Open\",y=\"Volume\",kind=\"scatter\",xticks=[660,665,670,675,680,685,690,695,700,705,710,715,720,725,730],xlabel=\"Hello\")"
   ]
  },
  {
   "cell_type": "code",
   "execution_count": 81,
   "id": "d684ab79",
   "metadata": {},
   "outputs": [
    {
     "data": {
      "text/plain": [
       "<AxesSubplot:xlabel='New_date'>"
      ]
     },
     "execution_count": 81,
     "metadata": {},
     "output_type": "execute_result"
    },
    {
     "data": {
      "image/png": "[encoded data removed]",
      "text/plain": [
       "<Figure size 432x288 with 1 Axes>"
      ]
     },
     "metadata": {
      "needs_background": "light"
     },
     "output_type": "display_data"
    }
   ],
   "source": [
    "df[\"New_date\"]=pd.date_range(start=\"2022-01-01\",end=\"2022-03-03\")\n",
    "df.plot(x=\"New_date\",y=\"Volume\",xlabel=\"New_date\")"
   ]
  }
 ],
 "metadata": {
  "kernelspec": {
   "display_name": "Python 3 (ipykernel)",
   "language": "python",
   "name": "python3"
  },
  "language_info": {
   "codemirror_mode": {
    "name": "ipython",
    "version": 3
   },
   "file_extension": ".py",
   "mimetype": "text/x-python",
   "name": "python",
   "nbconvert_exporter": "python",
   "pygments_lexer": "ipython3",
   "version": "3.9.7"
  }
 },
 "nbformat": 4,
 "nbformat_minor": 5
}
