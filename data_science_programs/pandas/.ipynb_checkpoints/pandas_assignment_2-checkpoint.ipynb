{
 "cells": [
  {
   "cell_type": "code",
   "execution_count": 110,
   "id": "9853a150",
   "metadata": {},
   "outputs": [],
   "source": [
    "import pandas as pd"
   ]
  },
  {
   "cell_type": "code",
   "execution_count": 111,
   "id": "faa67be7",
   "metadata": {},
   "outputs": [
    {
     "name": "stdout",
     "output_type": "stream",
     "text": [
      "            Id           EmployeeName  \\\n",
      "0            1         NATHANIEL FORD   \n",
      "1            2           GARY JIMENEZ   \n",
      "2            3         ALBERT PARDINI   \n",
      "3            4      CHRISTOPHER CHONG   \n",
      "4            5        PATRICK GARDNER   \n",
      "...        ...                    ...   \n",
      "148641  148642  Raphael Marquis Goins   \n",
      "148642  148643      Dominic C Marquez   \n",
      "148643  148644             Kim Brewer   \n",
      "148644  148645           Randy D Winn   \n",
      "148645  148646       Carolyn A Wilson   \n",
      "\n",
      "                                              JobTitle    BasePay  \\\n",
      "0       GENERAL MANAGER-METROPOLITAN TRANSIT AUTHORITY  167411.18   \n",
      "1                      CAPTAIN III (POLICE DEPARTMENT)  155966.02   \n",
      "2                      CAPTAIN III (POLICE DEPARTMENT)  212739.13   \n",
      "3                 WIRE ROPE CABLE MAINTENANCE MECHANIC   77916.00   \n",
      "4         DEPUTY CHIEF OF DEPARTMENT,(FIRE DEPARTMENT)  134401.60   \n",
      "...                                                ...        ...   \n",
      "148641                                    Museum Guard       0.00   \n",
      "148642                                     Sign Worker       0.00   \n",
      "148643                         Parking Control Officer       0.00   \n",
      "148644                    Stationary Eng, Sewage Plant       0.00   \n",
      "148645                       Human Services Technician       0.00   \n",
      "\n",
      "        OvertimePay   OtherPay  Benefits   TotalPay  TotalPayBenefits  Year  \\\n",
      "0              0.00  400184.25       NaN  567595.43         567595.43  2011   \n",
      "1         245131.88  137811.38       NaN  538909.28         538909.28  2011   \n",
      "2         106088.18   16452.60       NaN  335279.91         335279.91  2011   \n",
      "3          56120.71  198306.90       NaN  332343.61         332343.61  2011   \n",
      "4           9737.00  182234.59       NaN  326373.19         326373.19  2011   \n",
      "...             ...        ...       ...        ...               ...   ...   \n",
      "148641         0.00       0.00       0.0       0.00              0.00  2014   \n",
      "148642         0.00       0.00       0.0       0.00              0.00  2014   \n",
      "148643         0.00       0.00       0.0       0.00              0.00  2014   \n",
      "148644         0.00       0.00       0.0       0.00              0.00  2014   \n",
      "148645         0.00       0.00       0.0       0.00              0.00  2014   \n",
      "\n",
      "        Notes         Agency Status  \n",
      "0         NaN  San Francisco    NaN  \n",
      "1         NaN  San Francisco    NaN  \n",
      "2         NaN  San Francisco    NaN  \n",
      "3         NaN  San Francisco    NaN  \n",
      "4         NaN  San Francisco    NaN  \n",
      "...       ...            ...    ...  \n",
      "148641    NaN  San Francisco     PT  \n",
      "148642    NaN  San Francisco     PT  \n",
      "148643    NaN  San Francisco     PT  \n",
      "148644    NaN  San Francisco     PT  \n",
      "148645    NaN  San Francisco     PT  \n",
      "\n",
      "[148646 rows x 13 columns]\n"
     ]
    },
    {
     "name": "stderr",
     "output_type": "stream",
     "text": [
      "C:\\anaconda\\lib\\site-packages\\IPython\\core\\interactiveshell.py:3444: DtypeWarning: Columns (12) have mixed types.Specify dtype option on import or set low_memory=False.\n",
      "  exec(code_obj, self.user_global_ns, self.user_ns)\n"
     ]
    }
   ],
   "source": [
    "# 1)Read Salaries.csv as a dataframe called sal\n",
    "missing_values = [\"Not provided\"]\n",
    "sal = pd.read_csv(\"employee_salaries.csv\",na_values = missing_values)\n",
    "print(sal)"
   ]
  },
  {
   "cell_type": "code",
   "execution_count": 112,
   "id": "4cfca1e4",
   "metadata": {},
   "outputs": [
    {
     "name": "stdout",
     "output_type": "stream",
     "text": [
      "   Id       EmployeeName                                        JobTitle  \\\n",
      "0   1     NATHANIEL FORD  GENERAL MANAGER-METROPOLITAN TRANSIT AUTHORITY   \n",
      "1   2       GARY JIMENEZ                 CAPTAIN III (POLICE DEPARTMENT)   \n",
      "2   3     ALBERT PARDINI                 CAPTAIN III (POLICE DEPARTMENT)   \n",
      "3   4  CHRISTOPHER CHONG            WIRE ROPE CABLE MAINTENANCE MECHANIC   \n",
      "4   5    PATRICK GARDNER    DEPUTY CHIEF OF DEPARTMENT,(FIRE DEPARTMENT)   \n",
      "\n",
      "     BasePay  OvertimePay   OtherPay  Benefits   TotalPay  TotalPayBenefits  \\\n",
      "0  167411.18         0.00  400184.25       NaN  567595.43         567595.43   \n",
      "1  155966.02    245131.88  137811.38       NaN  538909.28         538909.28   \n",
      "2  212739.13    106088.18   16452.60       NaN  335279.91         335279.91   \n",
      "3   77916.00     56120.71  198306.90       NaN  332343.61         332343.61   \n",
      "4  134401.60      9737.00  182234.59       NaN  326373.19         326373.19   \n",
      "\n",
      "   Year  Notes         Agency Status  \n",
      "0  2011    NaN  San Francisco    NaN  \n",
      "1  2011    NaN  San Francisco    NaN  \n",
      "2  2011    NaN  San Francisco    NaN  \n",
      "3  2011    NaN  San Francisco    NaN  \n",
      "4  2011    NaN  San Francisco    NaN  \n"
     ]
    }
   ],
   "source": [
    "# 2)Check the head of the DataFrame\n",
    "\n",
    "print(sal.head())"
   ]
  },
  {
   "cell_type": "code",
   "execution_count": 113,
   "id": "9befc951",
   "metadata": {},
   "outputs": [
    {
     "name": "stdout",
     "output_type": "stream",
     "text": [
      "<class 'pandas.core.frame.DataFrame'>\n",
      "RangeIndex: 148646 entries, 0 to 148645\n",
      "Data columns (total 13 columns):\n",
      " #   Column            Non-Null Count   Dtype  \n",
      "---  ------            --------------   -----  \n",
      " 0   Id                148646 non-null  int64  \n",
      " 1   EmployeeName      148646 non-null  object \n",
      " 2   JobTitle          148646 non-null  object \n",
      " 3   BasePay           148041 non-null  float64\n",
      " 4   OvertimePay       148646 non-null  float64\n",
      " 5   OtherPay          148646 non-null  float64\n",
      " 6   Benefits          112487 non-null  float64\n",
      " 7   TotalPay          148646 non-null  float64\n",
      " 8   TotalPayBenefits  148646 non-null  float64\n",
      " 9   Year              148646 non-null  int64  \n",
      " 10  Notes             0 non-null       float64\n",
      " 11  Agency            148646 non-null  object \n",
      " 12  Status            38115 non-null   object \n",
      "dtypes: float64(7), int64(2), object(4)\n",
      "memory usage: 14.7+ MB\n",
      "None\n"
     ]
    }
   ],
   "source": [
    "# 3)Use the .info() method to find out how many entries there are.\n",
    "\n",
    "print(sal.info())"
   ]
  },
  {
   "cell_type": "code",
   "execution_count": 114,
   "id": "ff552b59",
   "metadata": {},
   "outputs": [
    {
     "name": "stdout",
     "output_type": "stream",
     "text": [
      "66327.24092374934\n"
     ]
    }
   ],
   "source": [
    "# 4)What is the average BasePay ?\n",
    "\n",
    "print(sal[\"BasePay\"].mean(skipna=True))"
   ]
  },
  {
   "cell_type": "code",
   "execution_count": 115,
   "id": "c29f6b82",
   "metadata": {},
   "outputs": [
    {
     "name": "stdout",
     "output_type": "stream",
     "text": [
      "245131.88\n"
     ]
    }
   ],
   "source": [
    "# 5)What is the highest amount of OvertimePay in the dataset ?\n",
    "\n",
    "print(sal[\"OvertimePay\"].max())"
   ]
  },
  {
   "cell_type": "code",
   "execution_count": 116,
   "id": "6b24a897",
   "metadata": {},
   "outputs": [
    {
     "name": "stdout",
     "output_type": "stream",
     "text": [
      "24    CAPTAIN, FIRE SUPPRESSION\n",
      "Name: JobTitle, dtype: object\n"
     ]
    }
   ],
   "source": [
    "# 6)What is the job title of JOSEPH DRISCOLL ? \n",
    "\n",
    "print(sal[sal[\"EmployeeName\"]==\"JOSEPH DRISCOLL\"][\"JobTitle\"])"
   ]
  },
  {
   "cell_type": "code",
   "execution_count": 117,
   "id": "8ba40259",
   "metadata": {},
   "outputs": [
    {
     "name": "stdout",
     "output_type": "stream",
     "text": [
      "24    270324.91\n",
      "Name: TotalPayBenefits, dtype: float64\n"
     ]
    }
   ],
   "source": [
    "# 7)How much does JOSEPH DRISCOLL make\n",
    "\n",
    "print(sal[sal[\"EmployeeName\"]==\"JOSEPH DRISCOLL\"][\"TotalPayBenefits\"])"
   ]
  },
  {
   "cell_type": "code",
   "execution_count": 118,
   "id": "22bb508d",
   "metadata": {},
   "outputs": [
    {
     "name": "stdout",
     "output_type": "stream",
     "text": [
      "0    NATHANIEL FORD\n",
      "Name: EmployeeName, dtype: object\n"
     ]
    }
   ],
   "source": [
    "# 8)What is the name of highest paid person \n",
    "\n",
    "max_salary = sal[\"TotalPayBenefits\"].max()\n",
    "print(sal[sal[\"TotalPayBenefits\"]==max_salary][\"EmployeeName\"])"
   ]
  },
  {
   "cell_type": "code",
   "execution_count": 119,
   "id": "a0375754",
   "metadata": {},
   "outputs": [
    {
     "name": "stdout",
     "output_type": "stream",
     "text": [
      "110530    David P Kucia\n",
      "Name: EmployeeName, dtype: object\n"
     ]
    }
   ],
   "source": [
    "# 9)What is the name of lowest paid person \n",
    "\n",
    "min_salary = sal[\"TotalPayBenefits\"].min()\n",
    "print(sal[sal[\"TotalPayBenefits\"]==min_salary][\"EmployeeName\"])"
   ]
  },
  {
   "cell_type": "code",
   "execution_count": 120,
   "id": "89bcbd4f",
   "metadata": {},
   "outputs": [
    {
     "name": "stdout",
     "output_type": "stream",
     "text": [
      "Year\n",
      "2011    63595.956517\n",
      "2012    65436.406857\n",
      "2013    69630.030216\n",
      "2014    66571.407565\n",
      "Name: BasePay, dtype: float64\n"
     ]
    }
   ],
   "source": [
    "# 10) What was the average (mean) BasePay of all employees per year? (2011-2014)\n",
    "\n",
    "print(sal.groupby([\"Year\"])[\"BasePay\"].mean())"
   ]
  },
  {
   "cell_type": "code",
   "execution_count": 121,
   "id": "2d620a96",
   "metadata": {},
   "outputs": [
    {
     "name": "stdout",
     "output_type": "stream",
     "text": [
      "2158\n"
     ]
    }
   ],
   "source": [
    "# 11)How many unique job titles are there?\n",
    "\n",
    "print(sal[\"JobTitle\"].nunique())"
   ]
  },
  {
   "cell_type": "code",
   "execution_count": 122,
   "id": "f885c0e9",
   "metadata": {},
   "outputs": [
    {
     "name": "stdout",
     "output_type": "stream",
     "text": [
      "Transit Operator                7036\n",
      "Special Nurse                   4389\n",
      "Registered Nurse                3736\n",
      "Public Svc Aide-Public Works    2518\n",
      "Police Officer 3                2421\n",
      "Name: JobTitle, dtype: int64\n"
     ]
    }
   ],
   "source": [
    "# 12)What are the top 5 most common jobs?   \n",
    "\n",
    "print(sal[\"JobTitle\"].value_counts().head())"
   ]
  },
  {
   "cell_type": "code",
   "execution_count": 123,
   "id": "6a799f34",
   "metadata": {},
   "outputs": [
    {
     "name": "stdout",
     "output_type": "stream",
     "text": [
      "202\n"
     ]
    }
   ],
   "source": [
    "# 13)How many Job Titles were represented by only one person in 2013?\n",
    "\n",
    "print((sal[sal[\"Year\"]==2013][\"JobTitle\"].value_counts()==1).sum())"
   ]
  },
  {
   "cell_type": "code",
   "execution_count": 124,
   "id": "d95551e6",
   "metadata": {},
   "outputs": [
    {
     "name": "stdout",
     "output_type": "stream",
     "text": [
      "627\n"
     ]
    }
   ],
   "source": [
    "# 14)How many people have the word Chief in their job title? \n",
    "\n",
    "def chief_string(title):\n",
    "    if \"chief\" in title.lower():\n",
    "        return True\n",
    "print((sal[\"JobTitle\"].apply(lambda x:chief_string(x))).sum())"
   ]
  },
  {
   "cell_type": "code",
   "execution_count": 128,
   "id": "081fa863",
   "metadata": {},
   "outputs": [
    {
     "name": "stdout",
     "output_type": "stream",
     "text": [
      "   JobTitle\n",
      "0        46\n",
      "1        31\n",
      "2        31\n",
      "3        36\n",
      "4        44\n",
      "5        25\n",
      "6        34\n",
      "7        30\n",
      "8        34\n",
      "9        38\n",
      "   TotalPayBenefits\n",
      "0         567595.43\n",
      "1         538909.28\n",
      "2         335279.91\n",
      "3         332343.61\n",
      "4         326373.19\n",
      "5         316285.74\n",
      "6         315981.05\n",
      "7         307899.46\n",
      "8         303427.55\n",
      "9         302377.73\n"
     ]
    },
    {
     "ename": "AttributeError",
     "evalue": "'list' object has no attribute 'corr'",
     "output_type": "error",
     "traceback": [
      "\u001b[1;31m---------------------------------------------------------------------------\u001b[0m",
      "\u001b[1;31mAttributeError\u001b[0m                            Traceback (most recent call last)",
      "\u001b[1;32m~\\AppData\\Local\\Temp/ipykernel_2688/1376486417.py\u001b[0m in \u001b[0;36m<module>\u001b[1;34m\u001b[0m\n\u001b[0;32m      6\u001b[0m \u001b[0mdf2\u001b[0m \u001b[1;33m=\u001b[0m \u001b[0mpd\u001b[0m\u001b[1;33m.\u001b[0m\u001b[0mDataFrame\u001b[0m\u001b[1;33m(\u001b[0m\u001b[0msal\u001b[0m\u001b[1;33m[\u001b[0m\u001b[1;34m\"TotalPayBenefits\"\u001b[0m\u001b[1;33m]\u001b[0m\u001b[1;33m.\u001b[0m\u001b[0mhead\u001b[0m\u001b[1;33m(\u001b[0m\u001b[1;36m10\u001b[0m\u001b[1;33m)\u001b[0m\u001b[1;33m)\u001b[0m\u001b[1;33m\u001b[0m\u001b[1;33m\u001b[0m\u001b[0m\n\u001b[0;32m      7\u001b[0m \u001b[0mprint\u001b[0m\u001b[1;33m(\u001b[0m\u001b[0mdf2\u001b[0m\u001b[1;33m)\u001b[0m\u001b[1;33m\u001b[0m\u001b[1;33m\u001b[0m\u001b[0m\n\u001b[1;32m----> 8\u001b[1;33m \u001b[1;33m[\u001b[0m\u001b[0mdf1\u001b[0m\u001b[1;33m,\u001b[0m\u001b[0mdf2\u001b[0m\u001b[1;33m]\u001b[0m\u001b[1;33m.\u001b[0m\u001b[0mcorr\u001b[0m\u001b[1;33m(\u001b[0m\u001b[0mdf2\u001b[0m\u001b[1;33m)\u001b[0m\u001b[1;33m\u001b[0m\u001b[1;33m\u001b[0m\u001b[0m\n\u001b[0m\u001b[0;32m      9\u001b[0m \u001b[1;33m\u001b[0m\u001b[0m\n\u001b[0;32m     10\u001b[0m \u001b[1;31m# sal[\"Job_Title\"] = sal[\"JobTitle\"].apply(lambda x:len(x))\u001b[0m\u001b[1;33m\u001b[0m\u001b[1;33m\u001b[0m\u001b[0m\n",
      "\u001b[1;31mAttributeError\u001b[0m: 'list' object has no attribute 'corr'"
     ]
    }
   ],
   "source": [
    "# 15)Bonus: Is there a correlation between length of the Job Title string and Salary?\n",
    "\n",
    "# sal[\"Job_Title\"] = sal[\"JobTitle\"].apply(lambda x:len(x))\n",
    "# sal[[\"Job_Title\",\"TotalPayBenefits\"]].corr()"
   ]
  }
 ],
 "metadata": {
  "kernelspec": {
   "display_name": "Python 3 (ipykernel)",
   "language": "python",
   "name": "python3"
  },
  "language_info": {
   "codemirror_mode": {
    "name": "ipython",
    "version": 3
   },
   "file_extension": ".py",
   "mimetype": "text/x-python",
   "name": "python",
   "nbconvert_exporter": "python",
   "pygments_lexer": "ipython3",
   "version": "3.9.7"
  }
 },
 "nbformat": 4,
 "nbformat_minor": 5
}
