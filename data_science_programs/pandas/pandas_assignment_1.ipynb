{
 "cells": [
  {
   "cell_type": "code",
   "execution_count": 1,
   "id": "411f3356",
   "metadata": {},
   "outputs": [],
   "source": [
    "import pandas as pd\n",
    "import numpy as np"
   ]
  },
  {
   "cell_type": "code",
   "execution_count": 39,
   "id": "4b642bab",
   "metadata": {},
   "outputs": [
    {
     "name": "stdout",
     "output_type": "stream",
     "text": [
      "0    1\n",
      "1    2\n",
      "2    3\n",
      "3    4\n",
      "4    5\n",
      "5    6\n",
      "dtype: int64\n",
      "<class 'pandas.core.series.Series'>\n"
     ]
    }
   ],
   "source": [
    "# 1. Write a Pandas program to create and display a one-dimensional\n",
    "# array-like object containing an array of data using Pandas module.\n",
    "\n",
    "s = pd.Series([1,2,3,4,5,6]) \n",
    "print(s)"
   ]
  },
  {
   "cell_type": "code",
   "execution_count": 46,
   "id": "8a831468",
   "metadata": {},
   "outputs": [
    {
     "name": "stdout",
     "output_type": "stream",
     "text": [
      "0    1\n",
      "1    2\n",
      "2    3\n",
      "3    4\n",
      "4    5\n",
      "5    6\n",
      "dtype: int64\n",
      "<class 'pandas.core.series.Series'>\n",
      "[1, 2, 3, 4, 5, 6]\n",
      "<class 'list'>\n"
     ]
    }
   ],
   "source": [
    "# 2. Write a Pandas program to convert a Panda module Series to\n",
    "# Python list and it's type.\n",
    "\n",
    "s = pd.Series([1,2,3,4,5,6]) \n",
    "print(s)\n",
    "print(type(s))\n",
    "\n",
    "list1 = s.tolist()\n",
    "print(list1)\n",
    "print(type(list1))"
   ]
  },
  {
   "cell_type": "code",
   "execution_count": 47,
   "id": "c3ad96a0",
   "metadata": {},
   "outputs": [
    {
     "name": "stdout",
     "output_type": "stream",
     "text": [
      "Addition\n",
      "0     3\n",
      "1     7\n",
      "2    11\n",
      "3    15\n",
      "4    19\n",
      "dtype: int64\n",
      "\n",
      "Substraction\n",
      "0    1\n",
      "1    1\n",
      "2    1\n",
      "3    1\n",
      "4    1\n",
      "dtype: int64\n",
      "\n",
      "Multipication\n",
      "0     2\n",
      "1    12\n",
      "2    30\n",
      "3    56\n",
      "4    90\n",
      "dtype: int64\n",
      "\n",
      "Division\n",
      "0    2.000000\n",
      "1    1.333333\n",
      "2    1.200000\n",
      "3    1.142857\n",
      "4    1.111111\n",
      "dtype: float64\n"
     ]
    }
   ],
   "source": [
    "# 3. Write a Pandas program to add, subtract, multiple and divide\n",
    "# two Pandas Series.\n",
    "\n",
    "s1 = pd.Series([2, 4, 6, 8, 10])\n",
    "s2 = pd.Series([1, 3, 5, 7, 9])\n",
    "print(\"Addition\")\n",
    "print(s1+s2)\n",
    "print(\"\\nSubstraction\")\n",
    "print(s1-s2)\n",
    "print(\"\\nMultipication\")\n",
    "print(s1*s2)\n",
    "print(\"\\nDivision\")\n",
    "print(s1/s2)"
   ]
  },
  {
   "cell_type": "code",
   "execution_count": 118,
   "id": "81ee4027",
   "metadata": {},
   "outputs": [
    {
     "name": "stdout",
     "output_type": "stream",
     "text": [
      "s1\n",
      "0     2\n",
      "1     4\n",
      "2     6\n",
      "3     8\n",
      "4    10\n",
      "dtype: int64 \n",
      "\n",
      "s2\n",
      "0    1\n",
      "1    3\n",
      "2    5\n",
      "3    7\n",
      "4    9\n",
      "dtype: int64 \n",
      "\n",
      "Greater than\n",
      "0    True\n",
      "1    True\n",
      "2    True\n",
      "3    True\n",
      "4    True\n",
      "dtype: bool\n",
      "\n",
      "lesser than\n",
      "0    False\n",
      "1    False\n",
      "2    False\n",
      "3    False\n",
      "4    False\n",
      "dtype: bool\n",
      "\n",
      "Equal to\n",
      "0    False\n",
      "1    False\n",
      "2    False\n",
      "3    False\n",
      "4    False\n",
      "dtype: bool\n"
     ]
    }
   ],
   "source": [
    "# 4.Write a Pandas program to compare the elements of the two\n",
    "# Pandas Series.\n",
    "\n",
    "s1 = pd.Series([2, 4, 6, 8, 10])\n",
    "s2 = pd.Series([1, 3, 5, 7, 9])\n",
    "print(\"s1\")\n",
    "print(s1,\"\\n\")\n",
    "print(\"s2\")\n",
    "print(s2,\"\\n\")\n",
    "print(\"Greater than\")\n",
    "print(s1>s2)\n",
    "print(\"\\nlesser than\")\n",
    "print(s1<s2)\n",
    "print(\"\\nEqual to\")\n",
    "print(s1==s2)"
   ]
  },
  {
   "cell_type": "code",
   "execution_count": 56,
   "id": "6bfdc87c",
   "metadata": {},
   "outputs": [
    {
     "name": "stdout",
     "output_type": "stream",
     "text": [
      "{'a': 100, 'b': 200, 'c': 300, 'd': 400, 'e': 800}\n",
      "<class 'dict'> \n",
      "\n",
      "a    100\n",
      "b    200\n",
      "c    300\n",
      "d    400\n",
      "e    800\n",
      "dtype: int64\n",
      "<class 'pandas.core.series.Series'>\n"
     ]
    }
   ],
   "source": [
    "# 5. Write a Pandas program to convert a dictionary to a Pandas\n",
    "# series.\n",
    "\n",
    "dict_1 = {'a': 100, 'b': 200, 'c': 300, 'd': 400, 'e': 800}\n",
    "print(dict_1)\n",
    "print(type(dict_1),\"\\n\")\n",
    "\n",
    "s = pd.Series(dict_1)\n",
    "print(s)\n",
    "print(type(s))"
   ]
  },
  {
   "cell_type": "code",
   "execution_count": 62,
   "id": "c188bd1b",
   "metadata": {},
   "outputs": [
    {
     "name": "stdout",
     "output_type": "stream",
     "text": [
      "[10 20 30 40 50]\n",
      "<class 'numpy.ndarray'> \n",
      "\n",
      "0    10\n",
      "1    20\n",
      "2    30\n",
      "3    40\n",
      "4    50\n",
      "dtype: int32\n",
      "<class 'pandas.core.series.Series'>\n"
     ]
    }
   ],
   "source": [
    "# 6. Write a Pandas program to convert a NumPy array to a Pandas\n",
    "# series.\n",
    "\n",
    "array_1 = np.array([10,20,30,40,50])\n",
    "print(array_1)\n",
    "print(type(array_1),\"\\n\")\n",
    "\n",
    "s = pd.Series(array_1)\n",
    "print(s)\n",
    "print(type(s))"
   ]
  },
  {
   "cell_type": "code",
   "execution_count": 77,
   "id": "194a49a7",
   "metadata": {},
   "outputs": [
    {
     "name": "stdout",
     "output_type": "stream",
     "text": [
      "0       100\n",
      "1       200\n",
      "2    python\n",
      "3    300.12\n",
      "4       400\n",
      "dtype: object \n",
      "\n",
      "0    100.00\n",
      "1    200.00\n",
      "2       NaN\n",
      "3    300.12\n",
      "4    400.00\n",
      "dtype: float64\n"
     ]
    }
   ],
   "source": [
    "# 7. Write a Pandas program to change the data type of given a\n",
    "# column or a Series.\n",
    "\n",
    "s1 = pd.Series([100,200,\"python\",300.12,400])\n",
    "print(s1,\"\\n\")\n",
    "\n",
    "s2 = pd.to_numeric(s1,errors = 'coerce')\n",
    "print(s2)"
   ]
  },
  {
   "cell_type": "code",
   "execution_count": 107,
   "id": "cb364816",
   "metadata": {},
   "outputs": [
    {
     "name": "stdout",
     "output_type": "stream",
     "text": [
      "   col1  col2  col3\n",
      "0     1     4     7\n",
      "1     2     5     5\n",
      "2     3     6     8\n",
      "3     4     9    12\n",
      "4     7     5     1\n",
      "5    11     0    11 \n",
      "\n",
      "0     1\n",
      "1     2\n",
      "2     3\n",
      "3     4\n",
      "4     7\n",
      "5    11\n",
      "Name: col1, dtype: int64\n"
     ]
    }
   ],
   "source": [
    "# 8.Write a Pandas program to convert the first column of a\n",
    "# DataFrame as a Series.\n",
    "\n",
    "dict_1 = {'col1':[1,2,3,4,7,11],'col2':[4,5,6,9,5,0],'col3':[7,5,8,12,1,11]}\n",
    "df = pd.DataFrame(dict_1)\n",
    "print(df,\"\\n\")\n",
    "\n",
    "s = df.iloc[:,0]\n",
    "print(s)"
   ]
  },
  {
   "cell_type": "code",
   "execution_count": 95,
   "id": "ffab0d70",
   "metadata": {},
   "outputs": [
    {
     "name": "stdout",
     "output_type": "stream",
     "text": [
      "0       100\n",
      "1       200\n",
      "2    python\n",
      "3    300.12\n",
      "4       400\n",
      "dtype: object \n",
      "\n",
      "[100 200 'python' 300.12 400]\n"
     ]
    }
   ],
   "source": [
    "# 9. Write a Pandas program to convert a given Series to an array.\n",
    "# Sample Output:\n",
    "\n",
    "s1 = pd.Series([100,200,\"python\",300.12,400])\n",
    "print(s1,\"\\n\")\n",
    "\n",
    "s2 = s1.to_numpy()\n",
    "print(s2)"
   ]
  },
  {
   "cell_type": "code",
   "execution_count": 38,
   "id": "6e480ca8",
   "metadata": {},
   "outputs": [
    {
     "name": "stdout",
     "output_type": "stream",
     "text": [
      "0    [red, green, white]\n",
      "1           [red, black]\n",
      "2               [yellow]\n",
      "dtype: object \n",
      "\n",
      "0       red\n",
      "1     green\n",
      "2     white\n",
      "3       red\n",
      "4     black\n",
      "5    yellow\n",
      "dtype: object\n"
     ]
    }
   ],
   "source": [
    "# 10.Write a Pandas program to convert Series of lists to one\n",
    "# Series.\n",
    "\n",
    "s1 = pd.Series([['red','green','white'],['red','black'],['yellow']])\n",
    "print(s1,\"\\n\")\n",
    "\n",
    "s2 = s1.apply(pd.Series).stack().reset_index(drop = True)\n",
    "print(s2)"
   ]
  },
  {
   "cell_type": "code",
   "execution_count": 46,
   "id": "54cdd722",
   "metadata": {},
   "outputs": [
    {
     "name": "stdout",
     "output_type": "stream",
     "text": [
      "0       100\n",
      "1       200\n",
      "2    python\n",
      "3    300.12\n",
      "4       400\n",
      "dtype: object \n",
      "\n",
      "0       100\n",
      "1       200\n",
      "3    300.12\n",
      "4       400\n",
      "2    python\n",
      "dtype: object\n"
     ]
    }
   ],
   "source": [
    "# 11.Write a Pandas program to sort a given Series.\n",
    "\n",
    "s = pd.Series([\"100\",\"200\",\"python\",\"300.12\",\"400\"])\n",
    "print(s,\"\\n\")\n",
    "print(s.sort_values())"
   ]
  },
  {
   "cell_type": "code",
   "execution_count": 136,
   "id": "f850a26b",
   "metadata": {},
   "outputs": [
    {
     "name": "stdout",
     "output_type": "stream",
     "text": [
      "0       100\n",
      "1       200\n",
      "2    python\n",
      "3    300.12\n",
      "4       400\n",
      "dtype: object \n",
      "\n",
      "0       100\n",
      "1       200\n",
      "2    python\n",
      "3    300.12\n",
      "4       400\n",
      "0       500\n",
      "1       php\n",
      "dtype: object\n"
     ]
    }
   ],
   "source": [
    "# 12. Write a Pandas program to add some data to an existing Series.\n",
    "\n",
    "s1 = pd.Series([100,200,\"python\",300.12,400])\n",
    "print(s1,\"\\n\")\n",
    "s2 = pd.Series([500,\"php\"])\n",
    "print(pd.concat([s1,s2]))"
   ]
  },
  {
   "cell_type": "code",
   "execution_count": 149,
   "id": "04cde950",
   "metadata": {},
   "outputs": [
    {
     "name": "stdout",
     "output_type": "stream",
     "text": [
      "0      0\n",
      "1      1\n",
      "2      2\n",
      "3      3\n",
      "4      4\n",
      "5      5\n",
      "6      6\n",
      "7      7\n",
      "8      8\n",
      "9      9\n",
      "10    10\n",
      "dtype: int32 \n",
      "\n",
      "0    0\n",
      "1    1\n",
      "2    2\n",
      "3    3\n",
      "4    4\n",
      "5    5\n",
      "dtype: int32\n"
     ]
    }
   ],
   "source": [
    "# 13.Write a Pandas program to create a subset of a given series\n",
    "# based on value and condition.\n",
    "\n",
    "s= pd.Series(np.arange(11))\n",
    "print(s,\"\\n\")\n",
    "print(s.head(6))"
   ]
  },
  {
   "cell_type": "code",
   "execution_count": 156,
   "id": "a4a620d7",
   "metadata": {},
   "outputs": [
    {
     "name": "stdout",
     "output_type": "stream",
     "text": [
      "A    1\n",
      "B    2\n",
      "C    3\n",
      "D    4\n",
      "E    5\n",
      "dtype: int64 \n",
      "\n",
      "B    2\n",
      "A    1\n",
      "C    3\n",
      "D    4\n",
      "E    5\n",
      "dtype: int64\n"
     ]
    }
   ],
   "source": [
    "# 14. Write a Pandas program to change the order of index of a given\n",
    "# series.\n",
    "\n",
    "s = pd.Series([1,2,3,4,5],index=['A','B','C','D','E'])\n",
    "print(s,\"\\n\")\n",
    "print(s.reindex(index=['B','A','C','D','E']))"
   ]
  },
  {
   "cell_type": "code",
   "execution_count": 161,
   "id": "d9470f68",
   "metadata": {},
   "outputs": [
    {
     "name": "stdout",
     "output_type": "stream",
     "text": [
      "0     1\n",
      "1     2\n",
      "2     3\n",
      "3     4\n",
      "4     5\n",
      "5     6\n",
      "6     7\n",
      "7     8\n",
      "8     9\n",
      "9     5\n",
      "10    3\n",
      "dtype: int64 \n",
      "\n",
      "mean\n",
      "4.818181818181818\n",
      "\n",
      "standard deviation\n",
      "2.522624895547565\n"
     ]
    }
   ],
   "source": [
    "# 15. Write a Pandas program to create the mean and standard\n",
    "# deviation of the data of a given Series.\n",
    "\n",
    "s = pd.Series([1,2,3,4,5,6,7,8,9,5,3])\n",
    "print(s,\"\\n\")\n",
    "print(\"mean\")\n",
    "print(s.mean())\n",
    "print(\"\\nstandard deviation\")\n",
    "print(s.std())"
   ]
  },
  {
   "cell_type": "code",
   "execution_count": 175,
   "id": "d05f130a",
   "metadata": {},
   "outputs": [
    {
     "name": "stdout",
     "output_type": "stream",
     "text": [
      "0    1\n",
      "1    2\n",
      "2    3\n",
      "3    4\n",
      "4    5\n",
      "dtype: int64 \n",
      "\n",
      "0     2\n",
      "1     4\n",
      "2     6\n",
      "3     8\n",
      "4    10\n",
      "dtype: int64 \n",
      "\n",
      "0    1\n",
      "2    3\n",
      "4    5\n",
      "dtype: int64\n"
     ]
    }
   ],
   "source": [
    "# 16. Write a Pandas program to get the items of a given series not\n",
    "# present in another given series.\n",
    "\n",
    "s1 = pd.Series([1,2,3,4,5])\n",
    "print(s1,\"\\n\")\n",
    "s2 = pd.Series([2,4,6,8,10])\n",
    "print(s2,\"\\n\")\n",
    "\n",
    "print(s1[~s1.isin(s2)])"
   ]
  },
  {
   "cell_type": "code",
   "execution_count": 43,
   "id": "e1e2cb58",
   "metadata": {},
   "outputs": [
    {
     "name": "stdout",
     "output_type": "stream",
     "text": [
      "0    1\n",
      "1    2\n",
      "2    3\n",
      "3    4\n",
      "4    5\n",
      "dtype: int64 \n",
      "\n",
      "0     2\n",
      "1     4\n",
      "2     6\n",
      "3     8\n",
      "4    10\n",
      "dtype: int64 \n",
      "\n",
      "0    1\n",
      "2    3\n",
      "4    5\n",
      "dtype: int64\n"
     ]
    }
   ],
   "source": [
    "# 17. Write a Pandas program to get the items which are not common\n",
    "# of two given series.\n",
    "\n",
    "s1 = pd.Series([1,2,3,4,5])\n",
    "print(s1,\"\\n\")\n",
    "s2 = pd.Series([2,4,6,8,10])\n",
    "print(s2,\"\\n\")\n",
    "print(s1[~s1.isin(s2)])"
   ]
  },
  {
   "cell_type": "code",
   "execution_count": 196,
   "id": "2eb99bea",
   "metadata": {},
   "outputs": [
    {
     "name": "stdout",
     "output_type": "stream",
     "text": [
      "0      0\n",
      "1      1\n",
      "2      2\n",
      "3      3\n",
      "4      4\n",
      "5      5\n",
      "6      6\n",
      "7      7\n",
      "8      8\n",
      "9      9\n",
      "10    10\n",
      "11    11\n",
      "12    12\n",
      "13    13\n",
      "14    14\n",
      "15    15\n",
      "16    16\n",
      "17    17\n",
      "18    18\n",
      "19    19\n",
      "20    20\n",
      "dtype: int32 \n",
      "\n",
      "Minimum\n",
      "0\n",
      "\n",
      "25th Percentile\n",
      "5.0\n",
      "\n",
      "Median\n",
      "10.0\n",
      "\n",
      "75th Percentile\n",
      "15.0\n",
      "\n",
      "Maximum\n",
      "20\n"
     ]
    }
   ],
   "source": [
    "# 18.Write a Pandas program to compute the minimum, 25th\n",
    "# percentile, median, 75th, and maximum of a given series.\n",
    "\n",
    "s = pd.Series(np.arange(21))\n",
    "print(s,\"\\n\")\n",
    "print(\"Minimum\")\n",
    "print(s.min())\n",
    "print(\"\\n25th Percentile\")\n",
    "print(s.quantile(.25))\n",
    "print(\"\\nMedian\")\n",
    "print(s.median())\n",
    "print(\"\\n75th Percentile\")\n",
    "print(s.quantile(.75))\n",
    "print(\"\\nMaximum\")\n",
    "print(s.max())"
   ]
  },
  {
   "cell_type": "code",
   "execution_count": 2,
   "id": "a1e93f6e",
   "metadata": {},
   "outputs": [
    {
     "name": "stdout",
     "output_type": "stream",
     "text": [
      "0    9\n",
      "2    7\n",
      "9    6\n",
      "1    5\n",
      "7    3\n",
      "8    3\n",
      "6    3\n",
      "3    2\n",
      "4    1\n",
      "5    1\n",
      "dtype: int64\n"
     ]
    }
   ],
   "source": [
    "# 19. Write a Pandas program to calculate the frequency counts of\n",
    "# each unique value of a given series.\n",
    "\n",
    "s = pd.Series([4,0,7,9,2,8,9,5,2,9,8,1,9,6,0,8,2,0,3,9,0,2,0,1,6,1,3,1,6,1,2,0,2,7,0,9,0,2,0,7])\n",
    "print(s.value_counts())"
   ]
  },
  {
   "cell_type": "code",
   "execution_count": 36,
   "id": "19986d0a",
   "metadata": {},
   "outputs": [
    {
     "name": "stdout",
     "output_type": "stream",
     "text": [
      "0     others\n",
      "1          0\n",
      "2     others\n",
      "3     others\n",
      "4     others\n",
      "5     others\n",
      "6     others\n",
      "7     others\n",
      "8     others\n",
      "9     others\n",
      "10    others\n",
      "11    others\n",
      "12    others\n",
      "13    others\n",
      "14         0\n",
      "15    others\n",
      "16    others\n",
      "17         0\n",
      "18    others\n",
      "19    others\n",
      "20         0\n",
      "21    others\n",
      "22         0\n",
      "23    others\n",
      "24    others\n",
      "25    others\n",
      "26    others\n",
      "27    others\n",
      "28    others\n",
      "29    others\n",
      "30    others\n",
      "31         0\n",
      "32    others\n",
      "33    others\n",
      "34         0\n",
      "35    others\n",
      "36         0\n",
      "37    others\n",
      "38         0\n",
      "39    others\n",
      "dtype: object\n"
     ]
    }
   ],
   "source": [
    "# 20. Write a Pandas program to display most frequent value in a\n",
    "# given series and replace everything else as 'Other' in the series.\n",
    "\n",
    "s = pd.Series([4,0,7,9,2,8,9,5,2,9,8,1,9,6,0,8,2,0,3,9,0,2,0,1,6,1,3,1,6,1,2,0,2,7,0,9,0,2,0,7])\n",
    "s[~s.isin(s.value_counts().index[:1])] = 'others'\n",
    "print(s)"
   ]
  },
  {
   "cell_type": "code",
   "execution_count": 9,
   "id": "092de2d9",
   "metadata": {},
   "outputs": [
    {
     "name": "stdout",
     "output_type": "stream",
     "text": [
      "(array([4, 9], dtype=int64),)\n"
     ]
    }
   ],
   "source": [
    "# 21. Write a Pandas program to find the positions of numbers that\n",
    "# are multiples of 5 of a given series.\n",
    "\n",
    "s = pd.Series([1,2,3,4,5,6,7,8,9,10])\n",
    "s2 = np.where(s%5 == 0)\n",
    "print(s2)"
   ]
  }
 ],
 "metadata": {
  "kernelspec": {
   "display_name": "Python 3 (ipykernel)",
   "language": "python",
   "name": "python3"
  },
  "language_info": {
   "codemirror_mode": {
    "name": "ipython",
    "version": 3
   },
   "file_extension": ".py",
   "mimetype": "text/x-python",
   "name": "python",
   "nbconvert_exporter": "python",
   "pygments_lexer": "ipython3",
   "version": "3.9.7"
  }
 },
 "nbformat": 4,
 "nbformat_minor": 5
}
